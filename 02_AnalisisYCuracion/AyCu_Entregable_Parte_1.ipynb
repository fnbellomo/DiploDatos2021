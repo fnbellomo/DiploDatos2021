{
  "nbformat": 4,
  "nbformat_minor": 0,
  "metadata": {
    "colab": {
      "name": "AyCu - Entregable - Parte 1.ipynb",
      "provenance": [],
      "collapsed_sections": [],
      "include_colab_link": true
    },
    "kernelspec": {
      "display_name": "Python 3",
      "language": "python",
      "name": "python3"
    },
    "language_info": {
      "codemirror_mode": {
        "name": "ipython",
        "version": 3
      },
      "file_extension": ".py",
      "mimetype": "text/x-python",
      "name": "python",
      "nbconvert_exporter": "python",
      "pygments_lexer": "ipython3",
      "version": "3.9.2"
    }
  },
  "cells": [
    {
      "cell_type": "markdown",
      "metadata": {
        "id": "view-in-github",
        "colab_type": "text"
      },
      "source": [
        "<a href=\"https://colab.research.google.com/github/fnbellomo/DiploDatos2021/blob/main/02_AnalisisYCuracion/AyCu_Entregable_Parte_1.ipynb\" target=\"_parent\"><img src=\"https://colab.research.google.com/assets/colab-badge.svg\" alt=\"Open In Colab\"/></a>"
      ]
    },
    {
      "cell_type": "markdown",
      "metadata": {
        "id": "zO4bRoxr2Apy"
      },
      "source": [
        "**Diplomatura en Ciencia de Datos, Aprendizaje Automático y sus Aplicaciones**\n",
        "\n",
        "**Exploración y Curación de Datos**\n",
        "\n",
        "*Edición 2021*\n",
        "\n",
        "----\n",
        "\n",
        "# Trabajo práctico entregable - parte 1\n",
        "\n",
        "En esta notebook, vamos a cargar el conjunto de datos de [la compentencia Kaggle](https://www.kaggle.com/dansbecker/melbourne-housing-snapshot) sobre estimación de precios de ventas de propiedades en Melbourne, Australia.\n",
        "\n",
        "Utilizaremos el conjunto de datos reducido producido por [DanB](https://www.kaggle.com/dansbecker). Hemos subido una copia a un servidor de la Universidad Nacional de Córdoba para facilitar su acceso remoto."
      ]
    },
    {
      "cell_type": "code",
      "metadata": {
        "id": "4udjxjk1EtVU"
      },
      "source": [
        "import numpy as np\n",
        "import pandas as pd\n",
        "import seaborn as sns\n",
        "import matplotlib.pyplot as plt\n",
        "from sklearn.preprocessing import LabelEncoder\n",
        "import math\n",
        "\n",
        "sns.set_context('talk')\n",
        "sns.set_style('darkgrid')\n",
        "pd.set_option(\"display.max_columns\", None)"
      ],
      "execution_count": 1,
      "outputs": []
    },
    {
      "cell_type": "code",
      "metadata": {
        "id": "gyBtnITzWQr2"
      },
      "source": [
        "def is_one_to_one(df, col1, col2):\n",
        "    first = df.drop_duplicates([col1, col2]).groupby(col1)[col2].count().max()\n",
        "    second = df.drop_duplicates([col1, col2]).groupby(col2)[col1].count().max()\n",
        "    return first + second == 2"
      ],
      "execution_count": 2,
      "outputs": []
    },
    {
      "cell_type": "code",
      "metadata": {
        "id": "cuor1amTWQr2"
      },
      "source": [
        "def haversine_np(lon1, lat1, lon2, lat2):\n",
        "    \"\"\"\n",
        "    Calculate the great circle distance between two points\n",
        "    on the earth (specified in decimal degrees)\n",
        "    \n",
        "    Thanks https://stackoverflow.com/questions/42877802/pandas-dataframe-join-items-in-range-based-on-their-geo-coordinates-longitude\n",
        "    \"\"\"\n",
        "    lon1, lat1, lon2, lat2 = map(np.radians, [lon1, lat1, lon2, lat2])\n",
        "\n",
        "    dlon = lon2 - lon1\n",
        "    dlat = lat2 - lat1\n",
        "\n",
        "    a = np.sin(dlat/2.0)**2 + np.cos(lat1) * np.cos(lat2) * np.sin(dlon/2.0)**2\n",
        "\n",
        "    c = 2 * np.arcsin(np.sqrt(a))\n",
        "    km = 6367 * c\n",
        "    return km"
      ],
      "execution_count": 3,
      "outputs": []
    },
    {
      "cell_type": "markdown",
      "metadata": {
        "id": "s-mixICN22kA"
      },
      "source": [
        "## Ejercicio 1: \n",
        "\n",
        "1. Eliminar los valores extremos que no sean relevantes para la predicción de valores de las propiedades."
      ]
    },
    {
      "cell_type": "code",
      "metadata": {
        "colab": {
          "base_uri": "https://localhost:8080/",
          "height": 343
        },
        "id": "KzZYlMSdWQr3",
        "outputId": "635e1439-b90a-49c9-e83b-5c9b9adc4161"
      },
      "source": [
        "melb_df = pd.read_csv(\n",
        "    \"https://cs.famaf.unc.edu.ar/~mteruel/datasets/diplodatos/melb_data.csv\",\n",
        "    parse_dates=[\"Date\"]\n",
        ")\n",
        "\n",
        "# Transformamos las col cat 'type' y 'method' a numericas\n",
        "melb_df[\"seller_cat\"] = LabelEncoder().fit_transform(melb_df.SellerG)\n",
        "melb_df[\"method_cat\"] = LabelEncoder().fit_transform(melb_df.Method)\n",
        "melb_df[\"type_cat\"] = LabelEncoder().fit_transform(melb_df.Type)\n",
        "melb_df[\"suburb_cat\"] = LabelEncoder().fit_transform(melb_df.Suburb)\n",
        "melb_df[\"region_name_cat\"] = LabelEncoder().fit_transform(melb_df.Regionname)\n",
        "melb_df[\"council_area_cat\"] = LabelEncoder().fit_transform(melb_df.CouncilArea.fillna('NaN'))\n",
        "\n",
        "# Ordeno un poco las columnas y unifico los nombres a snake_cases\n",
        "melb_df = melb_df[[\n",
        "    \"Date\",\n",
        "    \"SellerG\",\n",
        "    \"Method\",\n",
        "    \"Type\",\n",
        "    \"Regionname\",\n",
        "    \"Suburb\",\n",
        "    \"CouncilArea\",\n",
        "    \"Address\",\n",
        "    \"seller_cat\",\n",
        "    \"method_cat\",\n",
        "    \"type_cat\",\n",
        "    \"region_name_cat\",\n",
        "    \"council_area_cat\",\n",
        "    \"suburb_cat\",\n",
        "    \"Postcode\",\n",
        "    \"Lattitude\",\n",
        "    \"Longtitude\",\n",
        "    \"Distance\",\n",
        "    \"Propertycount\",\n",
        "    \"Price\",\n",
        "    \"YearBuilt\",\n",
        "    \"Landsize\",\n",
        "    \"BuildingArea\",\n",
        "    \"Rooms\",\n",
        "    \"Bedroom2\",\n",
        "    \"Bathroom\",\n",
        "    \"Car\",\n",
        "]]\n",
        "\n",
        "melb_df.columns = [\n",
        "    \"date\",\n",
        "    \"seller\",\n",
        "    \"method\",\n",
        "    \"type\",\n",
        "    \"region_name\",\n",
        "    \"suburb\",\n",
        "    \"council_area\",\n",
        "    \"address\",\n",
        "    \"seller_cat\",\n",
        "    \"method_cat\",\n",
        "    \"type_cat\",\n",
        "    \"region_name_cat\",\n",
        "    \"council_area_cat\",\n",
        "    \"suburb_cat\",\n",
        "    \"postcode\",\n",
        "    \"lat\",\n",
        "    \"lng\",\n",
        "    \"distance\",\n",
        "    \"property_count\",\n",
        "    \"price\",\n",
        "    \"year_built\",\n",
        "    \"land_size\",\n",
        "    \"building_area\",\n",
        "    \"rooms\",\n",
        "    \"bedroom_2\",\n",
        "    \"bathroom\",\n",
        "    \"car\",\n",
        "]\n",
        "\n",
        "for col in [\"postcode\", \"property_count\", \"bedroom_2\", \"bathroom\"]:\n",
        "    melb_df[col] = melb_df[col].astype(int)\n",
        "\n",
        "melb_df.head()"
      ],
      "execution_count": 4,
      "outputs": [
        {
          "output_type": "execute_result",
          "data": {
            "text/html": [
              "<div>\n",
              "<style scoped>\n",
              "    .dataframe tbody tr th:only-of-type {\n",
              "        vertical-align: middle;\n",
              "    }\n",
              "\n",
              "    .dataframe tbody tr th {\n",
              "        vertical-align: top;\n",
              "    }\n",
              "\n",
              "    .dataframe thead th {\n",
              "        text-align: right;\n",
              "    }\n",
              "</style>\n",
              "<table border=\"1\" class=\"dataframe\">\n",
              "  <thead>\n",
              "    <tr style=\"text-align: right;\">\n",
              "      <th></th>\n",
              "      <th>date</th>\n",
              "      <th>seller</th>\n",
              "      <th>method</th>\n",
              "      <th>type</th>\n",
              "      <th>region_name</th>\n",
              "      <th>suburb</th>\n",
              "      <th>council_area</th>\n",
              "      <th>address</th>\n",
              "      <th>seller_cat</th>\n",
              "      <th>method_cat</th>\n",
              "      <th>type_cat</th>\n",
              "      <th>region_name_cat</th>\n",
              "      <th>council_area_cat</th>\n",
              "      <th>suburb_cat</th>\n",
              "      <th>postcode</th>\n",
              "      <th>lat</th>\n",
              "      <th>lng</th>\n",
              "      <th>distance</th>\n",
              "      <th>property_count</th>\n",
              "      <th>price</th>\n",
              "      <th>year_built</th>\n",
              "      <th>land_size</th>\n",
              "      <th>building_area</th>\n",
              "      <th>rooms</th>\n",
              "      <th>bedroom_2</th>\n",
              "      <th>bathroom</th>\n",
              "      <th>car</th>\n",
              "    </tr>\n",
              "  </thead>\n",
              "  <tbody>\n",
              "    <tr>\n",
              "      <th>0</th>\n",
              "      <td>2016-03-12</td>\n",
              "      <td>Biggin</td>\n",
              "      <td>S</td>\n",
              "      <td>h</td>\n",
              "      <td>Northern Metropolitan</td>\n",
              "      <td>Abbotsford</td>\n",
              "      <td>Yarra</td>\n",
              "      <td>85 Turner St</td>\n",
              "      <td>23</td>\n",
              "      <td>1</td>\n",
              "      <td>0</td>\n",
              "      <td>2</td>\n",
              "      <td>32</td>\n",
              "      <td>0</td>\n",
              "      <td>3067</td>\n",
              "      <td>-37.7996</td>\n",
              "      <td>144.9984</td>\n",
              "      <td>2.5</td>\n",
              "      <td>4019</td>\n",
              "      <td>1480000.0</td>\n",
              "      <td>NaN</td>\n",
              "      <td>202.0</td>\n",
              "      <td>NaN</td>\n",
              "      <td>2</td>\n",
              "      <td>2</td>\n",
              "      <td>1</td>\n",
              "      <td>1.0</td>\n",
              "    </tr>\n",
              "    <tr>\n",
              "      <th>1</th>\n",
              "      <td>2016-04-02</td>\n",
              "      <td>Biggin</td>\n",
              "      <td>S</td>\n",
              "      <td>h</td>\n",
              "      <td>Northern Metropolitan</td>\n",
              "      <td>Abbotsford</td>\n",
              "      <td>Yarra</td>\n",
              "      <td>25 Bloomburg St</td>\n",
              "      <td>23</td>\n",
              "      <td>1</td>\n",
              "      <td>0</td>\n",
              "      <td>2</td>\n",
              "      <td>32</td>\n",
              "      <td>0</td>\n",
              "      <td>3067</td>\n",
              "      <td>-37.8079</td>\n",
              "      <td>144.9934</td>\n",
              "      <td>2.5</td>\n",
              "      <td>4019</td>\n",
              "      <td>1035000.0</td>\n",
              "      <td>1900.0</td>\n",
              "      <td>156.0</td>\n",
              "      <td>79.0</td>\n",
              "      <td>2</td>\n",
              "      <td>2</td>\n",
              "      <td>1</td>\n",
              "      <td>0.0</td>\n",
              "    </tr>\n",
              "    <tr>\n",
              "      <th>2</th>\n",
              "      <td>2017-04-03</td>\n",
              "      <td>Biggin</td>\n",
              "      <td>SP</td>\n",
              "      <td>h</td>\n",
              "      <td>Northern Metropolitan</td>\n",
              "      <td>Abbotsford</td>\n",
              "      <td>Yarra</td>\n",
              "      <td>5 Charles St</td>\n",
              "      <td>23</td>\n",
              "      <td>3</td>\n",
              "      <td>0</td>\n",
              "      <td>2</td>\n",
              "      <td>32</td>\n",
              "      <td>0</td>\n",
              "      <td>3067</td>\n",
              "      <td>-37.8093</td>\n",
              "      <td>144.9944</td>\n",
              "      <td>2.5</td>\n",
              "      <td>4019</td>\n",
              "      <td>1465000.0</td>\n",
              "      <td>1900.0</td>\n",
              "      <td>134.0</td>\n",
              "      <td>150.0</td>\n",
              "      <td>3</td>\n",
              "      <td>3</td>\n",
              "      <td>2</td>\n",
              "      <td>0.0</td>\n",
              "    </tr>\n",
              "    <tr>\n",
              "      <th>3</th>\n",
              "      <td>2017-04-03</td>\n",
              "      <td>Biggin</td>\n",
              "      <td>PI</td>\n",
              "      <td>h</td>\n",
              "      <td>Northern Metropolitan</td>\n",
              "      <td>Abbotsford</td>\n",
              "      <td>Yarra</td>\n",
              "      <td>40 Federation La</td>\n",
              "      <td>23</td>\n",
              "      <td>0</td>\n",
              "      <td>0</td>\n",
              "      <td>2</td>\n",
              "      <td>32</td>\n",
              "      <td>0</td>\n",
              "      <td>3067</td>\n",
              "      <td>-37.7969</td>\n",
              "      <td>144.9969</td>\n",
              "      <td>2.5</td>\n",
              "      <td>4019</td>\n",
              "      <td>850000.0</td>\n",
              "      <td>NaN</td>\n",
              "      <td>94.0</td>\n",
              "      <td>NaN</td>\n",
              "      <td>3</td>\n",
              "      <td>3</td>\n",
              "      <td>2</td>\n",
              "      <td>1.0</td>\n",
              "    </tr>\n",
              "    <tr>\n",
              "      <th>4</th>\n",
              "      <td>2016-04-06</td>\n",
              "      <td>Nelson</td>\n",
              "      <td>VB</td>\n",
              "      <td>h</td>\n",
              "      <td>Northern Metropolitan</td>\n",
              "      <td>Abbotsford</td>\n",
              "      <td>Yarra</td>\n",
              "      <td>55a Park St</td>\n",
              "      <td>155</td>\n",
              "      <td>4</td>\n",
              "      <td>0</td>\n",
              "      <td>2</td>\n",
              "      <td>32</td>\n",
              "      <td>0</td>\n",
              "      <td>3067</td>\n",
              "      <td>-37.8072</td>\n",
              "      <td>144.9941</td>\n",
              "      <td>2.5</td>\n",
              "      <td>4019</td>\n",
              "      <td>1600000.0</td>\n",
              "      <td>2014.0</td>\n",
              "      <td>120.0</td>\n",
              "      <td>142.0</td>\n",
              "      <td>4</td>\n",
              "      <td>3</td>\n",
              "      <td>1</td>\n",
              "      <td>2.0</td>\n",
              "    </tr>\n",
              "  </tbody>\n",
              "</table>\n",
              "</div>"
            ],
            "text/plain": [
              "        date  seller method type            region_name      suburb  \\\n",
              "0 2016-03-12  Biggin      S    h  Northern Metropolitan  Abbotsford   \n",
              "1 2016-04-02  Biggin      S    h  Northern Metropolitan  Abbotsford   \n",
              "2 2017-04-03  Biggin     SP    h  Northern Metropolitan  Abbotsford   \n",
              "3 2017-04-03  Biggin     PI    h  Northern Metropolitan  Abbotsford   \n",
              "4 2016-04-06  Nelson     VB    h  Northern Metropolitan  Abbotsford   \n",
              "\n",
              "  council_area           address  seller_cat  method_cat  type_cat  \\\n",
              "0        Yarra      85 Turner St          23           1         0   \n",
              "1        Yarra   25 Bloomburg St          23           1         0   \n",
              "2        Yarra      5 Charles St          23           3         0   \n",
              "3        Yarra  40 Federation La          23           0         0   \n",
              "4        Yarra       55a Park St         155           4         0   \n",
              "\n",
              "   region_name_cat  council_area_cat  suburb_cat  postcode      lat       lng  \\\n",
              "0                2                32           0      3067 -37.7996  144.9984   \n",
              "1                2                32           0      3067 -37.8079  144.9934   \n",
              "2                2                32           0      3067 -37.8093  144.9944   \n",
              "3                2                32           0      3067 -37.7969  144.9969   \n",
              "4                2                32           0      3067 -37.8072  144.9941   \n",
              "\n",
              "   distance  property_count      price  year_built  land_size  building_area  \\\n",
              "0       2.5            4019  1480000.0         NaN      202.0            NaN   \n",
              "1       2.5            4019  1035000.0      1900.0      156.0           79.0   \n",
              "2       2.5            4019  1465000.0      1900.0      134.0          150.0   \n",
              "3       2.5            4019   850000.0         NaN       94.0            NaN   \n",
              "4       2.5            4019  1600000.0      2014.0      120.0          142.0   \n",
              "\n",
              "   rooms  bedroom_2  bathroom  car  \n",
              "0      2          2         1  1.0  \n",
              "1      2          2         1  0.0  \n",
              "2      3          3         2  0.0  \n",
              "3      3          3         2  1.0  \n",
              "4      4          3         1  2.0  "
            ]
          },
          "metadata": {
            "tags": []
          },
          "execution_count": 4
        }
      ]
    },
    {
      "cell_type": "code",
      "metadata": {
        "colab": {
          "base_uri": "https://localhost:8080/"
        },
        "id": "Kn6JURFQWQr5",
        "outputId": "2116733a-52b1-4b8f-833a-3fd33f827867"
      },
      "source": [
        "melb_df.info()"
      ],
      "execution_count": 5,
      "outputs": [
        {
          "output_type": "stream",
          "text": [
            "<class 'pandas.core.frame.DataFrame'>\n",
            "RangeIndex: 13580 entries, 0 to 13579\n",
            "Data columns (total 27 columns):\n",
            " #   Column            Non-Null Count  Dtype         \n",
            "---  ------            --------------  -----         \n",
            " 0   date              13580 non-null  datetime64[ns]\n",
            " 1   seller            13580 non-null  object        \n",
            " 2   method            13580 non-null  object        \n",
            " 3   type              13580 non-null  object        \n",
            " 4   region_name       13580 non-null  object        \n",
            " 5   suburb            13580 non-null  object        \n",
            " 6   council_area      12211 non-null  object        \n",
            " 7   address           13580 non-null  object        \n",
            " 8   seller_cat        13580 non-null  int64         \n",
            " 9   method_cat        13580 non-null  int64         \n",
            " 10  type_cat          13580 non-null  int64         \n",
            " 11  region_name_cat   13580 non-null  int64         \n",
            " 12  council_area_cat  13580 non-null  int64         \n",
            " 13  suburb_cat        13580 non-null  int64         \n",
            " 14  postcode          13580 non-null  int64         \n",
            " 15  lat               13580 non-null  float64       \n",
            " 16  lng               13580 non-null  float64       \n",
            " 17  distance          13580 non-null  float64       \n",
            " 18  property_count    13580 non-null  int64         \n",
            " 19  price             13580 non-null  float64       \n",
            " 20  year_built        8205 non-null   float64       \n",
            " 21  land_size         13580 non-null  float64       \n",
            " 22  building_area     7130 non-null   float64       \n",
            " 23  rooms             13580 non-null  int64         \n",
            " 24  bedroom_2         13580 non-null  int64         \n",
            " 25  bathroom          13580 non-null  int64         \n",
            " 26  car               13518 non-null  float64       \n",
            "dtypes: datetime64[ns](1), float64(8), int64(11), object(7)\n",
            "memory usage: 2.8+ MB\n"
          ],
          "name": "stdout"
        }
      ]
    },
    {
      "cell_type": "code",
      "metadata": {
        "colab": {
          "base_uri": "https://localhost:8080/",
          "height": 317
        },
        "id": "M-Eg82bxWQr5",
        "outputId": "a9c4e1b5-bfa3-4ea4-e59e-daa6482a38c8"
      },
      "source": [
        "melb_df.describe()"
      ],
      "execution_count": 6,
      "outputs": [
        {
          "output_type": "execute_result",
          "data": {
            "text/html": [
              "<div>\n",
              "<style scoped>\n",
              "    .dataframe tbody tr th:only-of-type {\n",
              "        vertical-align: middle;\n",
              "    }\n",
              "\n",
              "    .dataframe tbody tr th {\n",
              "        vertical-align: top;\n",
              "    }\n",
              "\n",
              "    .dataframe thead th {\n",
              "        text-align: right;\n",
              "    }\n",
              "</style>\n",
              "<table border=\"1\" class=\"dataframe\">\n",
              "  <thead>\n",
              "    <tr style=\"text-align: right;\">\n",
              "      <th></th>\n",
              "      <th>seller_cat</th>\n",
              "      <th>method_cat</th>\n",
              "      <th>type_cat</th>\n",
              "      <th>region_name_cat</th>\n",
              "      <th>council_area_cat</th>\n",
              "      <th>suburb_cat</th>\n",
              "      <th>postcode</th>\n",
              "      <th>lat</th>\n",
              "      <th>lng</th>\n",
              "      <th>distance</th>\n",
              "      <th>property_count</th>\n",
              "      <th>price</th>\n",
              "      <th>year_built</th>\n",
              "      <th>land_size</th>\n",
              "      <th>building_area</th>\n",
              "      <th>rooms</th>\n",
              "      <th>bedroom_2</th>\n",
              "      <th>bathroom</th>\n",
              "      <th>car</th>\n",
              "    </tr>\n",
              "  </thead>\n",
              "  <tbody>\n",
              "    <tr>\n",
              "      <th>count</th>\n",
              "      <td>13580.000000</td>\n",
              "      <td>13580.000000</td>\n",
              "      <td>13580.000000</td>\n",
              "      <td>13580.000000</td>\n",
              "      <td>13580.000000</td>\n",
              "      <td>13580.000000</td>\n",
              "      <td>13580.000000</td>\n",
              "      <td>13580.000000</td>\n",
              "      <td>13580.000000</td>\n",
              "      <td>13580.000000</td>\n",
              "      <td>13580.000000</td>\n",
              "      <td>1.358000e+04</td>\n",
              "      <td>8205.000000</td>\n",
              "      <td>13580.000000</td>\n",
              "      <td>7130.000000</td>\n",
              "      <td>13580.000000</td>\n",
              "      <td>13580.000000</td>\n",
              "      <td>13580.000000</td>\n",
              "      <td>13518.000000</td>\n",
              "    </tr>\n",
              "    <tr>\n",
              "      <th>mean</th>\n",
              "      <td>130.810972</td>\n",
              "      <td>1.407290</td>\n",
              "      <td>0.526362</td>\n",
              "      <td>3.766053</td>\n",
              "      <td>15.890280</td>\n",
              "      <td>155.307953</td>\n",
              "      <td>3105.301915</td>\n",
              "      <td>-37.809203</td>\n",
              "      <td>144.995216</td>\n",
              "      <td>10.137776</td>\n",
              "      <td>7454.417378</td>\n",
              "      <td>1.075684e+06</td>\n",
              "      <td>1964.684217</td>\n",
              "      <td>558.416127</td>\n",
              "      <td>151.967650</td>\n",
              "      <td>2.937997</td>\n",
              "      <td>2.914728</td>\n",
              "      <td>1.534242</td>\n",
              "      <td>1.610075</td>\n",
              "    </tr>\n",
              "    <tr>\n",
              "      <th>std</th>\n",
              "      <td>77.735927</td>\n",
              "      <td>1.119105</td>\n",
              "      <td>0.832878</td>\n",
              "      <td>2.024334</td>\n",
              "      <td>9.970486</td>\n",
              "      <td>90.307844</td>\n",
              "      <td>90.676964</td>\n",
              "      <td>0.079260</td>\n",
              "      <td>0.103916</td>\n",
              "      <td>5.868725</td>\n",
              "      <td>4378.581772</td>\n",
              "      <td>6.393107e+05</td>\n",
              "      <td>37.273762</td>\n",
              "      <td>3990.669241</td>\n",
              "      <td>541.014538</td>\n",
              "      <td>0.955748</td>\n",
              "      <td>0.965921</td>\n",
              "      <td>0.691712</td>\n",
              "      <td>0.962634</td>\n",
              "    </tr>\n",
              "    <tr>\n",
              "      <th>min</th>\n",
              "      <td>0.000000</td>\n",
              "      <td>0.000000</td>\n",
              "      <td>0.000000</td>\n",
              "      <td>0.000000</td>\n",
              "      <td>0.000000</td>\n",
              "      <td>0.000000</td>\n",
              "      <td>3000.000000</td>\n",
              "      <td>-38.182550</td>\n",
              "      <td>144.431810</td>\n",
              "      <td>0.000000</td>\n",
              "      <td>249.000000</td>\n",
              "      <td>8.500000e+04</td>\n",
              "      <td>1196.000000</td>\n",
              "      <td>0.000000</td>\n",
              "      <td>0.000000</td>\n",
              "      <td>1.000000</td>\n",
              "      <td>0.000000</td>\n",
              "      <td>0.000000</td>\n",
              "      <td>0.000000</td>\n",
              "    </tr>\n",
              "    <tr>\n",
              "      <th>25%</th>\n",
              "      <td>73.000000</td>\n",
              "      <td>1.000000</td>\n",
              "      <td>0.000000</td>\n",
              "      <td>2.000000</td>\n",
              "      <td>6.000000</td>\n",
              "      <td>70.000000</td>\n",
              "      <td>3044.000000</td>\n",
              "      <td>-37.856822</td>\n",
              "      <td>144.929600</td>\n",
              "      <td>6.100000</td>\n",
              "      <td>4380.000000</td>\n",
              "      <td>6.500000e+05</td>\n",
              "      <td>1940.000000</td>\n",
              "      <td>177.000000</td>\n",
              "      <td>93.000000</td>\n",
              "      <td>2.000000</td>\n",
              "      <td>2.000000</td>\n",
              "      <td>1.000000</td>\n",
              "      <td>1.000000</td>\n",
              "    </tr>\n",
              "    <tr>\n",
              "      <th>50%</th>\n",
              "      <td>135.000000</td>\n",
              "      <td>1.000000</td>\n",
              "      <td>0.000000</td>\n",
              "      <td>5.000000</td>\n",
              "      <td>18.000000</td>\n",
              "      <td>154.000000</td>\n",
              "      <td>3084.000000</td>\n",
              "      <td>-37.802355</td>\n",
              "      <td>145.000100</td>\n",
              "      <td>9.200000</td>\n",
              "      <td>6555.000000</td>\n",
              "      <td>9.030000e+05</td>\n",
              "      <td>1970.000000</td>\n",
              "      <td>440.000000</td>\n",
              "      <td>126.000000</td>\n",
              "      <td>3.000000</td>\n",
              "      <td>3.000000</td>\n",
              "      <td>1.000000</td>\n",
              "      <td>2.000000</td>\n",
              "    </tr>\n",
              "    <tr>\n",
              "      <th>75%</th>\n",
              "      <td>194.000000</td>\n",
              "      <td>1.000000</td>\n",
              "      <td>1.000000</td>\n",
              "      <td>5.000000</td>\n",
              "      <td>24.000000</td>\n",
              "      <td>234.000000</td>\n",
              "      <td>3148.000000</td>\n",
              "      <td>-37.756400</td>\n",
              "      <td>145.058305</td>\n",
              "      <td>13.000000</td>\n",
              "      <td>10331.000000</td>\n",
              "      <td>1.330000e+06</td>\n",
              "      <td>1999.000000</td>\n",
              "      <td>651.000000</td>\n",
              "      <td>174.000000</td>\n",
              "      <td>3.000000</td>\n",
              "      <td>3.000000</td>\n",
              "      <td>2.000000</td>\n",
              "      <td>2.000000</td>\n",
              "    </tr>\n",
              "    <tr>\n",
              "      <th>max</th>\n",
              "      <td>267.000000</td>\n",
              "      <td>4.000000</td>\n",
              "      <td>2.000000</td>\n",
              "      <td>7.000000</td>\n",
              "      <td>33.000000</td>\n",
              "      <td>313.000000</td>\n",
              "      <td>3977.000000</td>\n",
              "      <td>-37.408530</td>\n",
              "      <td>145.526350</td>\n",
              "      <td>48.100000</td>\n",
              "      <td>21650.000000</td>\n",
              "      <td>9.000000e+06</td>\n",
              "      <td>2018.000000</td>\n",
              "      <td>433014.000000</td>\n",
              "      <td>44515.000000</td>\n",
              "      <td>10.000000</td>\n",
              "      <td>20.000000</td>\n",
              "      <td>8.000000</td>\n",
              "      <td>10.000000</td>\n",
              "    </tr>\n",
              "  </tbody>\n",
              "</table>\n",
              "</div>"
            ],
            "text/plain": [
              "         seller_cat    method_cat      type_cat  region_name_cat  \\\n",
              "count  13580.000000  13580.000000  13580.000000     13580.000000   \n",
              "mean     130.810972      1.407290      0.526362         3.766053   \n",
              "std       77.735927      1.119105      0.832878         2.024334   \n",
              "min        0.000000      0.000000      0.000000         0.000000   \n",
              "25%       73.000000      1.000000      0.000000         2.000000   \n",
              "50%      135.000000      1.000000      0.000000         5.000000   \n",
              "75%      194.000000      1.000000      1.000000         5.000000   \n",
              "max      267.000000      4.000000      2.000000         7.000000   \n",
              "\n",
              "       council_area_cat    suburb_cat      postcode           lat  \\\n",
              "count      13580.000000  13580.000000  13580.000000  13580.000000   \n",
              "mean          15.890280    155.307953   3105.301915    -37.809203   \n",
              "std            9.970486     90.307844     90.676964      0.079260   \n",
              "min            0.000000      0.000000   3000.000000    -38.182550   \n",
              "25%            6.000000     70.000000   3044.000000    -37.856822   \n",
              "50%           18.000000    154.000000   3084.000000    -37.802355   \n",
              "75%           24.000000    234.000000   3148.000000    -37.756400   \n",
              "max           33.000000    313.000000   3977.000000    -37.408530   \n",
              "\n",
              "                lng      distance  property_count         price   year_built  \\\n",
              "count  13580.000000  13580.000000    13580.000000  1.358000e+04  8205.000000   \n",
              "mean     144.995216     10.137776     7454.417378  1.075684e+06  1964.684217   \n",
              "std        0.103916      5.868725     4378.581772  6.393107e+05    37.273762   \n",
              "min      144.431810      0.000000      249.000000  8.500000e+04  1196.000000   \n",
              "25%      144.929600      6.100000     4380.000000  6.500000e+05  1940.000000   \n",
              "50%      145.000100      9.200000     6555.000000  9.030000e+05  1970.000000   \n",
              "75%      145.058305     13.000000    10331.000000  1.330000e+06  1999.000000   \n",
              "max      145.526350     48.100000    21650.000000  9.000000e+06  2018.000000   \n",
              "\n",
              "           land_size  building_area         rooms     bedroom_2      bathroom  \\\n",
              "count   13580.000000    7130.000000  13580.000000  13580.000000  13580.000000   \n",
              "mean      558.416127     151.967650      2.937997      2.914728      1.534242   \n",
              "std      3990.669241     541.014538      0.955748      0.965921      0.691712   \n",
              "min         0.000000       0.000000      1.000000      0.000000      0.000000   \n",
              "25%       177.000000      93.000000      2.000000      2.000000      1.000000   \n",
              "50%       440.000000     126.000000      3.000000      3.000000      1.000000   \n",
              "75%       651.000000     174.000000      3.000000      3.000000      2.000000   \n",
              "max    433014.000000   44515.000000     10.000000     20.000000      8.000000   \n",
              "\n",
              "                car  \n",
              "count  13518.000000  \n",
              "mean       1.610075  \n",
              "std        0.962634  \n",
              "min        0.000000  \n",
              "25%        1.000000  \n",
              "50%        2.000000  \n",
              "75%        2.000000  \n",
              "max       10.000000  "
            ]
          },
          "metadata": {
            "tags": []
          },
          "execution_count": 6
        }
      ]
    },
    {
      "cell_type": "markdown",
      "metadata": {
        "id": "gfili-eyWQr6"
      },
      "source": [
        "Eliminar valores extremos de:\n",
        "\n",
        "    - year_built\n",
        "    - land_size\n",
        "    - building_area    "
      ]
    },
    {
      "cell_type": "code",
      "metadata": {
        "colab": {
          "base_uri": "https://localhost:8080/",
          "height": 510
        },
        "id": "cGihsNn-WQr6",
        "outputId": "945c4723-9918-4c62-cd24-99d443e13ba6"
      },
      "source": [
        "# Estos histogramas me dan algo de info visual, pero no me dicen mucho de los valores extremos...\n",
        "import seaborn\n",
        "fig, axes = plt.subplots(nrows=2, figsize=(16, 8))\n",
        "seaborn.histplot(melb_df[\"price\"], bins=100, ax=axes[0], color='gray')\n",
        "axes[0].axvline(melb_df[\"price\"].mean(), color='orangered',\n",
        "            linestyle='--', label='Media')\n",
        "axes[0].axvline(melb_df[\"price\"].median(), color='indigo',\n",
        "            linestyle='-.', label='Mediana')\n",
        "\n",
        "melb_filtered_df = melb_df[melb_df[\"price\"] < 2.4e6]\n",
        "seaborn.histplot(melb_filtered_df[\"price\"], bins=100, ax=axes[1], color='gray')\n",
        "axes[1].axvline(melb_filtered_df[\"price\"].mean(), color='orangered',\n",
        "            linestyle='--', label='Media')\n",
        "axes[1].axvline(melb_filtered_df[\"price\"].median(), color='indigo',\n",
        "            linestyle='-.', label='Mediana')\n",
        "axes[0].legend()"
      ],
      "execution_count": 7,
      "outputs": [
        {
          "output_type": "execute_result",
          "data": {
            "text/plain": [
              "<matplotlib.legend.Legend at 0x7f0202f1f890>"
            ]
          },
          "metadata": {
            "tags": []
          },
          "execution_count": 7
        },
        {
          "output_type": "display_data",
          "data": {
            "image/png": "[encoded data removed]",
            "text/plain": [
              "<Figure size 1152x576 with 2 Axes>"
            ]
          },
          "metadata": {
            "tags": [],
            "needs_background": "light"
          }
        }
      ]
    },
    {
      "cell_type": "code",
      "metadata": {
        "colab": {
          "base_uri": "https://localhost:8080/",
          "height": 427
        },
        "id": "hMJGw-NJELHv",
        "outputId": "a550cc9d-7075-4898-a6d2-ba7867d5c533"
      },
      "source": [
        "plt.figure(figsize=(12,6))\n",
        "seaborn.boxplot(x=melb_df[\"price\"])\n",
        "# Acá se ven un poquito mejor los outliers, en la cola de atrás. Hay que definir dónde cortamos, si es que cortamos"
      ],
      "execution_count": 8,
      "outputs": [
        {
          "output_type": "execute_result",
          "data": {
            "text/plain": [
              "<matplotlib.axes._subplots.AxesSubplot at 0x7f020c4fb4d0>"
            ]
          },
          "metadata": {
            "tags": []
          },
          "execution_count": 8
        },
        {
          "output_type": "display_data",
          "data": {
            "image/png": "[encoded data removed]",
            "text/plain": [
              "<Figure size 864x432 with 1 Axes>"
            ]
          },
          "metadata": {
            "tags": [],
            "needs_background": "light"
          }
        }
      ]
    },
    {
      "cell_type": "code",
      "metadata": {
        "colab": {
          "base_uri": "https://localhost:8080/"
        },
        "id": "NeHfRiiXWQr7",
        "outputId": "feb49bb0-4789-4c06-d3da-402a25c8430e"
      },
      "source": [
        "melb_df[melb_df.price > 4e6].shape\n",
        "#Convengamos que son sólo unas 55 casas de valores super altos"
      ],
      "execution_count": 9,
      "outputs": [
        {
          "output_type": "execute_result",
          "data": {
            "text/plain": [
              "(55, 27)"
            ]
          },
          "metadata": {
            "tags": []
          },
          "execution_count": 9
        }
      ]
    },
    {
      "cell_type": "code",
      "metadata": {
        "colab": {
          "base_uri": "https://localhost:8080/"
        },
        "id": "I_LAvPtLZI_2",
        "outputId": "e0a221de-92ea-40a9-fe2e-31c5ac242cf1"
      },
      "source": [
        "melb_df[\"price\"].quantile([.95, .98, .99, .995, .998])"
      ],
      "execution_count": 10,
      "outputs": [
        {
          "output_type": "execute_result",
          "data": {
            "text/plain": [
              "0.950    2290050.0\n",
              "0.980    2865360.0\n",
              "0.990    3338150.0\n",
              "0.995    3900000.0\n",
              "0.998    4747630.0\n",
              "Name: price, dtype: float64"
            ]
          },
          "metadata": {
            "tags": []
          },
          "execution_count": 10
        }
      ]
    },
    {
      "cell_type": "code",
      "metadata": {
        "colab": {
          "base_uri": "https://localhost:8080/"
        },
        "id": "PKZ8LVYS5MbP",
        "outputId": "8c2d9bf5-2e46-4905-8a78-5974276a64c0"
      },
      "source": [
        "melb_df[melb_df.price > 2.29e6].shape"
      ],
      "execution_count": 11,
      "outputs": [
        {
          "output_type": "execute_result",
          "data": {
            "text/plain": [
              "(679, 27)"
            ]
          },
          "metadata": {
            "tags": []
          },
          "execution_count": 11
        }
      ]
    },
    {
      "cell_type": "code",
      "metadata": {
        "colab": {
          "base_uri": "https://localhost:8080/",
          "height": 481
        },
        "id": "OJNipvcJa7K9",
        "outputId": "45b9b866-5a62-4d26-86c5-7f8145a78864"
      },
      "source": [
        "#El percentil .995 que me deja afuera los valores de venta de 3.9 millones para arriba\n",
        "plt.figure(figsize=(11,7))\n",
        "max_limit = melb_df[\"price\"].quantile(.995)\n",
        "seaborn.boxplot(x = melb_df[melb_df[\"price\"] < max_limit][\"price\"])\n",
        "#Sigue quedando una colita de valores fuera del quartil 3.... "
      ],
      "execution_count": 12,
      "outputs": [
        {
          "output_type": "execute_result",
          "data": {
            "text/plain": [
              "<matplotlib.axes._subplots.AxesSubplot at 0x7f0202a6e490>"
            ]
          },
          "metadata": {
            "tags": []
          },
          "execution_count": 12
        },
        {
          "output_type": "display_data",
          "data": {
            "image/png": "[encoded data removed]",
            "text/plain": [
              "<Figure size 792x504 with 1 Axes>"
            ]
          },
          "metadata": {
            "tags": [],
            "needs_background": "light"
          }
        }
      ]
    },
    {
      "cell_type": "code",
      "metadata": {
        "colab": {
          "base_uri": "https://localhost:8080/",
          "height": 481
        },
        "id": "vOkIRXcX5c_o",
        "outputId": "1815ab37-2e12-472a-de0f-2ffdc40bd666"
      },
      "source": [
        "plt.figure(figsize=(11,7))\n",
        "max_limit2 = melb_df.price.quantile(.95)\n",
        "seaborn.boxplot(x = melb_df[melb_df[\"price\"] < max_limit2][\"price\"])"
      ],
      "execution_count": 13,
      "outputs": [
        {
          "output_type": "execute_result",
          "data": {
            "text/plain": [
              "<matplotlib.axes._subplots.AxesSubplot at 0x7f020298e690>"
            ]
          },
          "metadata": {
            "tags": []
          },
          "execution_count": 13
        },
        {
          "output_type": "display_data",
          "data": {
            "image/png": "[encoded data removed]",
            "text/plain": [
              "<Figure size 792x504 with 1 Axes>"
            ]
          },
          "metadata": {
            "tags": [],
            "needs_background": "light"
          }
        }
      ]
    },
    {
      "cell_type": "code",
      "metadata": {
        "id": "qzEc0x-boCWP"
      },
      "source": [
        "# Esta es la decisión más conservadora\n",
        "\n",
        "melb_df = melb_df[melb_df.price < 3900000]"
      ],
      "execution_count": 14,
      "outputs": []
    },
    {
      "cell_type": "code",
      "metadata": {
        "id": "6-NUQHEXd1Ix",
        "colab": {
          "base_uri": "https://localhost:8080/"
        },
        "outputId": "1d36cfe9-453f-459c-8fdf-b493aea25524"
      },
      "source": [
        "melb_df.shape"
      ],
      "execution_count": 15,
      "outputs": [
        {
          "output_type": "execute_result",
          "data": {
            "text/plain": [
              "(13510, 27)"
            ]
          },
          "metadata": {
            "tags": []
          },
          "execution_count": 15
        }
      ]
    },
    {
      "cell_type": "code",
      "metadata": {
        "colab": {
          "base_uri": "https://localhost:8080/",
          "height": 481
        },
        "id": "A4l8Eq15dTNS",
        "outputId": "488aec4e-8852-4f9d-c5c7-fe7af4f6f7de"
      },
      "source": [
        "# YEAR BUILT\n",
        "# Removimos dos casas que hacían ruido en los datos: una casa de 1196 y una de 1830.\n",
        "plt.figure(figsize=(11,7))\n",
        "seaborn.boxplot(x = melb_df.year_built)"
      ],
      "execution_count": 16,
      "outputs": [
        {
          "output_type": "execute_result",
          "data": {
            "text/plain": [
              "<matplotlib.axes._subplots.AxesSubplot at 0x7f0202ee0150>"
            ]
          },
          "metadata": {
            "tags": []
          },
          "execution_count": 16
        },
        {
          "output_type": "display_data",
          "data": {
            "image/png": "[encoded data removed]",
            "text/plain": [
              "<Figure size 792x504 with 1 Axes>"
            ]
          },
          "metadata": {
            "tags": [],
            "needs_background": "light"
          }
        }
      ]
    },
    {
      "cell_type": "code",
      "metadata": {
        "colab": {
          "base_uri": "https://localhost:8080/"
        },
        "id": "2i8pLvtAp6Nb",
        "outputId": "096e8f09-48bd-438d-d031-9d9abf9ec100"
      },
      "source": [
        "melb_df[melb_df.year_built < 1850].value_counts()"
      ],
      "execution_count": 17,
      "outputs": [
        {
          "output_type": "execute_result",
          "data": {
            "text/plain": [
              "date        seller   method  type  region_name            suburb          council_area  address         seller_cat  method_cat  type_cat  region_name_cat  council_area_cat  suburb_cat  postcode  lat        lng        distance  property_count  price      year_built  land_size  building_area  rooms  bedroom_2  bathroom  car\n",
              "2017-06-24  McGrath  VB      h     Eastern Metropolitan   Mount Waverley  Monash        5 Armstrong St  140         4           0         0                20                207         3149      -37.86788  145.12121  14.2      13366           1200000.0  1196.0      807.0      117.0          3      3          1         4.0    1\n",
              "2016-03-09  Nelson   S       u     Northern Metropolitan  Collingwood     Yarra         2/79 Oxford St  155         1           2         2                32                82          3066      -37.80420  144.98450  1.6       4553            855000.0   1830.0      2886.0     122.0          2      2          1         1.0    1\n",
              "dtype: int64"
            ]
          },
          "metadata": {
            "tags": []
          },
          "execution_count": 17
        }
      ]
    },
    {
      "cell_type": "code",
      "metadata": {
        "colab": {
          "base_uri": "https://localhost:8080/",
          "height": 481
        },
        "id": "Dq0dzbqsuRXW",
        "outputId": "4220fd72-ef6f-4ec1-dca0-d6ee6da24f94"
      },
      "source": [
        "plt.figure(figsize=(11,7))\n",
        "seaborn.boxplot(x = melb_df[melb_df[\"year_built\"] > 1850][\"year_built\"])"
      ],
      "execution_count": 18,
      "outputs": [
        {
          "output_type": "execute_result",
          "data": {
            "text/plain": [
              "<matplotlib.axes._subplots.AxesSubplot at 0x7f02028df590>"
            ]
          },
          "metadata": {
            "tags": []
          },
          "execution_count": 18
        },
        {
          "output_type": "display_data",
          "data": {
            "image/png": "[encoded data removed]",
            "text/plain": [
              "<Figure size 792x504 with 1 Axes>"
            ]
          },
          "metadata": {
            "tags": [],
            "needs_background": "light"
          }
        }
      ]
    },
    {
      "cell_type": "code",
      "metadata": {
        "id": "xhdJKukfegI8"
      },
      "source": [
        "melb_df = melb_df[(melb_df.year_built != 1196) & (melb_df.year_built != 1830)]"
      ],
      "execution_count": 19,
      "outputs": []
    },
    {
      "cell_type": "code",
      "metadata": {
        "id": "o6eV47K4etLV",
        "colab": {
          "base_uri": "https://localhost:8080/"
        },
        "outputId": "adeed227-819f-4528-ea02-db0909d2acac"
      },
      "source": [
        "melb_df.shape"
      ],
      "execution_count": 20,
      "outputs": [
        {
          "output_type": "execute_result",
          "data": {
            "text/plain": [
              "(13508, 27)"
            ]
          },
          "metadata": {
            "tags": []
          },
          "execution_count": 20
        }
      ]
    },
    {
      "cell_type": "code",
      "metadata": {
        "colab": {
          "base_uri": "https://localhost:8080/",
          "height": 481
        },
        "id": "rZ8xt6SnkrqD",
        "outputId": "aeb97abf-a4dd-4a76-e71e-1d5cf985c643"
      },
      "source": [
        "# LAND SIZE\n",
        "plt.figure(figsize=(11,7))\n",
        "seaborn.boxplot(x = melb_df.land_size)"
      ],
      "execution_count": 21,
      "outputs": [
        {
          "output_type": "execute_result",
          "data": {
            "text/plain": [
              "<matplotlib.axes._subplots.AxesSubplot at 0x7f02028bc410>"
            ]
          },
          "metadata": {
            "tags": []
          },
          "execution_count": 21
        },
        {
          "output_type": "display_data",
          "data": {
            "image/png": "[encoded data removed]",
            "text/plain": [
              "<Figure size 792x504 with 1 Axes>"
            ]
          },
          "metadata": {
            "tags": [],
            "needs_background": "light"
          }
        }
      ]
    },
    {
      "cell_type": "code",
      "metadata": {
        "colab": {
          "base_uri": "https://localhost:8080/"
        },
        "id": "2-Mltyu7lDGY",
        "outputId": "89337ce8-bbff-49c6-fb7e-9486bd59824d"
      },
      "source": [
        "melb_df.land_size.quantile([.95, .98, .995, .998])"
      ],
      "execution_count": 22,
      "outputs": [
        {
          "output_type": "execute_result",
          "data": {
            "text/plain": [
              "0.950     990.000\n",
              "0.980    1767.440\n",
              "0.995    4698.530\n",
              "0.998    9404.062\n",
              "Name: land_size, dtype: float64"
            ]
          },
          "metadata": {
            "tags": []
          },
          "execution_count": 22
        }
      ]
    },
    {
      "cell_type": "code",
      "metadata": {
        "colab": {
          "base_uri": "https://localhost:8080/",
          "height": 481
        },
        "id": "gicwk3hEtF6O",
        "outputId": "694be2c5-5303-4d8a-ad8b-61208bb71780"
      },
      "source": [
        "plt.figure(figsize=(11,7))\n",
        "seaborn.boxplot(x = melb_df[melb_df[\"land_size\"] < 990][\"land_size\"])"
      ],
      "execution_count": 23,
      "outputs": [
        {
          "output_type": "execute_result",
          "data": {
            "text/plain": [
              "<matplotlib.axes._subplots.AxesSubplot at 0x7f0202930e90>"
            ]
          },
          "metadata": {
            "tags": []
          },
          "execution_count": 23
        },
        {
          "output_type": "display_data",
          "data": {
            "image/png": "[encoded data removed]",
            "text/plain": [
              "<Figure size 792x504 with 1 Axes>"
            ]
          },
          "metadata": {
            "tags": [],
            "needs_background": "light"
          }
        }
      ]
    },
    {
      "cell_type": "code",
      "metadata": {
        "id": "eczRCEkTg9EF"
      },
      "source": [
        "melb_df = melb_df[(melb_df.land_size < 900) | (melb_df.land_size.isna())]"
      ],
      "execution_count": 24,
      "outputs": []
    },
    {
      "cell_type": "code",
      "metadata": {
        "id": "-Q8Ur1UShMON",
        "colab": {
          "base_uri": "https://localhost:8080/"
        },
        "outputId": "d1737c2e-6a29-44a6-a712-1c6c60171265"
      },
      "source": [
        "melb_df.shape"
      ],
      "execution_count": 25,
      "outputs": [
        {
          "output_type": "execute_result",
          "data": {
            "text/plain": [
              "(12626, 27)"
            ]
          },
          "metadata": {
            "tags": []
          },
          "execution_count": 25
        }
      ]
    },
    {
      "cell_type": "code",
      "metadata": {
        "colab": {
          "base_uri": "https://localhost:8080/",
          "height": 481
        },
        "id": "M0BxZl-4tuQX",
        "outputId": "9423784a-ecf5-4bf6-8de3-58ba5803a9db"
      },
      "source": [
        "# BUILDING AREA\n",
        "plt.figure(figsize=(11,7))\n",
        "seaborn.boxplot(x = melb_df.building_area)"
      ],
      "execution_count": 26,
      "outputs": [
        {
          "output_type": "execute_result",
          "data": {
            "text/plain": [
              "<matplotlib.axes._subplots.AxesSubplot at 0x7f020278da50>"
            ]
          },
          "metadata": {
            "tags": []
          },
          "execution_count": 26
        },
        {
          "output_type": "display_data",
          "data": {
            "image/png": "[encoded data removed]",
            "text/plain": [
              "<Figure size 792x504 with 1 Axes>"
            ]
          },
          "metadata": {
            "tags": [],
            "needs_background": "light"
          }
        }
      ]
    },
    {
      "cell_type": "code",
      "metadata": {
        "colab": {
          "base_uri": "https://localhost:8080/"
        },
        "id": "GGQ7oBQUt5iG",
        "outputId": "f66a4597-641a-466a-c97b-acd819670ff1"
      },
      "source": [
        "melb_df.building_area.quantile([.95, .98, .995, .998])"
      ],
      "execution_count": 27,
      "outputs": [
        {
          "output_type": "execute_result",
          "data": {
            "text/plain": [
              "0.950    282.000\n",
              "0.980    356.700\n",
              "0.995    570.125\n",
              "0.998    719.670\n",
              "Name: building_area, dtype: float64"
            ]
          },
          "metadata": {
            "tags": []
          },
          "execution_count": 27
        }
      ]
    },
    {
      "cell_type": "code",
      "metadata": {
        "colab": {
          "base_uri": "https://localhost:8080/",
          "height": 481
        },
        "id": "5KKUPRgauFZ4",
        "outputId": "65d8e401-4ff5-47b6-88fe-02bbd9fb899a"
      },
      "source": [
        "plt.figure(figsize=(11,7))\n",
        "seaborn.boxplot(x = melb_df[melb_df[\"building_area\"] < 400][\"building_area\"])"
      ],
      "execution_count": 28,
      "outputs": [
        {
          "output_type": "execute_result",
          "data": {
            "text/plain": [
              "<matplotlib.axes._subplots.AxesSubplot at 0x7f0202741390>"
            ]
          },
          "metadata": {
            "tags": []
          },
          "execution_count": 28
        },
        {
          "output_type": "display_data",
          "data": {
            "image/png": "[encoded data removed]",
            "text/plain": [
              "<Figure size 792x504 with 1 Axes>"
            ]
          },
          "metadata": {
            "tags": [],
            "needs_background": "light"
          }
        }
      ]
    },
    {
      "cell_type": "code",
      "metadata": {
        "id": "66YJIcA7hYMg"
      },
      "source": [
        "melb_df = melb_df[(melb_df.building_area < 400) | (melb_df.building_area.isna())]"
      ],
      "execution_count": 29,
      "outputs": []
    },
    {
      "cell_type": "code",
      "metadata": {
        "id": "BGO4QVtGhj3L",
        "colab": {
          "base_uri": "https://localhost:8080/"
        },
        "outputId": "ac3a9117-cab2-4f79-8221-b6c1f93a4618"
      },
      "source": [
        "melb_df.shape"
      ],
      "execution_count": 30,
      "outputs": [
        {
          "output_type": "execute_result",
          "data": {
            "text/plain": [
              "(12536, 27)"
            ]
          },
          "metadata": {
            "tags": []
          },
          "execution_count": 30
        }
      ]
    },
    {
      "cell_type": "markdown",
      "metadata": {
        "id": "_KKHeAa2WQr7"
      },
      "source": [
        "2. Investigar la distribución de las variables del conjunto de datos y seleccionar un subconjunto de columnas que les parezcan relevantes al problema de predicción del valor de la propiedad.\n",
        "    1. Justificar cada columna no seleccionada.\n",
        "    2. Para las variables categóricas seleccionadas, agrupe o combine las categorías poco frecuentes para asegurar que todos los grupos tengan un número mínimo de registros."
      ]
    },
    {
      "cell_type": "code",
      "metadata": {
        "id": "qTpFWdOSWQr8",
        "colab": {
          "base_uri": "https://localhost:8080/",
          "height": 653
        },
        "outputId": "ab20bb27-31cc-4175-8185-9e38ec5f8501"
      },
      "source": [
        "# Matriz de correlation de las variables numericas\n",
        "corr = melb_df.corr()\n",
        "\n",
        "# Generate a mask for the upper triangle\n",
        "mask = np.triu(np.ones_like(corr, dtype=bool))\n",
        "\n",
        "fig, ax = plt.subplots(figsize=(12, 9))\n",
        "\n",
        "cmap = sns.diverging_palette(230, 20, as_cmap=True)\n",
        "sns.heatmap(corr, mask=mask, cmap=cmap, vmax=.3, center=0,\n",
        "            square=True, linewidths=.5, cbar_kws={\"shrink\": .5})\n",
        "ax.tick_params(labelsize = 14)"
      ],
      "execution_count": 31,
      "outputs": [
        {
          "output_type": "display_data",
          "data": {
            "image/png": "[encoded data removed]",
            "text/plain": [
              "<Figure size 864x648 with 2 Axes>"
            ]
          },
          "metadata": {
            "tags": [],
            "needs_background": "light"
          }
        }
      ]
    },
    {
      "cell_type": "code",
      "metadata": {
        "id": "HcQgqtWtWQr8",
        "colab": {
          "base_uri": "https://localhost:8080/"
        },
        "outputId": "bb3f3bfc-a73e-47d2-81e4-14c878858fdb"
      },
      "source": [
        "# Un postcode puede ser de varios suburbuios. En cambio, cada suburbio tiene uno y solo un postcode.\n",
        "# Nos quedamos con los postcode que son más especificos\n",
        "melb_df.groupby(\"suburb\")[\"postcode\"].nunique().max(), melb_df.groupby(\"postcode\")[\"suburb\"].nunique().max()"
      ],
      "execution_count": 32,
      "outputs": [
        {
          "output_type": "execute_result",
          "data": {
            "text/plain": [
              "(1, 5)"
            ]
          },
          "metadata": {
            "tags": []
          },
          "execution_count": 32
        }
      ]
    },
    {
      "cell_type": "code",
      "metadata": {
        "id": "otN8k3h4tgMz",
        "colab": {
          "base_uri": "https://localhost:8080/"
        },
        "outputId": "09569e9b-a542-429a-d1a5-3d55f65d9907"
      },
      "source": [
        "# Hay 268 vendedores/inmobiliarias en todo el DataSet. De estos 268, el 66% tiene muy pocas ventas, y el 30% sólamente 1 venta\n",
        "vendedores = len(melb_df.seller.unique())\n",
        "vendedores_con_pocas_ventas = sum(melb_df.groupby('seller')['seller'].count() < 2)\n",
        "print('Vendedores:', vendedores, '\\nPorcentaje con n menor a 1:', f'{vendedores_con_pocas_ventas*100/vendedores:.2f}%')\n",
        "vendedores_con_pocas_ventas = sum(melb_df.groupby('seller')['seller'].count() < 10)\n",
        "print('Porcentaje con n menor a 10:', f'{vendedores_con_pocas_ventas*100/vendedores:.2f}%')"
      ],
      "execution_count": 33,
      "outputs": [
        {
          "output_type": "stream",
          "text": [
            "Vendedores: 261 \n",
            "Porcentaje con n menor a 1: 29.89%\n",
            "Porcentaje con n menor a 10: 67.82%\n"
          ],
          "name": "stdout"
        }
      ]
    },
    {
      "cell_type": "code",
      "metadata": {
        "id": "IIwn53ErWQr9",
        "colab": {
          "base_uri": "https://localhost:8080/",
          "height": 224
        },
        "outputId": "2cc51bf1-bbac-4651-cc43-0c70d98f6539"
      },
      "source": [
        "drop_cols = [\n",
        "    \"date\", # esos años tuvieron solo 2% de inflación por lo que no cambia el precio \n",
        "    #Se debe tener en cuenta que el dataset está concentrado en pocos vendedores con muchas ventas\n",
        "    #, y el 66% de los vendedores tiene muy pocas ventas como para analizar\n",
        "    \"seller\", # Por esto, no nos interesa analizar la influencia de una inmobiliaria en el precio. \n",
        "    \"seller_cat\", #va de la mano con seller\n",
        "    \"method\", #Tampoco analizaremos la influencia (si existe) del método de venta en el precio final del inmueble\n",
        "    \"method_cat\", #va de la mano con method\n",
        "    \n",
        "    #Consideramos que el precio de un inmueble depende mucho de su ubicación \n",
        "    #(existe una frase americana que indica, los 3 factores que más influencian son: Location, Location, Location\n",
        "    #Debido a esto, utilizaremos el indicador más preciso posible respecto a la zona de ubicación del inmueble\n",
        "    #En este dataset, el agrupador por zona más preciso es suburb. Por eso, dropearemos las demás columnas que dan info geográfica: \n",
        "    \"region_name\", \n",
        "    \"region_name_cat\", \n",
        "    \"council_area\", \n",
        "    \"council_area_cat\",\n",
        "    \"postcode\",\n",
        "    \"address\",\n",
        "    \"property_count\", # Esto depende del suburb y la info queda repetida\n",
        "    \"bedroom_2\", # Coincide en más de un 90% con la col \"rooms\" y el segundo viene de un scraper\n",
        "]\n",
        "\n",
        "cols = [c for c in melb_df.columns if c not in drop_cols]\n",
        "melb_df = melb_df[cols]\n",
        "melb_df.head()"
      ],
      "execution_count": 34,
      "outputs": [
        {
          "output_type": "execute_result",
          "data": {
            "text/html": [
              "<div>\n",
              "<style scoped>\n",
              "    .dataframe tbody tr th:only-of-type {\n",
              "        vertical-align: middle;\n",
              "    }\n",
              "\n",
              "    .dataframe tbody tr th {\n",
              "        vertical-align: top;\n",
              "    }\n",
              "\n",
              "    .dataframe thead th {\n",
              "        text-align: right;\n",
              "    }\n",
              "</style>\n",
              "<table border=\"1\" class=\"dataframe\">\n",
              "  <thead>\n",
              "    <tr style=\"text-align: right;\">\n",
              "      <th></th>\n",
              "      <th>type</th>\n",
              "      <th>suburb</th>\n",
              "      <th>type_cat</th>\n",
              "      <th>suburb_cat</th>\n",
              "      <th>lat</th>\n",
              "      <th>lng</th>\n",
              "      <th>distance</th>\n",
              "      <th>price</th>\n",
              "      <th>year_built</th>\n",
              "      <th>land_size</th>\n",
              "      <th>building_area</th>\n",
              "      <th>rooms</th>\n",
              "      <th>bathroom</th>\n",
              "      <th>car</th>\n",
              "    </tr>\n",
              "  </thead>\n",
              "  <tbody>\n",
              "    <tr>\n",
              "      <th>0</th>\n",
              "      <td>h</td>\n",
              "      <td>Abbotsford</td>\n",
              "      <td>0</td>\n",
              "      <td>0</td>\n",
              "      <td>-37.7996</td>\n",
              "      <td>144.9984</td>\n",
              "      <td>2.5</td>\n",
              "      <td>1480000.0</td>\n",
              "      <td>NaN</td>\n",
              "      <td>202.0</td>\n",
              "      <td>NaN</td>\n",
              "      <td>2</td>\n",
              "      <td>1</td>\n",
              "      <td>1.0</td>\n",
              "    </tr>\n",
              "    <tr>\n",
              "      <th>1</th>\n",
              "      <td>h</td>\n",
              "      <td>Abbotsford</td>\n",
              "      <td>0</td>\n",
              "      <td>0</td>\n",
              "      <td>-37.8079</td>\n",
              "      <td>144.9934</td>\n",
              "      <td>2.5</td>\n",
              "      <td>1035000.0</td>\n",
              "      <td>1900.0</td>\n",
              "      <td>156.0</td>\n",
              "      <td>79.0</td>\n",
              "      <td>2</td>\n",
              "      <td>1</td>\n",
              "      <td>0.0</td>\n",
              "    </tr>\n",
              "    <tr>\n",
              "      <th>2</th>\n",
              "      <td>h</td>\n",
              "      <td>Abbotsford</td>\n",
              "      <td>0</td>\n",
              "      <td>0</td>\n",
              "      <td>-37.8093</td>\n",
              "      <td>144.9944</td>\n",
              "      <td>2.5</td>\n",
              "      <td>1465000.0</td>\n",
              "      <td>1900.0</td>\n",
              "      <td>134.0</td>\n",
              "      <td>150.0</td>\n",
              "      <td>3</td>\n",
              "      <td>2</td>\n",
              "      <td>0.0</td>\n",
              "    </tr>\n",
              "    <tr>\n",
              "      <th>3</th>\n",
              "      <td>h</td>\n",
              "      <td>Abbotsford</td>\n",
              "      <td>0</td>\n",
              "      <td>0</td>\n",
              "      <td>-37.7969</td>\n",
              "      <td>144.9969</td>\n",
              "      <td>2.5</td>\n",
              "      <td>850000.0</td>\n",
              "      <td>NaN</td>\n",
              "      <td>94.0</td>\n",
              "      <td>NaN</td>\n",
              "      <td>3</td>\n",
              "      <td>2</td>\n",
              "      <td>1.0</td>\n",
              "    </tr>\n",
              "    <tr>\n",
              "      <th>4</th>\n",
              "      <td>h</td>\n",
              "      <td>Abbotsford</td>\n",
              "      <td>0</td>\n",
              "      <td>0</td>\n",
              "      <td>-37.8072</td>\n",
              "      <td>144.9941</td>\n",
              "      <td>2.5</td>\n",
              "      <td>1600000.0</td>\n",
              "      <td>2014.0</td>\n",
              "      <td>120.0</td>\n",
              "      <td>142.0</td>\n",
              "      <td>4</td>\n",
              "      <td>1</td>\n",
              "      <td>2.0</td>\n",
              "    </tr>\n",
              "  </tbody>\n",
              "</table>\n",
              "</div>"
            ],
            "text/plain": [
              "  type      suburb  type_cat  suburb_cat      lat       lng  distance  \\\n",
              "0    h  Abbotsford         0           0 -37.7996  144.9984       2.5   \n",
              "1    h  Abbotsford         0           0 -37.8079  144.9934       2.5   \n",
              "2    h  Abbotsford         0           0 -37.8093  144.9944       2.5   \n",
              "3    h  Abbotsford         0           0 -37.7969  144.9969       2.5   \n",
              "4    h  Abbotsford         0           0 -37.8072  144.9941       2.5   \n",
              "\n",
              "       price  year_built  land_size  building_area  rooms  bathroom  car  \n",
              "0  1480000.0         NaN      202.0            NaN      2         1  1.0  \n",
              "1  1035000.0      1900.0      156.0           79.0      2         1  0.0  \n",
              "2  1465000.0      1900.0      134.0          150.0      3         2  0.0  \n",
              "3   850000.0         NaN       94.0            NaN      3         2  1.0  \n",
              "4  1600000.0      2014.0      120.0          142.0      4         1  2.0  "
            ]
          },
          "metadata": {
            "tags": []
          },
          "execution_count": 34
        }
      ]
    },
    {
      "cell_type": "code",
      "metadata": {
        "id": "o-ORFHMLWQr9",
        "colab": {
          "base_uri": "https://localhost:8080/"
        },
        "outputId": "2dadc8c1-6823-4b8c-9fd7-b4727510e05e"
      },
      "source": [
        "melb_df.groupby(\"type\")[\"type\"].count()"
      ],
      "execution_count": 35,
      "outputs": [
        {
          "output_type": "execute_result",
          "data": {
            "text/plain": [
              "type\n",
              "h    8824\n",
              "t    1082\n",
              "u    2630\n",
              "Name: type, dtype: int64"
            ]
          },
          "metadata": {
            "tags": []
          },
          "execution_count": 35
        }
      ]
    },
    {
      "cell_type": "code",
      "metadata": {
        "id": "6z55Z90FWQr-",
        "colab": {
          "base_uri": "https://localhost:8080/"
        },
        "outputId": "a7e391f9-bd84-4083-c306-1c5d955c0f3d"
      },
      "source": [
        "melb_df.groupby(\"suburb\")[\"suburb\"].count().sort_values()"
      ],
      "execution_count": 36,
      "outputs": [
        {
          "output_type": "execute_result",
          "data": {
            "text/plain": [
              "suburb\n",
              "Croydon South       1\n",
              "Hurstbridge         1\n",
              "Brookfield          1\n",
              "Yarra Glen          1\n",
              "Deepdene            1\n",
              "                 ... \n",
              "Brunswick         211\n",
              "Preston           231\n",
              "Richmond          237\n",
              "Bentleigh East    244\n",
              "Reservoir         337\n",
              "Name: suburb, Length: 303, dtype: int64"
            ]
          },
          "metadata": {
            "tags": []
          },
          "execution_count": 36
        }
      ]
    },
    {
      "cell_type": "markdown",
      "metadata": {
        "id": "rcR_Kd0DWQr-"
      },
      "source": [
        "`type` tiene una \"buena\" cantidad por categoria, pero `suburb` no. Vamos a tener que agrupar"
      ]
    },
    {
      "cell_type": "code",
      "metadata": {
        "id": "FmDZDPi_p7Oa"
      },
      "source": [
        "#Se crea una nueva columna en la que se agruparán los suburbios con bajo \"n\"\n",
        "melb_df['suburb_grouped'] = melb_df.suburb"
      ],
      "execution_count": 37,
      "outputs": []
    },
    {
      "cell_type": "code",
      "metadata": {
        "id": "KQ5nk28Qd6gM",
        "colab": {
          "base_uri": "https://localhost:8080/"
        },
        "outputId": "051614c5-30a0-4f1a-e16c-1e677b3d2e27"
      },
      "source": [
        "min_points_per_suburb = 5 #DEFINE LA MÍNIMA CANTIDAD QUE ACEPTAMOS POR SUBURBIO\n",
        "suburb_to_group = melb_df.groupby(\"suburb_grouped\")[\"suburb\"].count().sort_values().reset_index().suburb_grouped[0] \n",
        "current_count = melb_df.groupby(\"suburb_grouped\")[\"suburb\"].count().sort_values().reset_index().suburb[0]\n",
        "\n",
        "def nearest_suburb(lat_to_group, lng_to_group, original_suburb, df):\n",
        "  df2 = df[df['suburb_grouped'] != original_suburb].copy()\n",
        "  df2['dist'] = df2.apply(lambda row: haversine_np(lat_to_group, lng_to_group, row.lat, row.lng), axis=1)\n",
        "  nearest_suburb = df2.sort_values('dist', ascending=True).suburb_grouped.values[0]\n",
        "  del df2\n",
        "  return nearest_suburb\n",
        "\n",
        "while current_count < min_points_per_suburb:\n",
        "  lat_to_group = melb_df[melb_df.suburb_grouped == suburb_to_group].lat.values[0]\n",
        "  lng_to_group = melb_df[melb_df.suburb_grouped == suburb_to_group].lng.values[0]\n",
        "  destiny_suburb = nearest_suburb(lat_to_group, lng_to_group, suburb_to_group, melb_df)\n",
        "  melb_df['suburb_grouped'].replace({suburb_to_group:destiny_suburb}, inplace=True)\n",
        "  print(suburb_to_group, '-->', destiny_suburb)\n",
        "  suburb_to_group = melb_df.groupby(\"suburb_grouped\")[\"suburb\"].count().sort_values().reset_index().suburb_grouped[0] \n",
        "  current_count = melb_df.groupby(\"suburb_grouped\")[\"suburb\"].count().sort_values().reset_index().suburb[0]\n",
        "  \n",
        "melb_df.groupby(\"suburb_grouped\")[\"suburb_grouped\"].count().sort_values()\n"
      ],
      "execution_count": 38,
      "outputs": [
        {
          "output_type": "stream",
          "text": [
            "Croydon South --> Croydon\n",
            "Wallan --> Craigieburn\n",
            "Yarra Glen --> Mooroolbark\n",
            "Deepdene --> Balwyn\n",
            "Officer --> Pakenham\n",
            "Plumpton --> Caroline Springs\n",
            "Hurstbridge --> Diamond Creek\n",
            "Brookfield --> Melton West\n",
            "Attwood --> Westmeadows\n",
            "St Helena --> Greensborough\n",
            "Beaconsfield --> Berwick\n",
            "Sandhurst --> Carrum Downs\n",
            "Healesville --> Mooroolbark\n",
            "Warrandyte --> Doncaster East\n",
            "Rockbank --> Caroline Springs\n",
            "Chirnside Park --> Mooroolbark\n",
            "Bacchus Marsh --> Melton West\n",
            "Wonga Park --> Croydon North\n",
            "Montrose --> Kilsyth\n",
            "Williams Landing --> Truganina\n",
            "Cranbourne North --> Berwick\n",
            "Keilor Lodge --> Taylors Lakes\n",
            "Gisborne --> Sunbury\n",
            "Diggers Rest --> Sunbury\n",
            "Kooyong --> Toorak\n",
            "Waterways --> Aspendale Gardens\n",
            "Burnside --> Deer Park\n",
            "The Basin --> Boronia\n",
            "Skye --> Carrum Downs\n",
            "Knoxfield --> Wantirna South\n",
            "Docklands --> West Melbourne\n",
            "Notting Hill --> Glen Waverley\n",
            "Springvale South --> Keysborough\n",
            "Clarinda --> Oakleigh South\n",
            "Burnside Heights --> Delahey\n",
            "Pakenham --> Berwick\n",
            "Cranbourne --> Berwick\n",
            "Seabrook --> Altona Meadows\n",
            "Ardeer --> Sunshine West\n",
            "Coolaroo --> Meadow Heights\n",
            "Hallam --> Endeavour Hills\n",
            "Bonbeach --> Chelsea\n",
            "Sydenham --> Hillside\n",
            "Hampton Park --> Endeavour Hills\n",
            "Kilsyth --> Mooroolbark\n",
            "Chelsea Heights --> Edithvale\n",
            "Wyndham Vale --> Werribee\n",
            "Kurunjang --> Melton\n",
            "Frankston North --> Seaford\n",
            "Langwarrin --> Frankston\n",
            "Campbellfield --> Fawkner\n",
            "Croydon Hills --> Croydon\n"
          ],
          "name": "stdout"
        },
        {
          "output_type": "execute_result",
          "data": {
            "text/plain": [
              "suburb_grouped\n",
              "Kings Park          5\n",
              "Croydon North       5\n",
              "Derrimut            5\n",
              "Lower Plenty        5\n",
              "Princes Hill        5\n",
              "                 ... \n",
              "Brunswick         211\n",
              "Preston           231\n",
              "Richmond          237\n",
              "Bentleigh East    244\n",
              "Reservoir         337\n",
              "Name: suburb_grouped, Length: 251, dtype: int64"
            ]
          },
          "metadata": {
            "tags": []
          },
          "execution_count": 38
        }
      ]
    },
    {
      "cell_type": "markdown",
      "metadata": {
        "id": "Rvtd1sG7WQr-"
      },
      "source": [
        "3. Agregar información adicional respectiva al entorno de una propiedad a partir del [conjunto de datos de AirBnB](https://www.kaggle.com/tylerx/melbourne-airbnb-open-data?select=cleansed_listings_dec18.csv) utilizado en el práctico. \n",
        "     1. Seleccionar qué variables agregar y qué combinaciones aplicar a cada una. Por ejemplo, pueden utilizar solo la columna `price`, o aplicar múltiples transformaciones como la mediana o el mínimo.\n",
        "     2. Utilizar la variable zipcode para unir los conjuntos de datos. Sólo incluir los zipcodes que tengan una cantidad mínima de registros (a elección) como para que la información agregada sea relevante.\n",
        "     3. Investigar al menos otras 2 variables que puedan servir para combinar los datos, y justificar si serían adecuadas o no. Pueden asumir que cuentan con la ayuda de anotadores expertos para encontrar equivalencias entre barrios o direcciones, o que cuentan con algoritmos para encontrar las n ubicaciones más cercanas a una propiedad a partir de sus coordenadas geográficas. **NO** es necesario que realicen la implementación.\n",
        "\n",
        "Pueden leer otras columnas del conjunto de AirBnB además de las que están en `interesting_cols`, si les parecen relevantes."
      ]
    },
    {
      "cell_type": "code",
      "metadata": {
        "id": "Ou8rx7inWQr-",
        "colab": {
          "base_uri": "https://localhost:8080/",
          "height": 581
        },
        "outputId": "4b7f2890-4b93-47ae-a774-d2661ae01646"
      },
      "source": [
        "# data source:\n",
        "# https://www.kaggle.com/tylerx/melbourne-airbnb-open-data?select=cleansed_listings_dec18.csv\n",
        "interesting_cols = [\n",
        "    'description', 'neighborhood_overview', 'transit',\n",
        "    'street', 'neighborhood', 'city', 'suburb',\n",
        "    'state', 'zipcode', 'latitude', 'longitude',\n",
        "    'price', 'weekly_price', 'monthly_price',\n",
        "    'review_scores_location',\n",
        "]\n",
        "airbnb_df = pd.read_csv(\n",
        "     'https://cs.famaf.unc.edu.ar/~mteruel/datasets/diplodatos/cleansed_listings_dec18.csv',\n",
        "#    \"./data/cleansed_listings_dec18.csv\",\n",
        "    usecols=interesting_cols,\n",
        "    low_memory=False,\n",
        ")\n",
        "\n",
        "airbnb_df.zipcode = pd.to_numeric(airbnb_df.zipcode, errors=\"coerce\").fillna(0).astype(int)\n",
        "airbnb_df.head()"
      ],
      "execution_count": 39,
      "outputs": [
        {
          "output_type": "execute_result",
          "data": {
            "text/html": [
              "<div>\n",
              "<style scoped>\n",
              "    .dataframe tbody tr th:only-of-type {\n",
              "        vertical-align: middle;\n",
              "    }\n",
              "\n",
              "    .dataframe tbody tr th {\n",
              "        vertical-align: top;\n",
              "    }\n",
              "\n",
              "    .dataframe thead th {\n",
              "        text-align: right;\n",
              "    }\n",
              "</style>\n",
              "<table border=\"1\" class=\"dataframe\">\n",
              "  <thead>\n",
              "    <tr style=\"text-align: right;\">\n",
              "      <th></th>\n",
              "      <th>description</th>\n",
              "      <th>neighborhood_overview</th>\n",
              "      <th>transit</th>\n",
              "      <th>street</th>\n",
              "      <th>neighborhood</th>\n",
              "      <th>city</th>\n",
              "      <th>suburb</th>\n",
              "      <th>state</th>\n",
              "      <th>zipcode</th>\n",
              "      <th>latitude</th>\n",
              "      <th>longitude</th>\n",
              "      <th>price</th>\n",
              "      <th>weekly_price</th>\n",
              "      <th>monthly_price</th>\n",
              "      <th>review_scores_location</th>\n",
              "    </tr>\n",
              "  </thead>\n",
              "  <tbody>\n",
              "    <tr>\n",
              "      <th>0</th>\n",
              "      <td>House: Clean, New, Modern, Quite, Safe. 10Km f...</td>\n",
              "      <td>Very safe! Family oriented. Older age group.</td>\n",
              "      <td>YES ! The bus (305,309) is exactly two blocks ...</td>\n",
              "      <td>Bulleen, VIC, Australia</td>\n",
              "      <td>Balwyn North</td>\n",
              "      <td>Manningham</td>\n",
              "      <td>Bulleen</td>\n",
              "      <td>VIC</td>\n",
              "      <td>3105</td>\n",
              "      <td>-37.772684</td>\n",
              "      <td>145.092133</td>\n",
              "      <td>60</td>\n",
              "      <td>NaN</td>\n",
              "      <td>NaN</td>\n",
              "      <td>9.0</td>\n",
              "    </tr>\n",
              "    <tr>\n",
              "      <th>1</th>\n",
              "      <td>A large air conditioned room with queen spring...</td>\n",
              "      <td>This hip area is a crossroads between two grea...</td>\n",
              "      <td>Easy transport options - the tram is right out...</td>\n",
              "      <td>Brunswick East, VIC, Australia</td>\n",
              "      <td>Brunswick</td>\n",
              "      <td>Moreland</td>\n",
              "      <td>Brunswick East</td>\n",
              "      <td>VIC</td>\n",
              "      <td>3057</td>\n",
              "      <td>-37.766505</td>\n",
              "      <td>144.980736</td>\n",
              "      <td>35</td>\n",
              "      <td>200.0</td>\n",
              "      <td>803.0</td>\n",
              "      <td>9.0</td>\n",
              "    </tr>\n",
              "    <tr>\n",
              "      <th>2</th>\n",
              "      <td>RIGHT IN THE HEART OF ST KILDA! It doesn't get...</td>\n",
              "      <td>A stay at our apartment means you can enjoy so...</td>\n",
              "      <td>Our apartment is located within walking distan...</td>\n",
              "      <td>St Kilda, VIC, Australia</td>\n",
              "      <td>St Kilda</td>\n",
              "      <td>Port Phillip</td>\n",
              "      <td>St Kilda</td>\n",
              "      <td>VIC</td>\n",
              "      <td>3182</td>\n",
              "      <td>-37.859755</td>\n",
              "      <td>144.977369</td>\n",
              "      <td>159</td>\n",
              "      <td>1253.0</td>\n",
              "      <td>4452.0</td>\n",
              "      <td>9.0</td>\n",
              "    </tr>\n",
              "    <tr>\n",
              "      <th>3</th>\n",
              "      <td>Comfortable, relaxed house, a home away from  ...</td>\n",
              "      <td>This is a great neighbourhood – it is quiet, y...</td>\n",
              "      <td>Public transport is super convenient with a ch...</td>\n",
              "      <td>Thornbury, VIC, Australia</td>\n",
              "      <td>Thornbury</td>\n",
              "      <td>Darebin</td>\n",
              "      <td>Thornbury</td>\n",
              "      <td>VIC</td>\n",
              "      <td>3071</td>\n",
              "      <td>-37.758971</td>\n",
              "      <td>144.989228</td>\n",
              "      <td>50</td>\n",
              "      <td>250.0</td>\n",
              "      <td>920.0</td>\n",
              "      <td>9.0</td>\n",
              "    </tr>\n",
              "    <tr>\n",
              "      <th>4</th>\n",
              "      <td>We offer comfortable accommodation in Inner Me...</td>\n",
              "      <td>NaN</td>\n",
              "      <td>NaN</td>\n",
              "      <td>St Kilda East, VIC, Australia</td>\n",
              "      <td>St Kilda East</td>\n",
              "      <td>Port Phillip</td>\n",
              "      <td>St Kilda East</td>\n",
              "      <td>VIC</td>\n",
              "      <td>3183</td>\n",
              "      <td>-37.864530</td>\n",
              "      <td>144.992238</td>\n",
              "      <td>69</td>\n",
              "      <td>400.0</td>\n",
              "      <td>1900.0</td>\n",
              "      <td>10.0</td>\n",
              "    </tr>\n",
              "  </tbody>\n",
              "</table>\n",
              "</div>"
            ],
            "text/plain": [
              "                                         description  \\\n",
              "0  House: Clean, New, Modern, Quite, Safe. 10Km f...   \n",
              "1  A large air conditioned room with queen spring...   \n",
              "2  RIGHT IN THE HEART OF ST KILDA! It doesn't get...   \n",
              "3  Comfortable, relaxed house, a home away from  ...   \n",
              "4  We offer comfortable accommodation in Inner Me...   \n",
              "\n",
              "                               neighborhood_overview  \\\n",
              "0       Very safe! Family oriented. Older age group.   \n",
              "1  This hip area is a crossroads between two grea...   \n",
              "2  A stay at our apartment means you can enjoy so...   \n",
              "3  This is a great neighbourhood – it is quiet, y...   \n",
              "4                                                NaN   \n",
              "\n",
              "                                             transit  \\\n",
              "0  YES ! The bus (305,309) is exactly two blocks ...   \n",
              "1  Easy transport options - the tram is right out...   \n",
              "2  Our apartment is located within walking distan...   \n",
              "3  Public transport is super convenient with a ch...   \n",
              "4                                                NaN   \n",
              "\n",
              "                           street   neighborhood          city  \\\n",
              "0         Bulleen, VIC, Australia   Balwyn North    Manningham   \n",
              "1  Brunswick East, VIC, Australia      Brunswick      Moreland   \n",
              "2        St Kilda, VIC, Australia       St Kilda  Port Phillip   \n",
              "3       Thornbury, VIC, Australia      Thornbury       Darebin   \n",
              "4   St Kilda East, VIC, Australia  St Kilda East  Port Phillip   \n",
              "\n",
              "           suburb state  zipcode   latitude   longitude  price  weekly_price  \\\n",
              "0         Bulleen   VIC     3105 -37.772684  145.092133     60           NaN   \n",
              "1  Brunswick East   VIC     3057 -37.766505  144.980736     35         200.0   \n",
              "2        St Kilda   VIC     3182 -37.859755  144.977369    159        1253.0   \n",
              "3       Thornbury   VIC     3071 -37.758971  144.989228     50         250.0   \n",
              "4   St Kilda East   VIC     3183 -37.864530  144.992238     69         400.0   \n",
              "\n",
              "   monthly_price  review_scores_location  \n",
              "0            NaN                     9.0  \n",
              "1          803.0                     9.0  \n",
              "2         4452.0                     9.0  \n",
              "3          920.0                     9.0  \n",
              "4         1900.0                    10.0  "
            ]
          },
          "metadata": {
            "tags": []
          },
          "execution_count": 39
        }
      ]
    },
    {
      "cell_type": "code",
      "metadata": {
        "id": "PwBW3IDUWQr_",
        "colab": {
          "base_uri": "https://localhost:8080/",
          "height": 297
        },
        "outputId": "75b25583-bd08-4a01-d706-a5366b3601e5"
      },
      "source": [
        "airbnb_df = airbnb_df[(airbnb_df.price > 0) & (airbnb_df.price < 300)]\n",
        "airbnb_df.describe()"
      ],
      "execution_count": 40,
      "outputs": [
        {
          "output_type": "execute_result",
          "data": {
            "text/html": [
              "<div>\n",
              "<style scoped>\n",
              "    .dataframe tbody tr th:only-of-type {\n",
              "        vertical-align: middle;\n",
              "    }\n",
              "\n",
              "    .dataframe tbody tr th {\n",
              "        vertical-align: top;\n",
              "    }\n",
              "\n",
              "    .dataframe thead th {\n",
              "        text-align: right;\n",
              "    }\n",
              "</style>\n",
              "<table border=\"1\" class=\"dataframe\">\n",
              "  <thead>\n",
              "    <tr style=\"text-align: right;\">\n",
              "      <th></th>\n",
              "      <th>zipcode</th>\n",
              "      <th>latitude</th>\n",
              "      <th>longitude</th>\n",
              "      <th>price</th>\n",
              "      <th>weekly_price</th>\n",
              "      <th>monthly_price</th>\n",
              "      <th>review_scores_location</th>\n",
              "    </tr>\n",
              "  </thead>\n",
              "  <tbody>\n",
              "    <tr>\n",
              "      <th>count</th>\n",
              "      <td>21208.000000</td>\n",
              "      <td>21208.000000</td>\n",
              "      <td>21208.000000</td>\n",
              "      <td>21208.000000</td>\n",
              "      <td>2344.000000</td>\n",
              "      <td>1770.000000</td>\n",
              "      <td>16111.000000</td>\n",
              "    </tr>\n",
              "    <tr>\n",
              "      <th>mean</th>\n",
              "      <td>3093.283808</td>\n",
              "      <td>-37.826531</td>\n",
              "      <td>145.006039</td>\n",
              "      <td>115.449217</td>\n",
              "      <td>773.859642</td>\n",
              "      <td>2855.162147</td>\n",
              "      <td>9.711067</td>\n",
              "    </tr>\n",
              "    <tr>\n",
              "      <th>std</th>\n",
              "      <td>355.606947</td>\n",
              "      <td>0.065847</td>\n",
              "      <td>0.123844</td>\n",
              "      <td>60.431877</td>\n",
              "      <td>498.280034</td>\n",
              "      <td>1992.065571</td>\n",
              "      <td>0.696182</td>\n",
              "    </tr>\n",
              "    <tr>\n",
              "      <th>min</th>\n",
              "      <td>0.000000</td>\n",
              "      <td>-38.224427</td>\n",
              "      <td>144.484326</td>\n",
              "      <td>1.000000</td>\n",
              "      <td>91.000000</td>\n",
              "      <td>400.000000</td>\n",
              "      <td>2.000000</td>\n",
              "    </tr>\n",
              "    <tr>\n",
              "      <th>25%</th>\n",
              "      <td>3006.000000</td>\n",
              "      <td>-37.852257</td>\n",
              "      <td>144.957315</td>\n",
              "      <td>68.000000</td>\n",
              "      <td>430.000000</td>\n",
              "      <td>1600.000000</td>\n",
              "      <td>10.000000</td>\n",
              "    </tr>\n",
              "    <tr>\n",
              "      <th>50%</th>\n",
              "      <td>3067.000000</td>\n",
              "      <td>-37.817196</td>\n",
              "      <td>144.978060</td>\n",
              "      <td>105.000000</td>\n",
              "      <td>700.000000</td>\n",
              "      <td>2600.000000</td>\n",
              "      <td>10.000000</td>\n",
              "    </tr>\n",
              "    <tr>\n",
              "      <th>75%</th>\n",
              "      <td>3160.000000</td>\n",
              "      <td>-37.802800</td>\n",
              "      <td>145.012660</td>\n",
              "      <td>150.000000</td>\n",
              "      <td>1000.000000</td>\n",
              "      <td>3648.000000</td>\n",
              "      <td>10.000000</td>\n",
              "    </tr>\n",
              "    <tr>\n",
              "      <th>max</th>\n",
              "      <td>30122.000000</td>\n",
              "      <td>-37.486284</td>\n",
              "      <td>145.839127</td>\n",
              "      <td>299.000000</td>\n",
              "      <td>9899.000000</td>\n",
              "      <td>54258.000000</td>\n",
              "      <td>10.000000</td>\n",
              "    </tr>\n",
              "  </tbody>\n",
              "</table>\n",
              "</div>"
            ],
            "text/plain": [
              "            zipcode      latitude     longitude         price  weekly_price  \\\n",
              "count  21208.000000  21208.000000  21208.000000  21208.000000   2344.000000   \n",
              "mean    3093.283808    -37.826531    145.006039    115.449217    773.859642   \n",
              "std      355.606947      0.065847      0.123844     60.431877    498.280034   \n",
              "min        0.000000    -38.224427    144.484326      1.000000     91.000000   \n",
              "25%     3006.000000    -37.852257    144.957315     68.000000    430.000000   \n",
              "50%     3067.000000    -37.817196    144.978060    105.000000    700.000000   \n",
              "75%     3160.000000    -37.802800    145.012660    150.000000   1000.000000   \n",
              "max    30122.000000    -37.486284    145.839127    299.000000   9899.000000   \n",
              "\n",
              "       monthly_price  review_scores_location  \n",
              "count    1770.000000            16111.000000  \n",
              "mean     2855.162147                9.711067  \n",
              "std      1992.065571                0.696182  \n",
              "min       400.000000                2.000000  \n",
              "25%      1600.000000               10.000000  \n",
              "50%      2600.000000               10.000000  \n",
              "75%      3648.000000               10.000000  \n",
              "max     54258.000000               10.000000  "
            ]
          },
          "metadata": {
            "tags": []
          },
          "execution_count": 40
        }
      ]
    },
    {
      "cell_type": "code",
      "metadata": {
        "id": "0jU_F6l_WQr_",
        "colab": {
          "base_uri": "https://localhost:8080/"
        },
        "outputId": "f099c85e-4868-470a-e123-a6a4dbf70e00"
      },
      "source": [
        "suburb_melb = set(melb_df.suburb.tolist())\n",
        "suburb_airbnb = set(airbnb_df.suburb.tolist())\n",
        "\n",
        "print(f\"Total de suburb en melb: {len(suburb_melb)}\")\n",
        "print(f\"Total de suburb intersección: {len(suburb_melb.intersection(suburb_airbnb))}\")\n",
        "print(f\"suburb que no están en airbnb: {suburb_melb.difference(suburb_airbnb)}\")"
      ],
      "execution_count": 41,
      "outputs": [
        {
          "output_type": "stream",
          "text": [
            "Total de suburb en melb: 303\n",
            "Total de suburb intersección: 288\n",
            "suburb que no están en airbnb: {'Croydon Hills', 'Wallan', 'Deepdene', 'Taylors Lakes', 'Campbellfield', 'Gisborne', 'Ardeer', 'Coolaroo', 'Strathmore Heights', 'Yallambie', 'Skye', 'St Helena', 'Bacchus Marsh', 'Melton', 'St Albans'}\n"
          ],
          "name": "stdout"
        }
      ]
    },
    {
      "cell_type": "code",
      "metadata": {
        "id": "n50FHMsrmaTa",
        "colab": {
          "base_uri": "https://localhost:8080/"
        },
        "outputId": "cf8890a9-08fe-47e6-d176-0e0025e09598"
      },
      "source": [
        "len(melb_df)"
      ],
      "execution_count": 42,
      "outputs": [
        {
          "output_type": "execute_result",
          "data": {
            "text/plain": [
              "12536"
            ]
          },
          "metadata": {
            "tags": []
          },
          "execution_count": 42
        }
      ]
    },
    {
      "cell_type": "code",
      "metadata": {
        "id": "yor5iVDCWQsA",
        "colab": {
          "base_uri": "https://localhost:8080/"
        },
        "outputId": "25b30048-0e0b-44b6-913b-7d170fdf7541"
      },
      "source": [
        "# Agrupo los airbnb que están a 1, 2.5 o 5 km de distancia del anuncio\n",
        "# Y calculo algunos valores\n",
        "# Esto toma un tiempo así anda por el mate\n",
        "\n",
        "results = []\n",
        "length = len(melb_df)\n",
        "for i, row in melb_df.iterrows():\n",
        "    if i % 100 == 0:\n",
        "        print(f\"\\rProcesando fila: {i} de {length}\", end=\"\")\n",
        "\n",
        "    airbnb_df[\"dist\"] = haversine_np(airbnb_df.latitude, airbnb_df.longitude, row.lat, row.lng)\n",
        "\n",
        "    result = {\n",
        "        \"lat\": row.lat,\n",
        "        \"lng\": row.lng,\n",
        "    }\n",
        "\n",
        "    for d in [1, 2, 2.5]:\n",
        "        d = airbnb_df[airbnb_df.dist < d] \\\n",
        "            .agg({\"dist\": \"count\", \"price\": \"mean\", \"review_scores_location\": \"mean\"}) \\\n",
        "            .rename({\"dist\": f\"count_{d}km\", \"price\": f\"price_mean_{d}km\", \"review_scores_location\": f\"review_mean_{d}km\"})\n",
        "\n",
        "        result = {**result, **d}\n",
        "    results.append(result)"
      ],
      "execution_count": 43,
      "outputs": [
        {
          "output_type": "stream",
          "text": [
            "Procesando fila: 13500 de 12536"
          ],
          "name": "stdout"
        }
      ]
    },
    {
      "cell_type": "code",
      "metadata": {
        "id": "LjmOH8LOWQsA",
        "colab": {
          "base_uri": "https://localhost:8080/",
          "height": 224
        },
        "outputId": "2a05ba5a-cd15-47f8-a612-50976ad5bb82"
      },
      "source": [
        "results = pd.DataFrame(results)\n",
        "results.head()\n"
      ],
      "execution_count": 44,
      "outputs": [
        {
          "output_type": "execute_result",
          "data": {
            "text/html": [
              "<div>\n",
              "<style scoped>\n",
              "    .dataframe tbody tr th:only-of-type {\n",
              "        vertical-align: middle;\n",
              "    }\n",
              "\n",
              "    .dataframe tbody tr th {\n",
              "        vertical-align: top;\n",
              "    }\n",
              "\n",
              "    .dataframe thead th {\n",
              "        text-align: right;\n",
              "    }\n",
              "</style>\n",
              "<table border=\"1\" class=\"dataframe\">\n",
              "  <thead>\n",
              "    <tr style=\"text-align: right;\">\n",
              "      <th></th>\n",
              "      <th>lat</th>\n",
              "      <th>lng</th>\n",
              "      <th>count_1km</th>\n",
              "      <th>price_mean_1km</th>\n",
              "      <th>review_mean_1km</th>\n",
              "      <th>count_2km</th>\n",
              "      <th>price_mean_2km</th>\n",
              "      <th>review_mean_2km</th>\n",
              "      <th>count_2.5km</th>\n",
              "      <th>price_mean_2.5km</th>\n",
              "      <th>review_mean_2.5km</th>\n",
              "    </tr>\n",
              "  </thead>\n",
              "  <tbody>\n",
              "    <tr>\n",
              "      <th>0</th>\n",
              "      <td>-37.7996</td>\n",
              "      <td>144.9984</td>\n",
              "      <td>205.0</td>\n",
              "      <td>115.312195</td>\n",
              "      <td>9.652941</td>\n",
              "      <td>1146.0</td>\n",
              "      <td>120.191972</td>\n",
              "      <td>9.821814</td>\n",
              "      <td>1799.0</td>\n",
              "      <td>119.989994</td>\n",
              "      <td>9.850208</td>\n",
              "    </tr>\n",
              "    <tr>\n",
              "      <th>1</th>\n",
              "      <td>-37.8079</td>\n",
              "      <td>144.9934</td>\n",
              "      <td>424.0</td>\n",
              "      <td>123.297170</td>\n",
              "      <td>9.785311</td>\n",
              "      <td>1449.0</td>\n",
              "      <td>122.149068</td>\n",
              "      <td>9.852740</td>\n",
              "      <td>2002.0</td>\n",
              "      <td>122.017483</td>\n",
              "      <td>9.854309</td>\n",
              "    </tr>\n",
              "    <tr>\n",
              "      <th>2</th>\n",
              "      <td>-37.8093</td>\n",
              "      <td>144.9944</td>\n",
              "      <td>388.0</td>\n",
              "      <td>118.878866</td>\n",
              "      <td>9.786834</td>\n",
              "      <td>1389.0</td>\n",
              "      <td>122.575954</td>\n",
              "      <td>9.850401</td>\n",
              "      <td>2028.0</td>\n",
              "      <td>122.054241</td>\n",
              "      <td>9.845728</td>\n",
              "    </tr>\n",
              "    <tr>\n",
              "      <th>3</th>\n",
              "      <td>-37.7969</td>\n",
              "      <td>144.9969</td>\n",
              "      <td>203.0</td>\n",
              "      <td>121.965517</td>\n",
              "      <td>9.674699</td>\n",
              "      <td>1150.0</td>\n",
              "      <td>119.034783</td>\n",
              "      <td>9.822079</td>\n",
              "      <td>1826.0</td>\n",
              "      <td>118.261227</td>\n",
              "      <td>9.846995</td>\n",
              "    </tr>\n",
              "    <tr>\n",
              "      <th>4</th>\n",
              "      <td>-37.8072</td>\n",
              "      <td>144.9941</td>\n",
              "      <td>398.0</td>\n",
              "      <td>121.683417</td>\n",
              "      <td>9.763636</td>\n",
              "      <td>1421.0</td>\n",
              "      <td>122.434201</td>\n",
              "      <td>9.849913</td>\n",
              "      <td>1942.0</td>\n",
              "      <td>121.684346</td>\n",
              "      <td>9.859615</td>\n",
              "    </tr>\n",
              "  </tbody>\n",
              "</table>\n",
              "</div>"
            ],
            "text/plain": [
              "       lat       lng  count_1km  price_mean_1km  review_mean_1km  count_2km  \\\n",
              "0 -37.7996  144.9984      205.0      115.312195         9.652941     1146.0   \n",
              "1 -37.8079  144.9934      424.0      123.297170         9.785311     1449.0   \n",
              "2 -37.8093  144.9944      388.0      118.878866         9.786834     1389.0   \n",
              "3 -37.7969  144.9969      203.0      121.965517         9.674699     1150.0   \n",
              "4 -37.8072  144.9941      398.0      121.683417         9.763636     1421.0   \n",
              "\n",
              "   price_mean_2km  review_mean_2km  count_2.5km  price_mean_2.5km  \\\n",
              "0      120.191972         9.821814       1799.0        119.989994   \n",
              "1      122.149068         9.852740       2002.0        122.017483   \n",
              "2      122.575954         9.850401       2028.0        122.054241   \n",
              "3      119.034783         9.822079       1826.0        118.261227   \n",
              "4      122.434201         9.849913       1942.0        121.684346   \n",
              "\n",
              "   review_mean_2.5km  \n",
              "0           9.850208  \n",
              "1           9.854309  \n",
              "2           9.845728  \n",
              "3           9.846995  \n",
              "4           9.859615  "
            ]
          },
          "metadata": {
            "tags": []
          },
          "execution_count": 44
        }
      ]
    },
    {
      "cell_type": "code",
      "metadata": {
        "id": "gVCeOGO8WQsA"
      },
      "source": [
        "melb_df = melb_df.merge(results.drop_duplicates(subset=['lat', 'lng']), how='left', on=[\"lat\", \"lng\"])\n"
      ],
      "execution_count": 45,
      "outputs": []
    },
    {
      "cell_type": "code",
      "metadata": {
        "id": "xAuTXMvvWQsB",
        "colab": {
          "base_uri": "https://localhost:8080/"
        },
        "outputId": "7b5aea17-e0dd-49d9-cef5-7e801cdd32e0"
      },
      "source": [
        "melb_df.groupby(\"count_1km\")[\"count_1km\"].count().sort_values()"
      ],
      "execution_count": 46,
      "outputs": [
        {
          "output_type": "execute_result",
          "data": {
            "text/plain": [
              "count_1km\n",
              "3920.0      1\n",
              "680.0       1\n",
              "681.0       1\n",
              "686.0       1\n",
              "687.0       1\n",
              "         ... \n",
              "10.0      273\n",
              "6.0       290\n",
              "5.0       290\n",
              "18.0      290\n",
              "4.0       320\n",
              "Name: count_1km, Length: 871, dtype: int64"
            ]
          },
          "metadata": {
            "tags": []
          },
          "execution_count": 46
        }
      ]
    },
    {
      "cell_type": "markdown",
      "metadata": {
        "id": "GG0I7H3AWQsB"
      },
      "source": [
        ":up: Vamos a tener que imputar algunos valores"
      ]
    },
    {
      "cell_type": "markdown",
      "metadata": {
        "id": "AcOzAkBlWQsB"
      },
      "source": [
        "Teniendo la lat y lng de cada casa, podemos usar la api de open streen map para buscar información relevante en la cercania de las propiedades como:\n",
        "- Escuelas\n",
        "- Plazas\n",
        "- Supermercados"
      ]
    },
    {
      "cell_type": "markdown",
      "metadata": {
        "id": "ismngxPcfoWb"
      },
      "source": [
        "## Ejercicio 2: Imputación\n",
        "\n",
        "1. Imputar los valores faltantes de la columna CouncilArea en base a la información presente en Suburb. (Si en el punto anterior no seleccionó ninguna de estas variables, agréguelas ahora el conjunto de datos).\n",
        "\n",
        "2. Imputar los valores faltantes de la(s) columna(s) que se agregaron a partir del conjunto de datos de AirBnB.\n",
        "\n"
      ]
    },
    {
      "cell_type": "markdown",
      "metadata": {
        "id": "G4ClSr_JapCw"
      },
      "source": [
        "- Imputar la cantidad de baños considerando la cantidad de habitaciones y el sub\n",
        "- Imputar el tamaño del terreno segun la cantidad de habitaciones, baños y sub"
      ]
    },
    {
      "cell_type": "code",
      "metadata": {
        "id": "0n7LUhGTaou6",
        "colab": {
          "base_uri": "https://localhost:8080/",
          "height": 100
        },
        "outputId": "eb0c78ae-54bd-4f6d-bdc4-4448bcb3dd58"
      },
      "source": [
        "melb_df.head(1)"
      ],
      "execution_count": 47,
      "outputs": [
        {
          "output_type": "execute_result",
          "data": {
            "text/html": [
              "<div>\n",
              "<style scoped>\n",
              "    .dataframe tbody tr th:only-of-type {\n",
              "        vertical-align: middle;\n",
              "    }\n",
              "\n",
              "    .dataframe tbody tr th {\n",
              "        vertical-align: top;\n",
              "    }\n",
              "\n",
              "    .dataframe thead th {\n",
              "        text-align: right;\n",
              "    }\n",
              "</style>\n",
              "<table border=\"1\" class=\"dataframe\">\n",
              "  <thead>\n",
              "    <tr style=\"text-align: right;\">\n",
              "      <th></th>\n",
              "      <th>type</th>\n",
              "      <th>suburb</th>\n",
              "      <th>type_cat</th>\n",
              "      <th>suburb_cat</th>\n",
              "      <th>lat</th>\n",
              "      <th>lng</th>\n",
              "      <th>distance</th>\n",
              "      <th>price</th>\n",
              "      <th>year_built</th>\n",
              "      <th>land_size</th>\n",
              "      <th>building_area</th>\n",
              "      <th>rooms</th>\n",
              "      <th>bathroom</th>\n",
              "      <th>car</th>\n",
              "      <th>suburb_grouped</th>\n",
              "      <th>count_1km</th>\n",
              "      <th>price_mean_1km</th>\n",
              "      <th>review_mean_1km</th>\n",
              "      <th>count_2km</th>\n",
              "      <th>price_mean_2km</th>\n",
              "      <th>review_mean_2km</th>\n",
              "      <th>count_2.5km</th>\n",
              "      <th>price_mean_2.5km</th>\n",
              "      <th>review_mean_2.5km</th>\n",
              "    </tr>\n",
              "  </thead>\n",
              "  <tbody>\n",
              "    <tr>\n",
              "      <th>0</th>\n",
              "      <td>h</td>\n",
              "      <td>Abbotsford</td>\n",
              "      <td>0</td>\n",
              "      <td>0</td>\n",
              "      <td>-37.7996</td>\n",
              "      <td>144.9984</td>\n",
              "      <td>2.5</td>\n",
              "      <td>1480000.0</td>\n",
              "      <td>NaN</td>\n",
              "      <td>202.0</td>\n",
              "      <td>NaN</td>\n",
              "      <td>2</td>\n",
              "      <td>1</td>\n",
              "      <td>1.0</td>\n",
              "      <td>Abbotsford</td>\n",
              "      <td>205.0</td>\n",
              "      <td>115.312195</td>\n",
              "      <td>9.652941</td>\n",
              "      <td>1146.0</td>\n",
              "      <td>120.191972</td>\n",
              "      <td>9.821814</td>\n",
              "      <td>1799.0</td>\n",
              "      <td>119.989994</td>\n",
              "      <td>9.850208</td>\n",
              "    </tr>\n",
              "  </tbody>\n",
              "</table>\n",
              "</div>"
            ],
            "text/plain": [
              "  type      suburb  type_cat  suburb_cat      lat       lng  distance  \\\n",
              "0    h  Abbotsford         0           0 -37.7996  144.9984       2.5   \n",
              "\n",
              "       price  year_built  land_size  building_area  rooms  bathroom  car  \\\n",
              "0  1480000.0         NaN      202.0            NaN      2         1  1.0   \n",
              "\n",
              "  suburb_grouped  count_1km  price_mean_1km  review_mean_1km  count_2km  \\\n",
              "0     Abbotsford      205.0      115.312195         9.652941     1146.0   \n",
              "\n",
              "   price_mean_2km  review_mean_2km  count_2.5km  price_mean_2.5km  \\\n",
              "0      120.191972         9.821814       1799.0        119.989994   \n",
              "\n",
              "   review_mean_2.5km  \n",
              "0           9.850208  "
            ]
          },
          "metadata": {
            "tags": []
          },
          "execution_count": 47
        }
      ]
    },
    {
      "cell_type": "code",
      "metadata": {
        "id": "QwvlHM-Qa1B8",
        "colab": {
          "base_uri": "https://localhost:8080/",
          "height": 100
        },
        "outputId": "cb08a3a4-cbd6-4131-9d94-f66b67257a8a"
      },
      "source": [
        "#Volvemos a traer CouncilArea\n",
        "original = pd.read_csv(\"https://cs.famaf.unc.edu.ar/~mteruel/datasets/diplodatos/melb_data.csv\", usecols=['CouncilArea',\"Lattitude\",\"Longtitude\"])\n",
        "melb_df = melb_df.merge(original.rename(columns={'CouncilArea':'council_area', 'Lattitude':'lat', 'Longtitude':'lng'}), \n",
        "                        how='left', left_index=True, right_index=True)\n",
        "melb_df.head(1)"
      ],
      "execution_count": 48,
      "outputs": [
        {
          "output_type": "execute_result",
          "data": {
            "text/html": [
              "<div>\n",
              "<style scoped>\n",
              "    .dataframe tbody tr th:only-of-type {\n",
              "        vertical-align: middle;\n",
              "    }\n",
              "\n",
              "    .dataframe tbody tr th {\n",
              "        vertical-align: top;\n",
              "    }\n",
              "\n",
              "    .dataframe thead th {\n",
              "        text-align: right;\n",
              "    }\n",
              "</style>\n",
              "<table border=\"1\" class=\"dataframe\">\n",
              "  <thead>\n",
              "    <tr style=\"text-align: right;\">\n",
              "      <th></th>\n",
              "      <th>type</th>\n",
              "      <th>suburb</th>\n",
              "      <th>type_cat</th>\n",
              "      <th>suburb_cat</th>\n",
              "      <th>lat_x</th>\n",
              "      <th>lng_x</th>\n",
              "      <th>distance</th>\n",
              "      <th>price</th>\n",
              "      <th>year_built</th>\n",
              "      <th>land_size</th>\n",
              "      <th>building_area</th>\n",
              "      <th>rooms</th>\n",
              "      <th>bathroom</th>\n",
              "      <th>car</th>\n",
              "      <th>suburb_grouped</th>\n",
              "      <th>count_1km</th>\n",
              "      <th>price_mean_1km</th>\n",
              "      <th>review_mean_1km</th>\n",
              "      <th>count_2km</th>\n",
              "      <th>price_mean_2km</th>\n",
              "      <th>review_mean_2km</th>\n",
              "      <th>count_2.5km</th>\n",
              "      <th>price_mean_2.5km</th>\n",
              "      <th>review_mean_2.5km</th>\n",
              "      <th>council_area</th>\n",
              "      <th>lat_y</th>\n",
              "      <th>lng_y</th>\n",
              "    </tr>\n",
              "  </thead>\n",
              "  <tbody>\n",
              "    <tr>\n",
              "      <th>0</th>\n",
              "      <td>h</td>\n",
              "      <td>Abbotsford</td>\n",
              "      <td>0</td>\n",
              "      <td>0</td>\n",
              "      <td>-37.7996</td>\n",
              "      <td>144.9984</td>\n",
              "      <td>2.5</td>\n",
              "      <td>1480000.0</td>\n",
              "      <td>NaN</td>\n",
              "      <td>202.0</td>\n",
              "      <td>NaN</td>\n",
              "      <td>2</td>\n",
              "      <td>1</td>\n",
              "      <td>1.0</td>\n",
              "      <td>Abbotsford</td>\n",
              "      <td>205.0</td>\n",
              "      <td>115.312195</td>\n",
              "      <td>9.652941</td>\n",
              "      <td>1146.0</td>\n",
              "      <td>120.191972</td>\n",
              "      <td>9.821814</td>\n",
              "      <td>1799.0</td>\n",
              "      <td>119.989994</td>\n",
              "      <td>9.850208</td>\n",
              "      <td>Yarra</td>\n",
              "      <td>-37.7996</td>\n",
              "      <td>144.9984</td>\n",
              "    </tr>\n",
              "  </tbody>\n",
              "</table>\n",
              "</div>"
            ],
            "text/plain": [
              "  type      suburb  type_cat  suburb_cat    lat_x     lng_x  distance  \\\n",
              "0    h  Abbotsford         0           0 -37.7996  144.9984       2.5   \n",
              "\n",
              "       price  year_built  land_size  building_area  rooms  bathroom  car  \\\n",
              "0  1480000.0         NaN      202.0            NaN      2         1  1.0   \n",
              "\n",
              "  suburb_grouped  count_1km  price_mean_1km  review_mean_1km  count_2km  \\\n",
              "0     Abbotsford      205.0      115.312195         9.652941     1146.0   \n",
              "\n",
              "   price_mean_2km  review_mean_2km  count_2.5km  price_mean_2.5km  \\\n",
              "0      120.191972         9.821814       1799.0        119.989994   \n",
              "\n",
              "   review_mean_2.5km council_area    lat_y     lng_y  \n",
              "0           9.850208        Yarra -37.7996  144.9984  "
            ]
          },
          "metadata": {
            "tags": []
          },
          "execution_count": 48
        }
      ]
    },
    {
      "cell_type": "code",
      "metadata": {
        "id": "-4Tl-25XgNMa",
        "colab": {
          "base_uri": "https://localhost:8080/"
        },
        "outputId": "d5b2432a-9695-4984-db91-b979d73c7f73"
      },
      "source": [
        "#Hay 325 valores NaN en council_area\n",
        "sum(melb_df.council_area.isna())"
      ],
      "execution_count": 49,
      "outputs": [
        {
          "output_type": "execute_result",
          "data": {
            "text/plain": [
              "325"
            ]
          },
          "metadata": {
            "tags": []
          },
          "execution_count": 49
        }
      ]
    },
    {
      "cell_type": "code",
      "metadata": {
        "id": "xcAALTgbd2wT"
      },
      "source": [
        "#Se imputará el Council Area por la moda del suburb.\n",
        "#Se crea un dict que contiene key-values del tipo: suburb-moda_de_council_para_ese_suburb\n",
        "suburb_council_mode = { sub: melb_df[melb_df.suburb_grouped == sub]['council_area'].mode(1).values[0] for sub in melb_df.suburb_grouped.unique()}"
      ],
      "execution_count": 50,
      "outputs": []
    },
    {
      "cell_type": "code",
      "metadata": {
        "id": "KDfbPJcyf135"
      },
      "source": [
        "melb_df['council_area'] = melb_df.apply(lambda row: suburb_council_mode[row.suburb_grouped] \n",
        "                        if type(row.council_area) != str else row['council_area'],axis=1)"
      ],
      "execution_count": 51,
      "outputs": []
    },
    {
      "cell_type": "markdown",
      "metadata": {
        "id": "SPtURe0-s-wn"
      },
      "source": [
        "Imputar la cantidad de baños considerando la cantidad de habitaciones y el sub"
      ]
    },
    {
      "cell_type": "code",
      "metadata": {
        "id": "Mzca62PoiEsy",
        "colab": {
          "base_uri": "https://localhost:8080/"
        },
        "outputId": "fb1d5b91-2189-404f-e4a5-a09369382a58"
      },
      "source": [
        "sum(melb_df.bathroom == 0)"
      ],
      "execution_count": 52,
      "outputs": [
        {
          "output_type": "execute_result",
          "data": {
            "text/plain": [
              "33"
            ]
          },
          "metadata": {
            "tags": []
          },
          "execution_count": 52
        }
      ]
    },
    {
      "cell_type": "code",
      "metadata": {
        "id": "h5Ugvbe5tHP5"
      },
      "source": [
        "#Existen 33 propiedades con 0 baños. Se considera imposible, y se imputará\n",
        "#con el floor del promedio de baños para casas de ese suburbio con la misma cantidad de rooms\n",
        "#si no hay casas en el suburbio con la misma cantidad de rooms, se tomará el promedio del suburbio\n",
        "def imputar_inodoros(row):\n",
        "  if row.bathroom == 0:\n",
        "    suburb_df = melb_df[(melb_df.bathroom > 0) & (melb_df.rooms == row.rooms) & melb_df.suburb_grouped == row.suburb_grouped]\n",
        "    if len(suburb_df) > 0:\n",
        "      return math.floor(suburb_df.bathroom.mean())\n",
        "    else:\n",
        "      suburb_df = melb_df[(melb_df.bathroom > 0) & melb_df.suburb_grouped == row.suburb_grouped]\n",
        "      if len(suburb_df) > 0:\n",
        "        return math.floor(suburb_df.bathroom.mean())\n",
        "      else:\n",
        "        return 1\n",
        "  else:\n",
        "    return row.bathroom\n",
        "\n",
        "melb_df['bathroom'] = melb_df.apply(imputar_inodoros, axis=1)\n"
      ],
      "execution_count": 53,
      "outputs": []
    },
    {
      "cell_type": "markdown",
      "metadata": {
        "id": "-qHtUVkU2GPk"
      },
      "source": [
        "Imputar el tamaño del terreno segun la cantidad de habitaciones, baños y sub"
      ]
    },
    {
      "cell_type": "code",
      "metadata": {
        "id": "nhG-KId82E7t"
      },
      "source": [
        "#Se imputa el promedio del tamaño de terreno del suburbio\n",
        "#En caso de que no haya ningun terreno en el suburbio con landisze > 0, se imputa el promedio del dataset.\n",
        "\n",
        "def imputar_landsize(row):\n",
        "  if row.land_size == 0:\n",
        "    suburb_df = melb_df[(melb_df.land_size > 0) & melb_df.suburb_grouped == row.suburb_grouped]\n",
        "    if len(suburb_df) > 0:\n",
        "      return suburb_df.land_size.mean()\n",
        "    else:\n",
        "      return melb_df[(melb_df.land_size > 0)].land_size.mean()\n",
        "  else:\n",
        "    return row.land_size\n",
        "\n",
        "melb_df['land_size'] = melb_df.apply(imputar_landsize, axis=1)\n"
      ],
      "execution_count": 54,
      "outputs": []
    },
    {
      "cell_type": "markdown",
      "metadata": {
        "id": "NBN7-5OIxjJW"
      },
      "source": [
        "## Ejercicio 3\n",
        "\n",
        "Crear y guardar un nuevo conjunto de datos con todas las transformaciones realizadas anteriormente."
      ]
    },
    {
      "cell_type": "code",
      "metadata": {
        "id": "dRfbm5d0Ylkv"
      },
      "source": [
        "use_cols = ['type', 'lat_x', 'lng_x',\n",
        "       'distance', 'price', 'year_built', 'land_size', 'building_area',\n",
        "       'rooms', 'bathroom', 'car', 'suburb_grouped', 'count_1km',\n",
        "       'price_mean_1km', 'review_mean_1km', 'count_2km', 'price_mean_2km',\n",
        "       'review_mean_2km', 'count_2.5km', 'price_mean_2.5km',\n",
        "       'review_mean_2.5km', 'council_area']\n",
        "melb_df = melb_df[use_cols].rename(columns={'lat_x':'lat', 'lng_x':'lng'})"
      ],
      "execution_count": 60,
      "outputs": []
    },
    {
      "cell_type": "code",
      "metadata": {
        "id": "_79LX4a84Ttu"
      },
      "source": [
        "melb_df.to_csv('melb_df_processed.csv', index=False)"
      ],
      "execution_count": 62,
      "outputs": []
    }
  ]
}