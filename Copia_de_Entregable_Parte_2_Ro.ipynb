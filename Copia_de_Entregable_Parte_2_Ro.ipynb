{
  "nbformat": 4,
  "nbformat_minor": 0,
  "metadata": {
    "colab": {
      "name": "Copia de Entregable - Parte 2.ipynb",
      "provenance": [],
      "collapsed_sections": [],
      "toc_visible": true,
      "include_colab_link": true
    },
    "kernelspec": {
      "name": "python3",
      "display_name": "Python 3"
    }
  },
  "cells": [
    {
      "cell_type": "markdown",
      "metadata": {
        "id": "view-in-github",
        "colab_type": "text"
      },
      "source": [
        "<a href=\"https://colab.research.google.com/github/fnbellomo/DiploDatos2021/blob/main/Copia_de_Entregable_Parte_2_Ro.ipynb\" target=\"_parent\"><img src=\"https://colab.research.google.com/assets/colab-badge.svg\" alt=\"Open In Colab\"/></a>"
      ]
    },
    {
      "cell_type": "markdown",
      "metadata": {
        "id": "LYvAOR2VzHmW"
      },
      "source": [
        "\n",
        "**Diplomatura en Ciencia de Datos, Aprendizaje Automático y sus Aplicaciones**\n",
        "\n",
        "**Edición 2021**\n",
        "\n",
        "---\n",
        "\n",
        "# Trabajo práctico entregable - Parte 2"
      ]
    },
    {
      "cell_type": "code",
      "metadata": {
        "id": "Xwdfo7z20TUK"
      },
      "source": [
        "import io\n",
        "import matplotlib\n",
        "import matplotlib.pyplot as plt\n",
        "import numpy \n",
        "import pandas as pd\n",
        "import seaborn\n",
        "import scipy\n",
        "import matplotlib_venn\n",
        "\n",
        "seaborn.set_context('talk')"
      ],
      "execution_count": 2,
      "outputs": []
    },
    {
      "cell_type": "markdown",
      "metadata": {
        "id": "XY2Hl-Ma07Nn"
      },
      "source": [
        "## Lectura del dataset\n",
        "\n",
        "En la notebook 00 se explican los detalles de la siguiente sección."
      ]
    },
    {
      "cell_type": "code",
      "metadata": {
        "id": "Vviv_sqXdR5W"
      },
      "source": [
        "url = 'https://cs.famaf.unc.edu.ar/~mteruel/datasets/diplodatos/sysarmy_survey_2020_processed.csv'\n",
        "df = pd.read_csv(url)"
      ],
      "execution_count": 3,
      "outputs": []
    },
    {
      "cell_type": "code",
      "metadata": {
        "id": "gckNHXXLktJ4",
        "colab": {
          "base_uri": "https://localhost:8080/",
          "height": 291
        },
        "outputId": "15850c66-ea0b-4bda-ad17-1891511a1d7a"
      },
      "source": [
        "df[:3]"
      ],
      "execution_count": 4,
      "outputs": [
        {
          "output_type": "execute_result",
          "data": {
            "text/html": [
              "<div>\n",
              "<style scoped>\n",
              "    .dataframe tbody tr th:only-of-type {\n",
              "        vertical-align: middle;\n",
              "    }\n",
              "\n",
              "    .dataframe tbody tr th {\n",
              "        vertical-align: top;\n",
              "    }\n",
              "\n",
              "    .dataframe thead th {\n",
              "        text-align: right;\n",
              "    }\n",
              "</style>\n",
              "<table border=\"1\" class=\"dataframe\">\n",
              "  <thead>\n",
              "    <tr style=\"text-align: right;\">\n",
              "      <th></th>\n",
              "      <th>profile_gender</th>\n",
              "      <th>profile_age</th>\n",
              "      <th>work_country</th>\n",
              "      <th>work_province</th>\n",
              "      <th>profile_years_experience</th>\n",
              "      <th>work_years_in_company</th>\n",
              "      <th>work_years_in_current_position</th>\n",
              "      <th>work_people_in_charge_of</th>\n",
              "      <th>profile_studies_level</th>\n",
              "      <th>profile_studies_level_state</th>\n",
              "      <th>profile_career</th>\n",
              "      <th>profile_university</th>\n",
              "      <th>profile_specialization_courses</th>\n",
              "      <th>profile_open_source_contributions</th>\n",
              "      <th>profile_programming_as_hobby</th>\n",
              "      <th>work_role</th>\n",
              "      <th>tools_platform</th>\n",
              "      <th>tools_programming_languages</th>\n",
              "      <th>tools_frameworks</th>\n",
              "      <th>tools_data_bases</th>\n",
              "      <th>tools_qa_testing</th>\n",
              "      <th>tools_IDEs</th>\n",
              "      <th>tools_work_pc_os</th>\n",
              "      <th>tools_cellphone_os</th>\n",
              "      <th>work_on_call_duty</th>\n",
              "      <th>salary_on_call_duty_charge</th>\n",
              "      <th>work_on_call_duty_charge_type</th>\n",
              "      <th>work_contract_type</th>\n",
              "      <th>salary_monthly_BRUTO</th>\n",
              "      <th>salary_monthly_NETO</th>\n",
              "      <th>salary_in_usd</th>\n",
              "      <th>salary_satisfaction</th>\n",
              "      <th>salary_comparison_last_semester</th>\n",
              "      <th>salary_has_bonus</th>\n",
              "      <th>salary_bonus_tied_to</th>\n",
              "      <th>salary_inflation_adjustment_2020</th>\n",
              "      <th>salary_percentage_inflation_adjustment_2020</th>\n",
              "      <th>salary_month_last_inflation_adjustment</th>\n",
              "      <th>work_has_violence_situations</th>\n",
              "      <th>profile_sexual_orientation</th>\n",
              "      <th>profile_has_disabilities</th>\n",
              "      <th>profile_has_disabilities_hiring_difficulties</th>\n",
              "      <th>company_employee_number</th>\n",
              "      <th>company_main_activity</th>\n",
              "      <th>company_recommended</th>\n",
              "      <th>company_diversity_policies</th>\n",
              "      <th>company_extra_benefits</th>\n",
              "      <th>company_best_companies_city</th>\n",
              "    </tr>\n",
              "  </thead>\n",
              "  <tbody>\n",
              "    <tr>\n",
              "      <th>0</th>\n",
              "      <td>Mujer</td>\n",
              "      <td>26</td>\n",
              "      <td>Argentina</td>\n",
              "      <td>Ciudad Autónoma de Buenos Aires</td>\n",
              "      <td>3.0</td>\n",
              "      <td>3.0</td>\n",
              "      <td>3.0</td>\n",
              "      <td>0</td>\n",
              "      <td>Universitario</td>\n",
              "      <td>En curso</td>\n",
              "      <td>Ingeniería en Sistemas de Información</td>\n",
              "      <td>UTN - Universidad Tecnológica Nacional</td>\n",
              "      <td>Sí, los pagó un empleador</td>\n",
              "      <td>No</td>\n",
              "      <td>Sí</td>\n",
              "      <td>Consultant</td>\n",
              "      <td>Ninguna</td>\n",
              "      <td>Ninguno</td>\n",
              "      <td>Ninguno</td>\n",
              "      <td>Ninguna</td>\n",
              "      <td>Ninguna</td>\n",
              "      <td>Ninguno</td>\n",
              "      <td>GNU/Linux</td>\n",
              "      <td>Android</td>\n",
              "      <td>No</td>\n",
              "      <td>0.0</td>\n",
              "      <td>Bruto</td>\n",
              "      <td>Full-Time</td>\n",
              "      <td>53000.0</td>\n",
              "      <td>43000.0</td>\n",
              "      <td>NaN</td>\n",
              "      <td>1</td>\n",
              "      <td>1</td>\n",
              "      <td>No</td>\n",
              "      <td>No recibo bono</td>\n",
              "      <td>No</td>\n",
              "      <td>0.0</td>\n",
              "      <td>0</td>\n",
              "      <td>En mi trabajo actual</td>\n",
              "      <td>Homosexual</td>\n",
              "      <td>NaN</td>\n",
              "      <td>NaN</td>\n",
              "      <td>501-1000</td>\n",
              "      <td>Servicios / Consultoría de Software / Digital</td>\n",
              "      <td>7</td>\n",
              "      <td>2</td>\n",
              "      <td>Capacitaciones y/o cursos, Comidas pagas / sub...</td>\n",
              "      <td>NaN</td>\n",
              "    </tr>\n",
              "    <tr>\n",
              "      <th>1</th>\n",
              "      <td>Hombre</td>\n",
              "      <td>29</td>\n",
              "      <td>Argentina</td>\n",
              "      <td>Corrientes</td>\n",
              "      <td>5.0</td>\n",
              "      <td>2.0</td>\n",
              "      <td>2.0</td>\n",
              "      <td>4</td>\n",
              "      <td>Universitario</td>\n",
              "      <td>En curso</td>\n",
              "      <td>Ingeniería en Sistemas de Información</td>\n",
              "      <td>UTN - Universidad Tecnológica Nacional</td>\n",
              "      <td>Sí, de forma particular, Sí, los pagó un emple...</td>\n",
              "      <td>No</td>\n",
              "      <td>Sí</td>\n",
              "      <td>Developer</td>\n",
              "      <td>Docker, Google Cloud Platform/App Engine</td>\n",
              "      <td>HTML, Javascript, Python</td>\n",
              "      <td>Django, jQuery</td>\n",
              "      <td>Informix, MySQL, PostgreSQL</td>\n",
              "      <td>Ninguna</td>\n",
              "      <td>IPython / Jupyter, Sublime Text, Visual Studio...</td>\n",
              "      <td>GNU/Linux</td>\n",
              "      <td>Android</td>\n",
              "      <td>No</td>\n",
              "      <td>0.0</td>\n",
              "      <td>Bruto</td>\n",
              "      <td>Full-Time</td>\n",
              "      <td>79000.0</td>\n",
              "      <td>63000.0</td>\n",
              "      <td>NaN</td>\n",
              "      <td>2</td>\n",
              "      <td>2</td>\n",
              "      <td>Menos de un sueldo</td>\n",
              "      <td>Performance de la compañía</td>\n",
              "      <td>Uno</td>\n",
              "      <td>10.0</td>\n",
              "      <td>1</td>\n",
              "      <td>Jamás</td>\n",
              "      <td>Heterosexual</td>\n",
              "      <td>Visual</td>\n",
              "      <td>No</td>\n",
              "      <td>201-500</td>\n",
              "      <td>Otras industrias</td>\n",
              "      <td>8</td>\n",
              "      <td>9</td>\n",
              "      <td>Horarios flexibles, Stock options / RSUs, Viát...</td>\n",
              "      <td>NaN</td>\n",
              "    </tr>\n",
              "    <tr>\n",
              "      <th>2</th>\n",
              "      <td>Mujer</td>\n",
              "      <td>22</td>\n",
              "      <td>Argentina</td>\n",
              "      <td>Ciudad Autónoma de Buenos Aires</td>\n",
              "      <td>2.0</td>\n",
              "      <td>0.0</td>\n",
              "      <td>0.0</td>\n",
              "      <td>0</td>\n",
              "      <td>Secundario</td>\n",
              "      <td>Completado</td>\n",
              "      <td>NaN</td>\n",
              "      <td>NaN</td>\n",
              "      <td>Sí, de forma particular, Sí, los pagó un emple...</td>\n",
              "      <td>No</td>\n",
              "      <td>Sí</td>\n",
              "      <td>Infosec</td>\n",
              "      <td>Linux, VMWare</td>\n",
              "      <td>Ninguno</td>\n",
              "      <td>Ninguno</td>\n",
              "      <td>Ninguna</td>\n",
              "      <td>Ninguna</td>\n",
              "      <td>Ninguno</td>\n",
              "      <td>Windows</td>\n",
              "      <td>iOS</td>\n",
              "      <td>No</td>\n",
              "      <td>0.0</td>\n",
              "      <td>Porcentaje de mi sueldo</td>\n",
              "      <td>Full-Time</td>\n",
              "      <td>160000.0</td>\n",
              "      <td>127000.0</td>\n",
              "      <td>NaN</td>\n",
              "      <td>3</td>\n",
              "      <td>3</td>\n",
              "      <td>Un sueldo</td>\n",
              "      <td>Performance individual</td>\n",
              "      <td>No</td>\n",
              "      <td>0.0</td>\n",
              "      <td>0</td>\n",
              "      <td>En un trabajo anterior</td>\n",
              "      <td>Bisexual o queer</td>\n",
              "      <td>NaN</td>\n",
              "      <td>No</td>\n",
              "      <td>2001-5000</td>\n",
              "      <td>Otras industrias</td>\n",
              "      <td>6</td>\n",
              "      <td>9</td>\n",
              "      <td>Clases de gimnasia online, Comidas pagas / sub...</td>\n",
              "      <td>NaN</td>\n",
              "    </tr>\n",
              "  </tbody>\n",
              "</table>\n",
              "</div>"
            ],
            "text/plain": [
              "  profile_gender  ...  company_best_companies_city\n",
              "0          Mujer  ...                          NaN\n",
              "1         Hombre  ...                          NaN\n",
              "2          Mujer  ...                          NaN\n",
              "\n",
              "[3 rows x 48 columns]"
            ]
          },
          "metadata": {
            "tags": []
          },
          "execution_count": 4
        }
      ]
    },
    {
      "cell_type": "code",
      "metadata": {
        "id": "2lzmzK1NuPNT",
        "colab": {
          "base_uri": "https://localhost:8080/",
          "height": 197
        },
        "outputId": "072b605c-d109-474d-eb62-a9a1cab136be"
      },
      "source": [
        "df[['profile_gender', 'salary_monthly_NETO']].groupby('profile_gender').describe()"
      ],
      "execution_count": 5,
      "outputs": [
        {
          "output_type": "execute_result",
          "data": {
            "text/html": [
              "<div>\n",
              "<style scoped>\n",
              "    .dataframe tbody tr th:only-of-type {\n",
              "        vertical-align: middle;\n",
              "    }\n",
              "\n",
              "    .dataframe tbody tr th {\n",
              "        vertical-align: top;\n",
              "    }\n",
              "\n",
              "    .dataframe thead tr th {\n",
              "        text-align: left;\n",
              "    }\n",
              "\n",
              "    .dataframe thead tr:last-of-type th {\n",
              "        text-align: right;\n",
              "    }\n",
              "</style>\n",
              "<table border=\"1\" class=\"dataframe\">\n",
              "  <thead>\n",
              "    <tr>\n",
              "      <th></th>\n",
              "      <th colspan=\"8\" halign=\"left\">salary_monthly_NETO</th>\n",
              "    </tr>\n",
              "    <tr>\n",
              "      <th></th>\n",
              "      <th>count</th>\n",
              "      <th>mean</th>\n",
              "      <th>std</th>\n",
              "      <th>min</th>\n",
              "      <th>25%</th>\n",
              "      <th>50%</th>\n",
              "      <th>75%</th>\n",
              "      <th>max</th>\n",
              "    </tr>\n",
              "    <tr>\n",
              "      <th>profile_gender</th>\n",
              "      <th></th>\n",
              "      <th></th>\n",
              "      <th></th>\n",
              "      <th></th>\n",
              "      <th></th>\n",
              "      <th></th>\n",
              "      <th></th>\n",
              "      <th></th>\n",
              "    </tr>\n",
              "  </thead>\n",
              "  <tbody>\n",
              "    <tr>\n",
              "      <th>Hombre</th>\n",
              "      <td>4944.0</td>\n",
              "      <td>98836.063558</td>\n",
              "      <td>102159.664237</td>\n",
              "      <td>1.0</td>\n",
              "      <td>53285.0</td>\n",
              "      <td>80000.0</td>\n",
              "      <td>110000.0</td>\n",
              "      <td>2080000.0</td>\n",
              "    </tr>\n",
              "    <tr>\n",
              "      <th>Mujer</th>\n",
              "      <td>908.0</td>\n",
              "      <td>73501.414465</td>\n",
              "      <td>56256.880181</td>\n",
              "      <td>2.0</td>\n",
              "      <td>43818.0</td>\n",
              "      <td>65000.0</td>\n",
              "      <td>92000.0</td>\n",
              "      <td>800000.0</td>\n",
              "    </tr>\n",
              "    <tr>\n",
              "      <th>Otros</th>\n",
              "      <td>31.0</td>\n",
              "      <td>95441.354839</td>\n",
              "      <td>88635.674358</td>\n",
              "      <td>40.0</td>\n",
              "      <td>39500.0</td>\n",
              "      <td>74000.0</td>\n",
              "      <td>117500.0</td>\n",
              "      <td>380000.0</td>\n",
              "    </tr>\n",
              "  </tbody>\n",
              "</table>\n",
              "</div>"
            ],
            "text/plain": [
              "               salary_monthly_NETO                ...                     \n",
              "                             count          mean  ...       75%        max\n",
              "profile_gender                                    ...                     \n",
              "Hombre                      4944.0  98836.063558  ...  110000.0  2080000.0\n",
              "Mujer                        908.0  73501.414465  ...   92000.0   800000.0\n",
              "Otros                         31.0  95441.354839  ...  117500.0   380000.0\n",
              "\n",
              "[3 rows x 8 columns]"
            ]
          },
          "metadata": {
            "tags": []
          },
          "execution_count": 5
        }
      ]
    },
    {
      "cell_type": "code",
      "metadata": {
        "colab": {
          "base_uri": "https://localhost:8080/",
          "height": 197
        },
        "id": "pycKJ5jWkShW",
        "outputId": "91fb3ea5-06e9-4aaa-e517-04ff7d6da5a0"
      },
      "source": [
        "df[df.salary_monthly_NETO > 1000]\\\n",
        "  [['profile_gender', 'salary_monthly_NETO']].groupby('profile_gender').describe()"
      ],
      "execution_count": 18,
      "outputs": [
        {
          "output_type": "execute_result",
          "data": {
            "text/html": [
              "<div>\n",
              "<style scoped>\n",
              "    .dataframe tbody tr th:only-of-type {\n",
              "        vertical-align: middle;\n",
              "    }\n",
              "\n",
              "    .dataframe tbody tr th {\n",
              "        vertical-align: top;\n",
              "    }\n",
              "\n",
              "    .dataframe thead tr th {\n",
              "        text-align: left;\n",
              "    }\n",
              "\n",
              "    .dataframe thead tr:last-of-type th {\n",
              "        text-align: right;\n",
              "    }\n",
              "</style>\n",
              "<table border=\"1\" class=\"dataframe\">\n",
              "  <thead>\n",
              "    <tr>\n",
              "      <th></th>\n",
              "      <th colspan=\"8\" halign=\"left\">salary_monthly_NETO</th>\n",
              "    </tr>\n",
              "    <tr>\n",
              "      <th></th>\n",
              "      <th>count</th>\n",
              "      <th>mean</th>\n",
              "      <th>std</th>\n",
              "      <th>min</th>\n",
              "      <th>25%</th>\n",
              "      <th>50%</th>\n",
              "      <th>75%</th>\n",
              "      <th>max</th>\n",
              "    </tr>\n",
              "    <tr>\n",
              "      <th>profile_gender</th>\n",
              "      <th></th>\n",
              "      <th></th>\n",
              "      <th></th>\n",
              "      <th></th>\n",
              "      <th></th>\n",
              "      <th></th>\n",
              "      <th></th>\n",
              "      <th></th>\n",
              "    </tr>\n",
              "  </thead>\n",
              "  <tbody>\n",
              "    <tr>\n",
              "      <th>Hombre</th>\n",
              "      <td>4815.0</td>\n",
              "      <td>101481.624343</td>\n",
              "      <td>102215.304684</td>\n",
              "      <td>1100.0</td>\n",
              "      <td>55000.0</td>\n",
              "      <td>80000.0</td>\n",
              "      <td>110000.0</td>\n",
              "      <td>2080000.0</td>\n",
              "    </tr>\n",
              "    <tr>\n",
              "      <th>Mujer</th>\n",
              "      <td>863.0</td>\n",
              "      <td>77328.913778</td>\n",
              "      <td>55082.760570</td>\n",
              "      <td>2000.0</td>\n",
              "      <td>47850.0</td>\n",
              "      <td>67200.0</td>\n",
              "      <td>93000.0</td>\n",
              "      <td>800000.0</td>\n",
              "    </tr>\n",
              "    <tr>\n",
              "      <th>Otros</th>\n",
              "      <td>28.0</td>\n",
              "      <td>105660.714286</td>\n",
              "      <td>87235.710235</td>\n",
              "      <td>34000.0</td>\n",
              "      <td>43750.0</td>\n",
              "      <td>78900.0</td>\n",
              "      <td>122750.0</td>\n",
              "      <td>380000.0</td>\n",
              "    </tr>\n",
              "  </tbody>\n",
              "</table>\n",
              "</div>"
            ],
            "text/plain": [
              "               salary_monthly_NETO                 ...                     \n",
              "                             count           mean  ...       75%        max\n",
              "profile_gender                                     ...                     \n",
              "Hombre                      4815.0  101481.624343  ...  110000.0  2080000.0\n",
              "Mujer                        863.0   77328.913778  ...   93000.0   800000.0\n",
              "Otros                         28.0  105660.714286  ...  122750.0   380000.0\n",
              "\n",
              "[3 rows x 8 columns]"
            ]
          },
          "metadata": {
            "tags": []
          },
          "execution_count": 18
        }
      ]
    },
    {
      "cell_type": "code",
      "metadata": {
        "id": "uZ1GxkLylHx0"
      },
      "source": [
        "alpha = 0.05"
      ],
      "execution_count": 7,
      "outputs": []
    },
    {
      "cell_type": "code",
      "metadata": {
        "id": "OfzFpDO-lYxk"
      },
      "source": [
        "is_man = df.profile_gender == 'Hombre'\n",
        "\n",
        "groupA = df[(df.salary_monthly_NETO > 1000) & is_man].salary_monthly_NETO\n",
        "groupB = df[(df.salary_monthly_NETO > 1000) & ~is_man].salary_monthly_NETO\n"
      ],
      "execution_count": 19,
      "outputs": []
    },
    {
      "cell_type": "markdown",
      "metadata": {
        "id": "co_0M_ojtmUh"
      },
      "source": [
        "## Ejercicio 1: Estimación\n",
        "\n",
        "**Consigna:**  Calcular una estimación puntual y un intervalo de confianza de nivel (1-alpha) para la resta entre la media del salario Neto para Hombres menos la media del salario Neto para otros géneros(diferencia de las medias entre el grupoA y grupoB). \n",
        "¿Cómo se relaciona este intervalo de confianza con el test de hipótesis?"
      ]
    },
    {
      "cell_type": "code",
      "metadata": {
        "id": "0fA1RQ0upe6N",
        "colab": {
          "base_uri": "https://localhost:8080/"
        },
        "outputId": "439b5614-5e01-4891-9e3a-a3639198281f"
      },
      "source": [
        "IC = 1 - alpha\n",
        "mean_difference = groupA.mean() - groupB.mean()\n",
        "print('IC: ', IC, ' mean_difference: ', mean_difference)"
      ],
      "execution_count": 20,
      "outputs": [
        {
          "output_type": "stream",
          "text": [
            "IC:  0.95  mean_difference:  23262.37339991823\n"
          ],
          "name": "stdout"
        }
      ]
    },
    {
      "cell_type": "markdown",
      "metadata": {
        "id": "789cvq5N-MDJ"
      },
      "source": [
        "La prueba o test de hipótesis me permite tomar una decisión sobre un fenómeno conociendo la probabilidad de que esa decisión sea equivocada. El test de hipótesis no me va a dar verdades absolutas, sino grados de certeza. Así, la hipótesis nula, si no se encuentra evidencia suficiente para rechazarla, es cierta con un porcentaje de probabilidad de que sea incorrecta. \n",
        "Hay un criterio que juega de regla de decisión: el alfa. Este alfa no es más que el máximo error posible que estoy dispuesto a aceptar, o el máximo error aceptable en mi toma de decisión. Y es, precisamente, el valor con el que armo mi intervalo de confianza.  "
      ]
    },
    {
      "cell_type": "markdown",
      "metadata": {
        "id": "IFi2T7Y6nM92"
      },
      "source": [
        "## Ejercicio 2: Test de hipótesis\n"
      ]
    },
    {
      "cell_type": "markdown",
      "metadata": {
        "id": "Rzxe8UYU6EfJ"
      },
      "source": [
        "\n",
        "### 2.1 Formalización\n",
        "\n",
        "Describir formalmente los distintos compenentes de un test de hipótesis para comprobar si la distribución de los salarios es distinta entre los grupos A y B.\n",
        "\n",
        "**Hipótesis Nula**\n",
        "\n",
        "$H_0: \\mu_{A} - \\mu_{B} = 0$\n",
        "\n",
        "**Estadístico (Pivote)**\n",
        "  * Identificar el estadístico: Media muestral \n",
        "  * Escribir qué distribución tiene bajo $H_0$: $N(\\mu_{A} - \\mu_{B}, \\sigma_{A}^2 + \\sigma_{B}^2)$\n"
      ]
    },
    {
      "cell_type": "markdown",
      "metadata": {
        "id": "3Ip_5YdenC8u"
      },
      "source": [
        "### 2.2 P-valor\n",
        "\n",
        "1. Calcule el p-valor y decida si rechazar o no la hipótesis nula.\n",
        "2. Interprete el resultado.\n",
        "3. Los dos grupos de nuestra muestra tienen tamaños muy distintos. ¿Esto afecta al tests?\n",
        "\n",
        "Links útiles:\n",
        "* [Test de hipótesis usando scipy](https://docs.scipy.org/doc/scipy/reference/generated/scipy.stats.ttest_ind.html)\n",
        "* [Test de Welch](http://daniellakens.blogspot.com/2015/01/always-use-welchs-t-test-instead-of.html)"
      ]
    },
    {
      "cell_type": "markdown",
      "metadata": {
        "id": "L_x14c5tXAR8"
      },
      "source": [
        "Previo a seleccionar el test de hipótesis que voy a emplear en mis datos, necesito conocer: cómo se distribuyen y cuál es su varianza o dispersión.\n",
        "No es necesario que mis datos presenten una distribución normal, sino \"aproximadamente\" normal. Esto se debe a que lo que me interesa realmente es que la población tenga una distribución normal. Y por el teorema central del límite, a medida que aumenta el n muestral, las distribuciones tienden a hacerse normales.  \n",
        "Hay dos maneras de averiguar si mis datos presentan normalidad en su distribución: de forma gráfica y de forma numérica.\n",
        "Una de esas formas gráficas implica el uso de un histograma que muestra la distribución de mis datos muestrales y se los contrasta con una línea teórica que indica la distribución que deberían tener mis datos si fueran normales."
      ]
    },
    {
      "cell_type": "code",
      "metadata": {
        "id": "GCMokiOu4tYE",
        "colab": {
          "base_uri": "https://localhost:8080/",
          "height": 427
        },
        "outputId": "6365ee2e-f3bf-4cb3-e22a-e50107d0825a"
      },
      "source": [
        "fig, axes = plt.subplots(1,2, sharey=True, figsize=(12,6))\n",
        "seaborn.histplot(groupA, ax=axes[0], kde=True)\n",
        "seaborn.histplot(groupB, ax=axes[1], kde=True)\n",
        "axes[0].set_xlim([0,500000])\n",
        "axes[1].set_xlim([0,500000])"
      ],
      "execution_count": 10,
      "outputs": [
        {
          "output_type": "execute_result",
          "data": {
            "text/plain": [
              "(0.0, 500000.0)"
            ]
          },
          "metadata": {
            "tags": []
          },
          "execution_count": 10
        },
        {
          "output_type": "display_data",
          "data": {
            "image/png": "[encoded data removed]",
            "text/plain": [
              "<Figure size 864x432 with 2 Axes>"
            ]
          },
          "metadata": {
            "tags": [],
            "needs_background": "light"
          }
        }
      ]
    },
    {
      "cell_type": "markdown",
      "metadata": {
        "id": "epnUXlnudjHA"
      },
      "source": [
        "En ambos casos, vemos que la distribución real y teórica coinciden, por lo que nuestros datos presentan distribución aproximadamente normal."
      ]
    },
    {
      "cell_type": "code",
      "metadata": {
        "id": "lbvc16KJ6qt1",
        "colab": {
          "base_uri": "https://localhost:8080/"
        },
        "outputId": "53c38286-1716-4be5-b9de-5b54127a5181"
      },
      "source": [
        "# muA, sigmaA = scipy.stats.norm.fit(groupA)\n",
        "# # scipy.stats.norm.rvs(muA,sigmaA,)\n",
        "# x = numpy.linspace(0,500000, 100)\n",
        "# plt.plot(x, scipy.stats.norm.pdf(x, muA, sigmaA))\n",
        "scipy.stats.shapiro(groupB)"
      ],
      "execution_count": 11,
      "outputs": [
        {
          "output_type": "execute_result",
          "data": {
            "text/plain": [
              "(0.6330655813217163, 7.517615936486562e-40)"
            ]
          },
          "metadata": {
            "tags": []
          },
          "execution_count": 11
        }
      ]
    },
    {
      "cell_type": "markdown",
      "metadata": {
        "id": "YCUkY0mWd3Ri"
      },
      "source": [
        "También podemos utilizar métodos numéricos, que usan tests de hipótesis. Uno de los más usados es el test Shapiro-Wilkes. Cuando lo aplico a mis datos, este test me indica que es muy poco probable que los datos tengan una distribución normal (p = 0.0 para el grupoA y p = 7.5e-40 para el grupoB). Sin embargo, los resultados de este test están asociados al tamaño muestral. Cuando nuestros n ascienden a valores  mayores a 50, el test Shapiro empieza a no detectar normalidad. En estos casos, la mejor opción es recurrir a recurrir a las visualizaciones. "
      ]
    },
    {
      "cell_type": "code",
      "metadata": {
        "colab": {
          "base_uri": "https://localhost:8080/",
          "height": 185
        },
        "id": "GLAsndfK7Wze",
        "outputId": "4517a413-eacc-4b49-846f-d34b61a6000e"
      },
      "source": [
        "shapiro_test = stats.shapiro(groupA)\n",
        "shapiro_test"
      ],
      "execution_count": 12,
      "outputs": [
        {
          "output_type": "error",
          "ename": "NameError",
          "evalue": "ignored",
          "traceback": [
            "\u001b[0;31m---------------------------------------------------------------------------\u001b[0m",
            "\u001b[0;31mNameError\u001b[0m                                 Traceback (most recent call last)",
            "\u001b[0;32m<ipython-input-12-a4a49c6a568e>\u001b[0m in \u001b[0;36m<module>\u001b[0;34m()\u001b[0m\n\u001b[0;32m----> 1\u001b[0;31m \u001b[0mshapiro_test\u001b[0m \u001b[0;34m=\u001b[0m \u001b[0mstats\u001b[0m\u001b[0;34m.\u001b[0m\u001b[0mshapiro\u001b[0m\u001b[0;34m(\u001b[0m\u001b[0mgroupA\u001b[0m\u001b[0;34m)\u001b[0m\u001b[0;34m\u001b[0m\u001b[0;34m\u001b[0m\u001b[0m\n\u001b[0m\u001b[1;32m      2\u001b[0m \u001b[0mshapiro_test\u001b[0m\u001b[0;34m\u001b[0m\u001b[0;34m\u001b[0m\u001b[0m\n",
            "\u001b[0;31mNameError\u001b[0m: name 'stats' is not defined"
          ]
        }
      ]
    },
    {
      "cell_type": "code",
      "metadata": {
        "id": "pMaxn87T7jyt"
      },
      "source": [
        "shapiro_test = stats.shapiro(groupB)\n",
        "shapiro_test"
      ],
      "execution_count": null,
      "outputs": []
    },
    {
      "cell_type": "markdown",
      "metadata": {
        "id": "XEIImOZbgWOA"
      },
      "source": [
        "Lo siguiente que debo realizar, es evaluar la variabilidad de los datos para determinar si las varianzas son homogéneas o heterogéneas. Esto se conoce también como homocedasticidad. De esto va a depender el test que vayamos a seleccionar.\n"
      ]
    },
    {
      "cell_type": "code",
      "metadata": {
        "colab": {
          "base_uri": "https://localhost:8080/"
        },
        "id": "CekrVnNsCJzY",
        "outputId": "c3142ec1-ff54-4d1d-9b08-f5e8bb207861"
      },
      "source": [
        "groupA.std(), groupB.std()"
      ],
      "execution_count": 24,
      "outputs": [
        {
          "output_type": "execute_result",
          "data": {
            "text/plain": [
              "(102215.30468444877, 56515.32732350074)"
            ]
          },
          "metadata": {
            "tags": []
          },
          "execution_count": 24
        }
      ]
    },
    {
      "cell_type": "markdown",
      "metadata": {
        "id": "L7pcrqdNg_GH"
      },
      "source": [
        "Acá podemos ver que los desvíos de ambos grupos son diferentes, pero para determinar cuán diferentes son (y si son o no homogéneos), empleamos otros tests numéricos que también utilizan tests de hipótesis. Uno de los más recomendados y más frecuentemente utilizados es el test de Levene, que basa sus cálculos en la mediana."
      ]
    },
    {
      "cell_type": "code",
      "metadata": {
        "id": "LWZbsg2iEyRD"
      },
      "source": [
        "levene_test = stats.levene(groupA, groupB, center='median')\n",
        "levene_test\n"
      ],
      "execution_count": null,
      "outputs": []
    },
    {
      "cell_type": "markdown",
      "metadata": {
        "id": "n-bKuhvaDtcM"
      },
      "source": [
        "El test de Levene nos arroja un valor p bastante pequeño (p = 1.33e-6). Es decir, es muy poco probable de que nuestros datos sean homogéneos. Entonces, no podemos usar el test T (ya que asume homogeneidad de varianzas), sino el test de WELCH, que es un test no parametrico (no asume distribuciones determinadas de nuestros datos, sino que presupone distribuciones libres). Este test también nos sirve cuando los tamaños muestrales son tambien diferentes, como en nuestro caso. "
      ]
    },
    {
      "cell_type": "code",
      "metadata": {
        "id": "da_sg2LfEFQk"
      },
      "source": [
        "stats.ttest_ind(groupA, groupB, equal_var = False)"
      ],
      "execution_count": null,
      "outputs": []
    },
    {
      "cell_type": "markdown",
      "metadata": {
        "id": "ElrDy8RbGh53"
      },
      "source": [
        "El valor p es bastante mas chico que nuestro valor alfa (p = 8.6e-22: la probabilidad de que las medias de salarios sean iguales es muy baja), por lo que existe evidencia suficiente para afirmar que las medias de los salarios de los grupos contrastados son diferentes. En otras palabras, los varones cobran mas que los no-varones."
      ]
    },
    {
      "cell_type": "markdown",
      "metadata": {
        "id": "8VxiQr5YrQYR"
      },
      "source": [
        "### [Opcional] 2.3 Potencia del test\n",
        "\n",
        "Nuestra muestra, ¿era lo suficientemente grande para detectar si existe o no una diferencia entre los grupos?\n",
        "\n",
        "1. Utilice la función `tt_ind_solve_power` para calcular el tamaño necesario de la muestra para un poder estadístico de 0.8, 0.9 y 0.95, asumiendo una significancia estadística de 0.05.\n",
        "2. ¿Cómo intepretan el poder estadístico de un test? Dado su conocimiento de dominio sobre los datos, ¿les parece que esta muestra es lo suficientemente grande para ser representativo de la tendencia general? ¿y para utilizarlo en un juicio penal contra una empresa XX por una causa de discriminación?\n",
        "\n",
        "[Documentación](https://www.statsmodels.org/stable/generated/statsmodels.stats.power.tt_ind_solve_power.html)\n",
        "\n",
        "NOTA: este análisis debería hacerse ANTES de recolectar los datos."
      ]
    },
    {
      "cell_type": "code",
      "metadata": {
        "id": "_IiqGfo4t6Db"
      },
      "source": [
        "from statsmodels.stats.power import tt_ind_solve_power"
      ],
      "execution_count": null,
      "outputs": []
    },
    {
      "cell_type": "code",
      "metadata": {
        "id": "LUQ7MA2Apj9x"
      },
      "source": [
        "effect_size = (groupA.mean() - groupB.mean()) / groupB.std()\n",
        "# nobs1=None  - What we want to know\n",
        "alpha = 0.05\n",
        "ratio = len(groupB) / len(groupA)\n"
      ],
      "execution_count": null,
      "outputs": []
    },
    {
      "cell_type": "code",
      "metadata": {
        "id": "cvHcpY-3ty8Q"
      },
      "source": [
        "nobs1 = tt_ind_solve_power(effect_size=effect_size, nobs1=None, alpha=alpha, power=0.8, ratio=ratio)\n",
        "nobs1"
      ],
      "execution_count": null,
      "outputs": []
    },
    {
      "cell_type": "code",
      "metadata": {
        "id": "SHg1rexI1nXl"
      },
      "source": [
        "nobs2 = nobs1 * ratio\n",
        "nobs2"
      ],
      "execution_count": null,
      "outputs": []
    },
    {
      "cell_type": "code",
      "metadata": {
        "id": "XT_yIhTk04D5"
      },
      "source": [
        "nobs1 = tt_ind_solve_power(effect_size=effect_size, alpha=alpha, power=0.9, ratio=ratio)\n",
        "nobs1"
      ],
      "execution_count": null,
      "outputs": []
    },
    {
      "cell_type": "code",
      "metadata": {
        "id": "LI27Oz0J2sKJ"
      },
      "source": [
        "nobs2 = nobs1 * ratio\n",
        "nobs2"
      ],
      "execution_count": null,
      "outputs": []
    },
    {
      "cell_type": "code",
      "metadata": {
        "id": "Ze_pwkuK09XQ"
      },
      "source": [
        "nobs1 = tt_ind_solve_power(effect_size=effect_size, alpha=alpha, power=0.95, ratio=ratio)\n",
        "nobs1"
      ],
      "execution_count": null,
      "outputs": []
    },
    {
      "cell_type": "code",
      "metadata": {
        "id": "aWkDT2Tm2ydR"
      },
      "source": [
        "nobs2 = nobs1 * ratio\n",
        "nobs2"
      ],
      "execution_count": null,
      "outputs": []
    },
    {
      "cell_type": "markdown",
      "metadata": {
        "id": "-6hLhj-i23hh"
      },
      "source": [
        "El poder estadistico de un test indica la probabilidad de cometer un error de tipo 2, o de aceptar la hipotesis nula cuando en realidad es falsa. Es decir, que la hipotesis alternativa es cierta sigo sin encontrar evidencias suficientes para rechazarla.\n",
        "El poder es la probabilidad que tiene mi test de rechazar correctamente la hipotesis nula cuando es efectivametne falsa (y la correcta es la alternativa)."
      ]
    },
    {
      "cell_type": "code",
      "metadata": {
        "id": "A68tIRW64R--",
        "colab": {
          "base_uri": "https://localhost:8080/"
        },
        "outputId": "282ff627-b5e3-46e7-9557-e84e994b148e"
      },
      "source": [
        "groupA.count(), groupB.count()"
      ],
      "execution_count": 17,
      "outputs": [
        {
          "output_type": "execute_result",
          "data": {
            "text/plain": [
              "(4815, 891)"
            ]
          },
          "metadata": {
            "tags": []
          },
          "execution_count": 17
        }
      ]
    },
    {
      "cell_type": "markdown",
      "metadata": {
        "id": "-RBKXrG34bRA"
      },
      "source": [
        "Nuestras muestras superan ampliamente los tamaños necesarios en los tres niveles de beta probados, con un nivel de significancia de 0.05."
      ]
    },
    {
      "cell_type": "markdown",
      "metadata": {
        "id": "useKMdPyMod5"
      },
      "source": [
        "## Ejercicio 3: Comunicación y visualización\n",
        "\n",
        "**Consigna:** Seleccionen un resultado que les parezca relevante a partir de alguno de los ejercicios del entregable. Diseñe e implemente una comunicación en base a este mensaje, en un archivo PDF.\n",
        "\n",
        "Elija las palabras y visualización más adecuada para que la comunicación sea entendible, efectiva y se dapte a UNA de las siguientes situaciones:\n",
        "\n",
        "1. Una sección en un artículo de difusión a presentar como parte de una organización sin fines de lucro.\n",
        "No más de 1 página A4 (o dos si los gráficos son muy grandes).\n",
        "  1. Ejemplo: Alguna de las secciones [Los ecosistemas de emprendimiento de América Latina y el Caribe frente al COVID-19: Impactos, necesidades y recomendaciones](https://publications.iadb.org/es/los-ecosistemas-de-emprendimiento-de-america-latina-y-el-caribe-frente-al-covid-19-impactos-necesidades-y-recomendaciones), por ejemplo la sección *2.2. Reacciones de los emprendedores*.\n",
        "  2. Ejemplo: Alguna de las secciones de [The state of gender pay gap in 2021](https://www.payscale.com/data/gender-pay-gap?tk=carousel-ps-rc-job)\n",
        "  3. Puntos clave: \n",
        "    1. Simpleza de los gráficos.\n",
        "    2. Comunicación en lenguaje simple a personas que no son necesariamente expertos de dominio.\n",
        "    2. Selección de UNA oración sobre la que se hace énfasis.\n",
        "    3. No es necesario que mencionen objetivos ni descripciones del conjunto de datos, se supone que eso ya estaría explicado en otras secciones del informe.\n",
        "\n",
        "2. Una publicación científica o reporte técnico interno. No más de una página A4:\n",
        "  2. Ejemplo: La sección de resultados de [IZA DP No. 12914: The Impact of a Minimum Wage Change on the Distribution of Wages and Household Income](https://www.iza.org/publications/dp/12914/the-impact-of-a-minimum-wage-change-on-the-distribution-of-wages-and-household-income).\n",
        "  2. Ejemplo: Alguna de las secciones de [Temporary reduction in daily global CO2 emissions during the COVID-19 forced confinement](https://www.nature.com/articles/s41558-020-0797-x)\n",
        "  3. Puntos clave:\n",
        "    3. Nivel de detalle técnico requerido. Es necesario justificar la validez del análisis.\n",
        "    4. La idea presentada puede ser más compleja. Pueden asumir que la audiencia tiene conocimiento técnico y va a analizar las visualizaciones en detalle. \n",
        "    5. Pueden presentar más en detalle las limitaciones del análisis (significancia estadística, etc.)\n",
        "    2. No es necesario que mencionen objetivos ni descripciones del conjunto de datos, se supone que eso ya estaría explicado en otras secciones del informe.\n",
        "\n",
        "3. Un tweet (o post de LinkedIn) para la cuenta de su empresa consultora que hace análisis de datos. El objetivo es promocionar un análisis de datos abiertos que van a incluir en su portfolio:\n",
        "  1. Ejemplo: [Comparación vacunas covid](https://twitter.com/infobeautiful/status/1381577746527236098?s=20)\n",
        "  2. Ejemplo: [Tweet del BID](https://twitter.com/el_BID/status/1388508583944507396?s=20). Lo valioso de este tweet es que usaron un único número para transmitir un mensaje. Puede ser algo así, o con un gráfico muy simple.\n",
        "  3. Ejemplo: [Cambio climático](https://twitter.com/UNFCCC/status/1387732156190011394?s=20) Es un muy buen ejemplo, excepto que el gráfico no se lee nada y hay que entrar a la publicación original.\n",
        "  3. Ejemplo: [¿Cuánto están los programadores en las empresas?](https://www.linkedin.com/posts/denis-rothman-0b034043_tech-career-work-activity-6793861923269054464-gS6y) (No verificamos la veracidad o seriedad de la fuente).\n",
        "  4. Puntos clave:\n",
        "    1. Su audiencia no va a mirar la visualización por más de unos segundos, y no tiene conocimiento técnico.\n",
        "  3. Tienen que incluir además una *breve* descripción de cómo obtuvieron los datos que están presentando, que no entraría en el tweet.\n"
      ]
    },
    {
      "cell_type": "code",
      "metadata": {
        "id": "twwYHUztt45L"
      },
      "source": [
        "import matplotlib.pyplot as plt\n",
        "from matplotlib_venn import venn2"
      ],
      "execution_count": 13,
      "outputs": []
    },
    {
      "cell_type": "code",
      "metadata": {
        "id": "Hg6maT01A41a",
        "outputId": "8280e2ff-60b9-46d7-cc39-aeb2dd59c922",
        "colab": {
          "base_uri": "https://localhost:8080/",
          "height": 256
        }
      },
      "source": [
        "venn2(subsets = (102215, 56515, 23262), set_labels = ('Grupo A', 'Grupo B'))\n",
        "plt.show()"
      ],
      "execution_count": 26,
      "outputs": [
        {
          "output_type": "display_data",
          "data": {
            "image/png": "[encoded data removed]",
            "text/plain": [
              "<Figure size 432x288 with 1 Axes>"
            ]
          },
          "metadata": {
            "tags": []
          }
        }
      ]
    }
  ]
}