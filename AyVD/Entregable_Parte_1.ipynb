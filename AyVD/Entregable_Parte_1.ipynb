{
  "nbformat": 4,
  "nbformat_minor": 0,
  "metadata": {
    "colab": {
      "name": "Copia de Entregable - Parte 1 - v2.ipynb",
      "provenance": [],
      "collapsed_sections": [],
      "include_colab_link": true
    },
    "kernelspec": {
      "name": "python3",
      "display_name": "Python 3"
    }
  },
  "cells": [
    {
      "cell_type": "markdown",
      "metadata": {
        "id": "view-in-github",
        "colab_type": "text"
      },
      "source": [
        "<a href=\"https://colab.research.google.com/github/fnbellomo/DiploDatos2021/blob/main/AyVD/Entregable_Parte_1.ipynb\" target=\"_parent\"><img src=\"https://colab.research.google.com/assets/colab-badge.svg\" alt=\"Open In Colab\"/></a>"
      ]
    },
    {
      "cell_type": "markdown",
      "metadata": {
        "id": "LYvAOR2VzHmW"
      },
      "source": [
        "\n",
        "**Diplomatura en Ciencia de Datos, Aprendizaje Automático y sus Aplicaciones**\n",
        "\n",
        "**Edición 2021**\n",
        "\n",
        "---\n",
        "## Trabajo práctico entregable - Parte 1"
      ]
    },
    {
      "cell_type": "code",
      "metadata": {
        "id": "Xwdfo7z20TUK",
        "colab": {
          "base_uri": "https://localhost:8080/"
        },
        "outputId": "3e4f2921-bd05-40a3-b805-ce286687f25b"
      },
      "source": [
        "import io\n",
        "import matplotlib\n",
        "import matplotlib.pyplot as plt\n",
        "import numpy\n",
        "import pandas as pd\n",
        "import seaborn\n",
        "!pip install joypy\n",
        "import joypy\n",
        "\n",
        "seaborn.set_context('talk')\n",
        "seaborn.set_theme(style=\"darkgrid\")"
      ],
      "execution_count": 2,
      "outputs": [
        {
          "output_type": "stream",
          "text": [
            "Collecting joypy\n",
            "  Downloading https://files.pythonhosted.org/packages/a8/94/2fd59e3e443ca0ad0212a0a8cc9c887f7405f86ffc2028f825767c6f4528/joypy-0.2.5-py2.py3-none-any.whl\n",
            "Requirement already satisfied: scipy>=0.11.0 in /usr/local/lib/python3.7/dist-packages (from joypy) (1.4.1)\n",
            "Requirement already satisfied: matplotlib in /usr/local/lib/python3.7/dist-packages (from joypy) (3.2.2)\n",
            "Requirement already satisfied: numpy>=1.16.5 in /usr/local/lib/python3.7/dist-packages (from joypy) (1.19.5)\n",
            "Requirement already satisfied: pandas>=0.20.0 in /usr/local/lib/python3.7/dist-packages (from joypy) (1.1.5)\n",
            "Requirement already satisfied: pyparsing!=2.0.4,!=2.1.2,!=2.1.6,>=2.0.1 in /usr/local/lib/python3.7/dist-packages (from matplotlib->joypy) (2.4.7)\n",
            "Requirement already satisfied: kiwisolver>=1.0.1 in /usr/local/lib/python3.7/dist-packages (from matplotlib->joypy) (1.3.1)\n",
            "Requirement already satisfied: python-dateutil>=2.1 in /usr/local/lib/python3.7/dist-packages (from matplotlib->joypy) (2.8.1)\n",
            "Requirement already satisfied: cycler>=0.10 in /usr/local/lib/python3.7/dist-packages (from matplotlib->joypy) (0.10.0)\n",
            "Requirement already satisfied: pytz>=2017.2 in /usr/local/lib/python3.7/dist-packages (from pandas>=0.20.0->joypy) (2018.9)\n",
            "Requirement already satisfied: six>=1.5 in /usr/local/lib/python3.7/dist-packages (from python-dateutil>=2.1->matplotlib->joypy) (1.15.0)\n",
            "Installing collected packages: joypy\n",
            "Successfully installed joypy-0.2.5\n"
          ],
          "name": "stdout"
        }
      ]
    },
    {
      "cell_type": "markdown",
      "metadata": {
        "id": "XY2Hl-Ma07Nn"
      },
      "source": [
        "## Lectura del dataset\n",
        "\n",
        "En la notebook 00 se explican los detalles de la siguiente sección."
      ]
    },
    {
      "cell_type": "markdown",
      "metadata": {
        "id": "hINQ4oVCxg2V"
      },
      "source": [
        ""
      ]
    },
    {
      "cell_type": "code",
      "metadata": {
        "id": "Vviv_sqXdR5W"
      },
      "source": [
        "url = 'https://cs.famaf.unc.edu.ar/~mteruel/datasets/diplodatos/sysarmy_survey_2020_processed.csv'\n",
        "df = pd.read_csv(url)"
      ],
      "execution_count": 3,
      "outputs": []
    },
    {
      "cell_type": "code",
      "metadata": {
        "id": "gckNHXXLktJ4",
        "colab": {
          "base_uri": "https://localhost:8080/",
          "height": 283
        },
        "outputId": "7e8693a0-5b27-4d66-833a-8dcad14f26c2"
      },
      "source": [
        "df[:3]"
      ],
      "execution_count": 4,
      "outputs": [
        {
          "output_type": "execute_result",
          "data": {
            "text/html": [
              "<div>\n",
              "<style scoped>\n",
              "    .dataframe tbody tr th:only-of-type {\n",
              "        vertical-align: middle;\n",
              "    }\n",
              "\n",
              "    .dataframe tbody tr th {\n",
              "        vertical-align: top;\n",
              "    }\n",
              "\n",
              "    .dataframe thead th {\n",
              "        text-align: right;\n",
              "    }\n",
              "</style>\n",
              "<table border=\"1\" class=\"dataframe\">\n",
              "  <thead>\n",
              "    <tr style=\"text-align: right;\">\n",
              "      <th></th>\n",
              "      <th>profile_gender</th>\n",
              "      <th>profile_age</th>\n",
              "      <th>work_country</th>\n",
              "      <th>work_province</th>\n",
              "      <th>profile_years_experience</th>\n",
              "      <th>work_years_in_company</th>\n",
              "      <th>work_years_in_current_position</th>\n",
              "      <th>work_people_in_charge_of</th>\n",
              "      <th>profile_studies_level</th>\n",
              "      <th>profile_studies_level_state</th>\n",
              "      <th>profile_career</th>\n",
              "      <th>profile_university</th>\n",
              "      <th>profile_specialization_courses</th>\n",
              "      <th>profile_open_source_contributions</th>\n",
              "      <th>profile_programming_as_hobby</th>\n",
              "      <th>work_role</th>\n",
              "      <th>tools_platform</th>\n",
              "      <th>tools_programming_languages</th>\n",
              "      <th>tools_frameworks</th>\n",
              "      <th>tools_data_bases</th>\n",
              "      <th>tools_qa_testing</th>\n",
              "      <th>tools_IDEs</th>\n",
              "      <th>tools_work_pc_os</th>\n",
              "      <th>tools_cellphone_os</th>\n",
              "      <th>work_on_call_duty</th>\n",
              "      <th>salary_on_call_duty_charge</th>\n",
              "      <th>work_on_call_duty_charge_type</th>\n",
              "      <th>work_contract_type</th>\n",
              "      <th>salary_monthly_BRUTO</th>\n",
              "      <th>salary_monthly_NETO</th>\n",
              "      <th>salary_in_usd</th>\n",
              "      <th>salary_satisfaction</th>\n",
              "      <th>salary_comparison_last_semester</th>\n",
              "      <th>salary_has_bonus</th>\n",
              "      <th>salary_bonus_tied_to</th>\n",
              "      <th>salary_inflation_adjustment_2020</th>\n",
              "      <th>salary_percentage_inflation_adjustment_2020</th>\n",
              "      <th>salary_month_last_inflation_adjustment</th>\n",
              "      <th>work_has_violence_situations</th>\n",
              "      <th>profile_sexual_orientation</th>\n",
              "      <th>profile_has_disabilities</th>\n",
              "      <th>profile_has_disabilities_hiring_difficulties</th>\n",
              "      <th>company_employee_number</th>\n",
              "      <th>company_main_activity</th>\n",
              "      <th>company_recommended</th>\n",
              "      <th>company_diversity_policies</th>\n",
              "      <th>company_extra_benefits</th>\n",
              "      <th>company_best_companies_city</th>\n",
              "    </tr>\n",
              "  </thead>\n",
              "  <tbody>\n",
              "    <tr>\n",
              "      <th>0</th>\n",
              "      <td>Mujer</td>\n",
              "      <td>26</td>\n",
              "      <td>Argentina</td>\n",
              "      <td>Ciudad Autónoma de Buenos Aires</td>\n",
              "      <td>3.0</td>\n",
              "      <td>3.0</td>\n",
              "      <td>3.0</td>\n",
              "      <td>0</td>\n",
              "      <td>Universitario</td>\n",
              "      <td>En curso</td>\n",
              "      <td>Ingeniería en Sistemas de Información</td>\n",
              "      <td>UTN - Universidad Tecnológica Nacional</td>\n",
              "      <td>Sí, los pagó un empleador</td>\n",
              "      <td>No</td>\n",
              "      <td>Sí</td>\n",
              "      <td>Consultant</td>\n",
              "      <td>Ninguna</td>\n",
              "      <td>Ninguno</td>\n",
              "      <td>Ninguno</td>\n",
              "      <td>Ninguna</td>\n",
              "      <td>Ninguna</td>\n",
              "      <td>Ninguno</td>\n",
              "      <td>GNU/Linux</td>\n",
              "      <td>Android</td>\n",
              "      <td>No</td>\n",
              "      <td>0.0</td>\n",
              "      <td>Bruto</td>\n",
              "      <td>Full-Time</td>\n",
              "      <td>53000.0</td>\n",
              "      <td>43000.0</td>\n",
              "      <td>NaN</td>\n",
              "      <td>1</td>\n",
              "      <td>1</td>\n",
              "      <td>No</td>\n",
              "      <td>No recibo bono</td>\n",
              "      <td>No</td>\n",
              "      <td>0.0</td>\n",
              "      <td>0</td>\n",
              "      <td>En mi trabajo actual</td>\n",
              "      <td>Homosexual</td>\n",
              "      <td>NaN</td>\n",
              "      <td>NaN</td>\n",
              "      <td>501-1000</td>\n",
              "      <td>Servicios / Consultoría de Software / Digital</td>\n",
              "      <td>7</td>\n",
              "      <td>2</td>\n",
              "      <td>Capacitaciones y/o cursos, Comidas pagas / sub...</td>\n",
              "      <td>NaN</td>\n",
              "    </tr>\n",
              "    <tr>\n",
              "      <th>1</th>\n",
              "      <td>Hombre</td>\n",
              "      <td>29</td>\n",
              "      <td>Argentina</td>\n",
              "      <td>Corrientes</td>\n",
              "      <td>5.0</td>\n",
              "      <td>2.0</td>\n",
              "      <td>2.0</td>\n",
              "      <td>4</td>\n",
              "      <td>Universitario</td>\n",
              "      <td>En curso</td>\n",
              "      <td>Ingeniería en Sistemas de Información</td>\n",
              "      <td>UTN - Universidad Tecnológica Nacional</td>\n",
              "      <td>Sí, de forma particular, Sí, los pagó un emple...</td>\n",
              "      <td>No</td>\n",
              "      <td>Sí</td>\n",
              "      <td>Developer</td>\n",
              "      <td>Docker, Google Cloud Platform/App Engine</td>\n",
              "      <td>HTML, Javascript, Python</td>\n",
              "      <td>Django, jQuery</td>\n",
              "      <td>Informix, MySQL, PostgreSQL</td>\n",
              "      <td>Ninguna</td>\n",
              "      <td>IPython / Jupyter, Sublime Text, Visual Studio...</td>\n",
              "      <td>GNU/Linux</td>\n",
              "      <td>Android</td>\n",
              "      <td>No</td>\n",
              "      <td>0.0</td>\n",
              "      <td>Bruto</td>\n",
              "      <td>Full-Time</td>\n",
              "      <td>79000.0</td>\n",
              "      <td>63000.0</td>\n",
              "      <td>NaN</td>\n",
              "      <td>2</td>\n",
              "      <td>2</td>\n",
              "      <td>Menos de un sueldo</td>\n",
              "      <td>Performance de la compañía</td>\n",
              "      <td>Uno</td>\n",
              "      <td>10.0</td>\n",
              "      <td>1</td>\n",
              "      <td>Jamás</td>\n",
              "      <td>Heterosexual</td>\n",
              "      <td>Visual</td>\n",
              "      <td>No</td>\n",
              "      <td>201-500</td>\n",
              "      <td>Otras industrias</td>\n",
              "      <td>8</td>\n",
              "      <td>9</td>\n",
              "      <td>Horarios flexibles, Stock options / RSUs, Viát...</td>\n",
              "      <td>NaN</td>\n",
              "    </tr>\n",
              "    <tr>\n",
              "      <th>2</th>\n",
              "      <td>Mujer</td>\n",
              "      <td>22</td>\n",
              "      <td>Argentina</td>\n",
              "      <td>Ciudad Autónoma de Buenos Aires</td>\n",
              "      <td>2.0</td>\n",
              "      <td>0.0</td>\n",
              "      <td>0.0</td>\n",
              "      <td>0</td>\n",
              "      <td>Secundario</td>\n",
              "      <td>Completado</td>\n",
              "      <td>NaN</td>\n",
              "      <td>NaN</td>\n",
              "      <td>Sí, de forma particular, Sí, los pagó un emple...</td>\n",
              "      <td>No</td>\n",
              "      <td>Sí</td>\n",
              "      <td>Infosec</td>\n",
              "      <td>Linux, VMWare</td>\n",
              "      <td>Ninguno</td>\n",
              "      <td>Ninguno</td>\n",
              "      <td>Ninguna</td>\n",
              "      <td>Ninguna</td>\n",
              "      <td>Ninguno</td>\n",
              "      <td>Windows</td>\n",
              "      <td>iOS</td>\n",
              "      <td>No</td>\n",
              "      <td>0.0</td>\n",
              "      <td>Porcentaje de mi sueldo</td>\n",
              "      <td>Full-Time</td>\n",
              "      <td>160000.0</td>\n",
              "      <td>127000.0</td>\n",
              "      <td>NaN</td>\n",
              "      <td>3</td>\n",
              "      <td>3</td>\n",
              "      <td>Un sueldo</td>\n",
              "      <td>Performance individual</td>\n",
              "      <td>No</td>\n",
              "      <td>0.0</td>\n",
              "      <td>0</td>\n",
              "      <td>En un trabajo anterior</td>\n",
              "      <td>Bisexual o queer</td>\n",
              "      <td>NaN</td>\n",
              "      <td>No</td>\n",
              "      <td>2001-5000</td>\n",
              "      <td>Otras industrias</td>\n",
              "      <td>6</td>\n",
              "      <td>9</td>\n",
              "      <td>Clases de gimnasia online, Comidas pagas / sub...</td>\n",
              "      <td>NaN</td>\n",
              "    </tr>\n",
              "  </tbody>\n",
              "</table>\n",
              "</div>"
            ],
            "text/plain": [
              "  profile_gender  ...  company_best_companies_city\n",
              "0          Mujer  ...                          NaN\n",
              "1         Hombre  ...                          NaN\n",
              "2          Mujer  ...                          NaN\n",
              "\n",
              "[3 rows x 48 columns]"
            ]
          },
          "metadata": {
            "tags": []
          },
          "execution_count": 4
        }
      ]
    },
    {
      "cell_type": "markdown",
      "metadata": {
        "id": "-ZSQYANFHHgV"
      },
      "source": [
        "# Ejercicio 1 - Análisis descriptivo\n",
        "\n",
        "Responder a la pregunta: **¿Cuáles son los lenguajes de programación asociados a los mejores salarios?**\n",
        "\n",
        "Para ello:\n",
        "1. Seleccionar las columnas relevantes para analizar.\n",
        "2. Seleccionar las filas relevantes para analizar. Esto incluye la eliminación de valores extremos y erróneos, pero también puede enfocar el análisis en una sub-población. Por ejemplo, se pueden limitar a personas con un salario mayor que 10000 pesos, o a las personas que trabajan sólo en \"Data Science\", pero deben justificar su elección y reformular la pregunta inicial de ser necesario.\n",
        "  * Obtener una lista de los lenguajes de programación más populares. Decidir cuántos y cuáles seleccionan para incluir en el análisis.\n",
        "  * Para cada una de las otras columnas del punto anterior, elegir los rangos o valores seleccionan para incluir en el análisis.\n",
        "3. Seleccionar métricas que ayuden a responder la pregunta, y los métodos para analizarlas. Elegir UNA de las siguientes opciones:\n",
        "  * Comparar las distribuciones de salario para cada lenguaje utilizando visualizaciones. Como la visualización es el producto final, debe ser clara y mostrar información relevante.\n",
        "  * Comparar medidas de estadística descriptiva sobre la distribución de salario para cada lenguaje. Sean creativos, la estadística descriptiva nos permite decir cosas como: \"el 10% de los mejores sueldos los ganan, en su mayoría, programadores que saben kotlin!\" (donde *mayoría* es un término medio engañoso que sólo significa más del 50%). Para comparar múltiples lenguajes, les recomendamos usar también visualizaciones.\n",
        "  * Comparar probabilidades. Por ejemplo: \"Si sabés Python o Java, tenés un 30% más de chances de ganar arriba de 100K\".\n",
        "\n",
        "Si lo consideran necesario, realicen varias iteraciones. Es decir, si encuentran que las distribuciones de los lenguajes de programación que seleccionaron inicialmente no son muy diferentes, pueden re-hacer el análisis usando sólo los lenguajes de programación que son diferentes."
      ]
    },
    {
      "cell_type": "code",
      "metadata": {
        "id": "6dqTEr7cZgvl"
      },
      "source": [
        "# complete here if you want to include more columns\n",
        "relevant_columns = ['tools_programming_languages', 'salary_monthly_NETO', 'salary_monthly_BRUTO', 'salary_has_bonus', 'profile_years_experience', 'work_contract_type']"
      ],
      "execution_count": 5,
      "outputs": []
    },
    {
      "cell_type": "markdown",
      "metadata": {
        "id": "OoGgzMvuEocM"
      },
      "source": [
        "### Conteo de frecuencias de los lenguajes de programación\n",
        "\n",
        "La columna que contiene información sobre los lenguajes de programación utilizados es `tools_programming_languages`. Sus valores son strings con los lenguajes seleccionados separados por comas.\n",
        "\n"
      ]
    },
    {
      "cell_type": "code",
      "metadata": {
        "colab": {
          "base_uri": "https://localhost:8080/"
        },
        "id": "J7AB2Ty8SvNl",
        "outputId": "d1d5e387-15ee-48d5-c317-039cfc2719fe"
      },
      "source": [
        "df.tools_programming_languages[:3]"
      ],
      "execution_count": 6,
      "outputs": [
        {
          "output_type": "execute_result",
          "data": {
            "text/plain": [
              "0                     Ninguno\n",
              "1    HTML, Javascript, Python\n",
              "2                     Ninguno\n",
              "Name: tools_programming_languages, dtype: object"
            ]
          },
          "metadata": {
            "tags": []
          },
          "execution_count": 6
        }
      ]
    },
    {
      "cell_type": "markdown",
      "metadata": {
        "id": "l8bYmvMhSroH"
      },
      "source": [
        "Las siguientes celdas de código separan estos lenguajes de programación y cuentan la frecuencia con la que aparecen.\n",
        "\n",
        "No es necesario entender este código en profundidad, aunque sí es un buen ejercicio."
      ]
    },
    {
      "cell_type": "code",
      "metadata": {
        "colab": {
          "base_uri": "https://localhost:8080/",
          "height": 191
        },
        "id": "PAQ81x3iUP_N",
        "outputId": "3d9b269b-ec96-4e02-916f-ddc8e17f1bf8"
      },
      "source": [
        "# Convert the comma-separated string of languages to a list of string.\n",
        "# Remove 'ninguno de los anteriores' option, spaces and training commas.\n",
        "def split_languages(languages_str):\n",
        "  if not isinstance(languages_str, str):\n",
        "    return []\n",
        "  # Remove 'other' option\n",
        "  languages_str = languages_str.lower()\\\n",
        "    .replace('ninguno de los anteriores', '')\n",
        "  # Split string into list of items\n",
        "  # Remove spaces and commas for each item\n",
        "  return [lang.strip().replace(',', '')\n",
        "          for lang in languages_str.split()]\n",
        "\n",
        "# Create a new column with the list of languages\n",
        "df.loc[:, 'cured_programming_languages'] = df.tools_programming_languages\\\n",
        "    .apply(split_languages)\n",
        "if 'cured_programming_languages' not in relevant_columns:\n",
        "    relevant_columns.append('cured_programming_languages') \n",
        "\n",
        "# Duplicate each row of df for each programming language\n",
        "# mentioned in the response.\n",
        "# We only include in df_lang the columns we are going to analyze later, so we\n",
        "# don't duplicate innecesary information.\n",
        "df_lang = df.cured_programming_languages\\\n",
        "    .apply(pd.Series).stack()\\\n",
        "    .reset_index(level=-1, drop=True).to_frame()\\\n",
        "    .join(df[relevant_columns])\\\n",
        "    .rename(columns={0: 'programming_language'})\n",
        "# Horrible programming style! But a lot of data science code can be written with\n",
        "# as concatenations of functions (pipelines), and there's no elegant way of\n",
        "# doing that on Python.\n",
        "df_lang[:5]"
      ],
      "execution_count": 7,
      "outputs": [
        {
          "output_type": "execute_result",
          "data": {
            "text/html": [
              "<div>\n",
              "<style scoped>\n",
              "    .dataframe tbody tr th:only-of-type {\n",
              "        vertical-align: middle;\n",
              "    }\n",
              "\n",
              "    .dataframe tbody tr th {\n",
              "        vertical-align: top;\n",
              "    }\n",
              "\n",
              "    .dataframe thead th {\n",
              "        text-align: right;\n",
              "    }\n",
              "</style>\n",
              "<table border=\"1\" class=\"dataframe\">\n",
              "  <thead>\n",
              "    <tr style=\"text-align: right;\">\n",
              "      <th></th>\n",
              "      <th>programming_language</th>\n",
              "      <th>tools_programming_languages</th>\n",
              "      <th>salary_monthly_NETO</th>\n",
              "      <th>salary_monthly_BRUTO</th>\n",
              "      <th>salary_has_bonus</th>\n",
              "      <th>profile_years_experience</th>\n",
              "      <th>work_contract_type</th>\n",
              "      <th>cured_programming_languages</th>\n",
              "    </tr>\n",
              "  </thead>\n",
              "  <tbody>\n",
              "    <tr>\n",
              "      <th>0</th>\n",
              "      <td>ninguno</td>\n",
              "      <td>Ninguno</td>\n",
              "      <td>43000.0</td>\n",
              "      <td>53000.0</td>\n",
              "      <td>No</td>\n",
              "      <td>3.0</td>\n",
              "      <td>Full-Time</td>\n",
              "      <td>[ninguno]</td>\n",
              "    </tr>\n",
              "    <tr>\n",
              "      <th>1</th>\n",
              "      <td>html</td>\n",
              "      <td>HTML, Javascript, Python</td>\n",
              "      <td>63000.0</td>\n",
              "      <td>79000.0</td>\n",
              "      <td>Menos de un sueldo</td>\n",
              "      <td>5.0</td>\n",
              "      <td>Full-Time</td>\n",
              "      <td>[html, javascript, python]</td>\n",
              "    </tr>\n",
              "    <tr>\n",
              "      <th>1</th>\n",
              "      <td>javascript</td>\n",
              "      <td>HTML, Javascript, Python</td>\n",
              "      <td>63000.0</td>\n",
              "      <td>79000.0</td>\n",
              "      <td>Menos de un sueldo</td>\n",
              "      <td>5.0</td>\n",
              "      <td>Full-Time</td>\n",
              "      <td>[html, javascript, python]</td>\n",
              "    </tr>\n",
              "    <tr>\n",
              "      <th>1</th>\n",
              "      <td>python</td>\n",
              "      <td>HTML, Javascript, Python</td>\n",
              "      <td>63000.0</td>\n",
              "      <td>79000.0</td>\n",
              "      <td>Menos de un sueldo</td>\n",
              "      <td>5.0</td>\n",
              "      <td>Full-Time</td>\n",
              "      <td>[html, javascript, python]</td>\n",
              "    </tr>\n",
              "    <tr>\n",
              "      <th>2</th>\n",
              "      <td>ninguno</td>\n",
              "      <td>Ninguno</td>\n",
              "      <td>127000.0</td>\n",
              "      <td>160000.0</td>\n",
              "      <td>Un sueldo</td>\n",
              "      <td>2.0</td>\n",
              "      <td>Full-Time</td>\n",
              "      <td>[ninguno]</td>\n",
              "    </tr>\n",
              "  </tbody>\n",
              "</table>\n",
              "</div>"
            ],
            "text/plain": [
              "  programming_language  ... cured_programming_languages\n",
              "0              ninguno  ...                   [ninguno]\n",
              "1                 html  ...  [html, javascript, python]\n",
              "1           javascript  ...  [html, javascript, python]\n",
              "1               python  ...  [html, javascript, python]\n",
              "2              ninguno  ...                   [ninguno]\n",
              "\n",
              "[5 rows x 8 columns]"
            ]
          },
          "metadata": {
            "tags": []
          },
          "execution_count": 7
        }
      ]
    },
    {
      "cell_type": "markdown",
      "metadata": {
        "id": "qm8NUg-7UEue"
      },
      "source": [
        "En la columna `programming_language` se encuentra cada lenguaje por separado. Notar que si una respuesta contenía 3 lenguajes, como `\"HTML, Javascript, Python\"`, la fila ha sido replicada 3 veces. Por ello, hay tres filas con índice 1."
      ]
    },
    {
      "cell_type": "code",
      "metadata": {
        "colab": {
          "base_uri": "https://localhost:8080/",
          "height": 335
        },
        "id": "lNPb4tTvWCwv",
        "outputId": "15e406f4-8b73-4b03-d6e0-1e41ba7f8911"
      },
      "source": [
        "language_count = df_lang.programming_language.value_counts()\\\n",
        "    .reset_index()\\\n",
        "    .rename(columns={'index': 'language', 'programming_language': 'frequency'})\n",
        "language_count[:10]"
      ],
      "execution_count": 8,
      "outputs": [
        {
          "output_type": "execute_result",
          "data": {
            "text/html": [
              "<div>\n",
              "<style scoped>\n",
              "    .dataframe tbody tr th:only-of-type {\n",
              "        vertical-align: middle;\n",
              "    }\n",
              "\n",
              "    .dataframe tbody tr th {\n",
              "        vertical-align: top;\n",
              "    }\n",
              "\n",
              "    .dataframe thead th {\n",
              "        text-align: right;\n",
              "    }\n",
              "</style>\n",
              "<table border=\"1\" class=\"dataframe\">\n",
              "  <thead>\n",
              "    <tr style=\"text-align: right;\">\n",
              "      <th></th>\n",
              "      <th>language</th>\n",
              "      <th>frequency</th>\n",
              "    </tr>\n",
              "  </thead>\n",
              "  <tbody>\n",
              "    <tr>\n",
              "      <th>0</th>\n",
              "      <td>javascript</td>\n",
              "      <td>2513</td>\n",
              "    </tr>\n",
              "    <tr>\n",
              "      <th>1</th>\n",
              "      <td>sql</td>\n",
              "      <td>2154</td>\n",
              "    </tr>\n",
              "    <tr>\n",
              "      <th>2</th>\n",
              "      <td>html</td>\n",
              "      <td>1861</td>\n",
              "    </tr>\n",
              "    <tr>\n",
              "      <th>3</th>\n",
              "      <td>python</td>\n",
              "      <td>1475</td>\n",
              "    </tr>\n",
              "    <tr>\n",
              "      <th>4</th>\n",
              "      <td>java</td>\n",
              "      <td>1453</td>\n",
              "    </tr>\n",
              "    <tr>\n",
              "      <th>5</th>\n",
              "      <td>css</td>\n",
              "      <td>1247</td>\n",
              "    </tr>\n",
              "    <tr>\n",
              "      <th>6</th>\n",
              "      <td>bash/shell</td>\n",
              "      <td>993</td>\n",
              "    </tr>\n",
              "    <tr>\n",
              "      <th>7</th>\n",
              "      <td>php</td>\n",
              "      <td>891</td>\n",
              "    </tr>\n",
              "    <tr>\n",
              "      <th>8</th>\n",
              "      <td>.net</td>\n",
              "      <td>823</td>\n",
              "    </tr>\n",
              "    <tr>\n",
              "      <th>9</th>\n",
              "      <td>typescript</td>\n",
              "      <td>779</td>\n",
              "    </tr>\n",
              "  </tbody>\n",
              "</table>\n",
              "</div>"
            ],
            "text/plain": [
              "     language  frequency\n",
              "0  javascript       2513\n",
              "1         sql       2154\n",
              "2        html       1861\n",
              "3      python       1475\n",
              "4        java       1453\n",
              "5         css       1247\n",
              "6  bash/shell        993\n",
              "7         php        891\n",
              "8        .net        823\n",
              "9  typescript        779"
            ]
          },
          "metadata": {
            "tags": []
          },
          "execution_count": 8
        }
      ]
    },
    {
      "cell_type": "markdown",
      "metadata": {
        "id": "nThbJ1KeUgDo"
      },
      "source": [
        "## Filtrado de lenguajes relevantes\n",
        "\n",
        "El siguiente código permite seleccionar sólo las filas donde el valor de la columna `programming_language` se encuentre en la lista `interesting_languages`."
      ]
    },
    {
      "cell_type": "code",
      "metadata": {
        "colab": {
          "base_uri": "https://localhost:8080/",
          "height": 47
        },
        "id": "DEpVptnLZUQU",
        "outputId": "f50bb5bb-c352-4718-d72a-46f2d09ff5f2"
      },
      "source": [
        "# Filter out languages that we want to exclude\n",
        "# Complete here with your selected list.\n",
        "interesting_languages = [\"Python\"]\n",
        "filtered_df_lang = df_lang[df_lang.programming_language.isin(interesting_languages)]\n",
        "filtered_df_lang[:5]"
      ],
      "execution_count": 9,
      "outputs": [
        {
          "output_type": "execute_result",
          "data": {
            "text/html": [
              "<div>\n",
              "<style scoped>\n",
              "    .dataframe tbody tr th:only-of-type {\n",
              "        vertical-align: middle;\n",
              "    }\n",
              "\n",
              "    .dataframe tbody tr th {\n",
              "        vertical-align: top;\n",
              "    }\n",
              "\n",
              "    .dataframe thead th {\n",
              "        text-align: right;\n",
              "    }\n",
              "</style>\n",
              "<table border=\"1\" class=\"dataframe\">\n",
              "  <thead>\n",
              "    <tr style=\"text-align: right;\">\n",
              "      <th></th>\n",
              "      <th>programming_language</th>\n",
              "      <th>tools_programming_languages</th>\n",
              "      <th>salary_monthly_NETO</th>\n",
              "      <th>salary_monthly_BRUTO</th>\n",
              "      <th>salary_has_bonus</th>\n",
              "      <th>profile_years_experience</th>\n",
              "      <th>work_contract_type</th>\n",
              "      <th>cured_programming_languages</th>\n",
              "    </tr>\n",
              "  </thead>\n",
              "  <tbody>\n",
              "  </tbody>\n",
              "</table>\n",
              "</div>"
            ],
            "text/plain": [
              "Empty DataFrame\n",
              "Columns: [programming_language, tools_programming_languages, salary_monthly_NETO, salary_monthly_BRUTO, salary_has_bonus, profile_years_experience, work_contract_type, cured_programming_languages]\n",
              "Index: []"
            ]
          },
          "metadata": {
            "tags": []
          },
          "execution_count": 9
        }
      ]
    },
    {
      "cell_type": "markdown",
      "metadata": {
        "id": "tWo8SmmC9FAk"
      },
      "source": [
        "# Ejercicio 2 - Densidades y varias varialbes\n",
        "\n",
        "Responder a la pregunta general: **¿Que herramientas (prácticas y teóricas) són útiles para explorar la base, descubrir patrones, asociaciones?**\n",
        "\n",
        "Para ello considere (igual al ejercicio Anterior):\n",
        "1. Seleccionar las columnas relevantes para analizar.\n",
        "2. Seleccionar las filas relevantes para analizar. Esto incluye la eliminación de valores extremos y erróneos, pero también puede enfocar el análisis en sub-poblaciones. "
      ]
    },
    {
      "cell_type": "markdown",
      "metadata": {
        "id": "5baYhH0XHM3S"
      },
      "source": [
        "## a) Densidad conjunta\n",
        "\n",
        "Que herramientas visuales y modelos puede utilizar para estudiar la distribución y comportamiento de sus datos? \n",
        "\n",
        "Elija tres variables numéricas y 2 variables categóricas. Visualice la base según varias de las variables elegidas. Puede describir de alguna forma el comportamiento de sus datos? Que herramientas utilizaría? Describa\n",
        "\n",
        "\n"
      ]
    },
    {
      "cell_type": "markdown",
      "metadata": {
        "id": "lkuHE2aZGHMO"
      },
      "source": [
        "## b) Asociación\n",
        "\n",
        "* Necesitamos decidir si sacar o no la columna de salario bruto. Para hacer la encuesta más simple.\n",
        "¿Existe una correlación entre el salario bruto y el neto? Que abordaje y medidas usaría\n",
        "\n"
      ]
    },
    {
      "cell_type": "markdown",
      "metadata": {
        "id": "7MZrbRJCm-ae"
      },
      "source": [
        "## c) Densidad condicional \n",
        "\n",
        "Estudie la distribución del salario según el nivel de estudio.\n",
        "\n",
        "Separe la población según el nivel de estudio (elija dos subpoblaciones numerosas) y grafique de manera comparativa ambos histogramas de la variable `'salary_monthly_NETO'`\n",
        "¿Considera que ambas variables son independientes?\n",
        "¿Qué analizaría al respecto?\n",
        "\n",
        "Calcule medidas de centralización y dispersión para cada subpoblación\n",
        "\n",
        "\n",
        "\n",
        "\n"
      ]
    },
    {
      "cell_type": "markdown",
      "metadata": {
        "id": "u8wgYxNiqVpE"
      },
      "source": [
        "## d) Densidad Conjunta condicional\n",
        "\n",
        "Elija dos variables numéricas y una categórica. \n",
        "Estudie la dispersión (scatterplot) de las dos variables discriminando en color por la variable categórica (ayuda: hue en seaborn)\n"
      ]
    },
    {
      "cell_type": "markdown",
      "metadata": {
        "id": "X6889_jPZ4k_"
      },
      "source": [
        "## Resolución\n",
        "\n",
        "#### Definimos como mejor salario:\n",
        "\n",
        " - Mayor sueldo neto\n",
        " - Incluyendo el bono\n",
        " - Salario en blanco\n",
        "\n",
        "#### La columna de ajuste por inflación nos parece relevante para considerar un mejor sueldo, pero creemos que es compleja de analizar debido a que ese campo en la encuesta es muy subjetivo.\n",
        "#### La columna de si la empresa paga cursos (profile_specialization_courses) también nos parece relevante, pero es compleja ya que incluye categorías diversas (no comparables), las cuales pudieron ser solventadas tanto por el empleador, el empleado o por ambos. \n"
      ]
    },
    {
      "cell_type": "code",
      "metadata": {
        "id": "yUokH2eFxA00",
        "colab": {
          "base_uri": "https://localhost:8080/",
          "height": 191
        },
        "outputId": "2a180d49-2fbf-4951-b69e-0720cc8c1c98"
      },
      "source": [
        "df_lang.head()"
      ],
      "execution_count": 10,
      "outputs": [
        {
          "output_type": "execute_result",
          "data": {
            "text/html": [
              "<div>\n",
              "<style scoped>\n",
              "    .dataframe tbody tr th:only-of-type {\n",
              "        vertical-align: middle;\n",
              "    }\n",
              "\n",
              "    .dataframe tbody tr th {\n",
              "        vertical-align: top;\n",
              "    }\n",
              "\n",
              "    .dataframe thead th {\n",
              "        text-align: right;\n",
              "    }\n",
              "</style>\n",
              "<table border=\"1\" class=\"dataframe\">\n",
              "  <thead>\n",
              "    <tr style=\"text-align: right;\">\n",
              "      <th></th>\n",
              "      <th>programming_language</th>\n",
              "      <th>tools_programming_languages</th>\n",
              "      <th>salary_monthly_NETO</th>\n",
              "      <th>salary_monthly_BRUTO</th>\n",
              "      <th>salary_has_bonus</th>\n",
              "      <th>profile_years_experience</th>\n",
              "      <th>work_contract_type</th>\n",
              "      <th>cured_programming_languages</th>\n",
              "    </tr>\n",
              "  </thead>\n",
              "  <tbody>\n",
              "    <tr>\n",
              "      <th>0</th>\n",
              "      <td>ninguno</td>\n",
              "      <td>Ninguno</td>\n",
              "      <td>43000.0</td>\n",
              "      <td>53000.0</td>\n",
              "      <td>No</td>\n",
              "      <td>3.0</td>\n",
              "      <td>Full-Time</td>\n",
              "      <td>[ninguno]</td>\n",
              "    </tr>\n",
              "    <tr>\n",
              "      <th>1</th>\n",
              "      <td>html</td>\n",
              "      <td>HTML, Javascript, Python</td>\n",
              "      <td>63000.0</td>\n",
              "      <td>79000.0</td>\n",
              "      <td>Menos de un sueldo</td>\n",
              "      <td>5.0</td>\n",
              "      <td>Full-Time</td>\n",
              "      <td>[html, javascript, python]</td>\n",
              "    </tr>\n",
              "    <tr>\n",
              "      <th>1</th>\n",
              "      <td>javascript</td>\n",
              "      <td>HTML, Javascript, Python</td>\n",
              "      <td>63000.0</td>\n",
              "      <td>79000.0</td>\n",
              "      <td>Menos de un sueldo</td>\n",
              "      <td>5.0</td>\n",
              "      <td>Full-Time</td>\n",
              "      <td>[html, javascript, python]</td>\n",
              "    </tr>\n",
              "    <tr>\n",
              "      <th>1</th>\n",
              "      <td>python</td>\n",
              "      <td>HTML, Javascript, Python</td>\n",
              "      <td>63000.0</td>\n",
              "      <td>79000.0</td>\n",
              "      <td>Menos de un sueldo</td>\n",
              "      <td>5.0</td>\n",
              "      <td>Full-Time</td>\n",
              "      <td>[html, javascript, python]</td>\n",
              "    </tr>\n",
              "    <tr>\n",
              "      <th>2</th>\n",
              "      <td>ninguno</td>\n",
              "      <td>Ninguno</td>\n",
              "      <td>127000.0</td>\n",
              "      <td>160000.0</td>\n",
              "      <td>Un sueldo</td>\n",
              "      <td>2.0</td>\n",
              "      <td>Full-Time</td>\n",
              "      <td>[ninguno]</td>\n",
              "    </tr>\n",
              "  </tbody>\n",
              "</table>\n",
              "</div>"
            ],
            "text/plain": [
              "  programming_language  ... cured_programming_languages\n",
              "0              ninguno  ...                   [ninguno]\n",
              "1                 html  ...  [html, javascript, python]\n",
              "1           javascript  ...  [html, javascript, python]\n",
              "1               python  ...  [html, javascript, python]\n",
              "2              ninguno  ...                   [ninguno]\n",
              "\n",
              "[5 rows x 8 columns]"
            ]
          },
          "metadata": {
            "tags": []
          },
          "execution_count": 10
        }
      ]
    },
    {
      "cell_type": "code",
      "metadata": {
        "id": "LrWDN7xYw_e2"
      },
      "source": [
        "# Calculo que personas trabajan en blanco\n",
        "df_lang['salary_monthly_porcentaje'] = df_lang['salary_monthly_NETO'] / df_lang['salary_monthly_BRUTO']\n",
        "df_lang['sueldo_en_blanco'] = (df_lang['salary_monthly_porcentaje'] >0.5) & (df_lang['salary_monthly_porcentaje'] <0.9) \n"
      ],
      "execution_count": 11,
      "outputs": []
    },
    {
      "cell_type": "code",
      "metadata": {
        "id": "0cTNtHUU0f1v",
        "colab": {
          "base_uri": "https://localhost:8080/",
          "height": 445
        },
        "outputId": "e86ff90d-4c1e-4c1c-e94c-4dee0e5f6083"
      },
      "source": [
        "total_en_blanco = len(df_lang[df_lang['sueldo_en_blanco']])\n",
        "procentaje_en_blanco = total_en_blanco / len(df_lang)\n",
        "\n",
        "ax = seaborn.pairplot(\n",
        "    data=df_lang,\n",
        "    x_vars=['salary_monthly_NETO'],\n",
        "    y_vars=['salary_monthly_BRUTO'],\n",
        "    hue='sueldo_en_blanco',\n",
        "    aspect=2,\n",
        "    height=6,\n",
        "    plot_kws=dict(alpha=0.1)\n",
        ")\n",
        "t = ax.fig.suptitle(f\"Sueldo NETO vs BRUTO\\nEl porcentaje de personas en blaco es: {procentaje_en_blanco}\")"
      ],
      "execution_count": 12,
      "outputs": [
        {
          "output_type": "display_data",
          "data": {
            "image/png": "[encoded data removed]",
            "text/plain": [
              "<Figure size 979.3x432 with 1 Axes>"
            ]
          },
          "metadata": {
            "tags": [],
            "needs_background": "light"
          }
        }
      ]
    },
    {
      "cell_type": "markdown",
      "metadata": {
        "id": "NDc-E6351msF"
      },
      "source": [
        "#### A continuación, procedemos a filtrar nuestro data set para quedarnos con lo que consideramos \"mejores salarios\". Vamos a eliminar aquellos encuestados que no programan y a aquellos que dejaron un espacio vacío y respondieron \"no\" en lenguaje de programación. Luego uniremos las respuestas pl/sql con sql, ya que hacen referencia a un mismo lenguaje, y a css con html debido a la fuerte correlación de estos dos lenguajes. También se filtran a todos aquellos que realizan trabajo part-time, para poder comparar salarios con horas hombre similares."
      ]
    },
    {
      "cell_type": "code",
      "metadata": {
        "id": "qjd3ebY-fXzT",
        "colab": {
          "base_uri": "https://localhost:8080/",
          "height": 517
        },
        "outputId": "4c906fc6-a201-4ac3-823d-aaa7bedf2d7e"
      },
      "source": [
        "# Elimino de mi data frame aquellas personas que no programan\n",
        "df_filter = df_lang[df_lang.cured_programming_languages.apply(lambda ele: ele != [\"ninguno\"])].copy()\n",
        "\n",
        "# Elimino las filas que presentan un espacio vacio en lenguaje de programacion\n",
        "df_filter.programming_language = df_filter.programming_language.apply(lambda ele: \"\".join(ele.split()))\n",
        "df_filter = df_filter[df_filter.programming_language != \"\"]\n",
        "\n",
        "# Elimino las personas que como respuesta al lenguaje de programación que usan escribieron \"no\"\n",
        "df_filter = df_filter[df_filter.programming_language != \"no\"]\n",
        "\n",
        "# Unifico lenguajes \n",
        "df_filter.programming_language = df_filter.programming_language.replace(\"pl/sql\", \"sql\").replace('css', 'html')\n",
        "\n",
        "# Nos quedamos con los que tiene un sueldo en blanco\n",
        "df_filter = df_filter[df_filter.sueldo_en_blanco]\n",
        "\n",
        "# Hay encuestados que a pesar de haber puesto bien la relacion entre sueldo neto y bruto, expresaron su respuesta en miles de pesos. Agregamos ceros a esos valores.\n",
        "def agrego_los_miles(sueldo):\n",
        "  if sueldo > 1000:\n",
        "    return sueldo\n",
        "  else:\n",
        "    return sueldo * 1000 \n",
        "\n",
        "df_filter.salary_monthly_NETO = df_filter.salary_monthly_NETO.apply(agrego_los_miles)\n",
        "\n",
        "# Nos quedamos con los langs que tiene un conteo mayor a 10\n",
        "lenguajes_ordenados_cantidad = df_filter.programming_language.value_counts()\n",
        "df_filter = df_filter[df_filter.programming_language.isin(lenguajes_ordenados_cantidad[lenguajes_ordenados_cantidad > 10].index.to_list())]\n",
        "\n",
        "# Filtramos aquellos programadores que hacen part-time\n",
        "df_filter = df_filter[df_filter.work_contract_type != 'Part-Time']\n",
        "\n",
        "df_filter[:10]"
      ],
      "execution_count": 13,
      "outputs": [
        {
          "output_type": "execute_result",
          "data": {
            "text/html": [
              "<div>\n",
              "<style scoped>\n",
              "    .dataframe tbody tr th:only-of-type {\n",
              "        vertical-align: middle;\n",
              "    }\n",
              "\n",
              "    .dataframe tbody tr th {\n",
              "        vertical-align: top;\n",
              "    }\n",
              "\n",
              "    .dataframe thead th {\n",
              "        text-align: right;\n",
              "    }\n",
              "</style>\n",
              "<table border=\"1\" class=\"dataframe\">\n",
              "  <thead>\n",
              "    <tr style=\"text-align: right;\">\n",
              "      <th></th>\n",
              "      <th>programming_language</th>\n",
              "      <th>tools_programming_languages</th>\n",
              "      <th>salary_monthly_NETO</th>\n",
              "      <th>salary_monthly_BRUTO</th>\n",
              "      <th>salary_has_bonus</th>\n",
              "      <th>profile_years_experience</th>\n",
              "      <th>work_contract_type</th>\n",
              "      <th>cured_programming_languages</th>\n",
              "      <th>salary_monthly_porcentaje</th>\n",
              "      <th>sueldo_en_blanco</th>\n",
              "    </tr>\n",
              "  </thead>\n",
              "  <tbody>\n",
              "    <tr>\n",
              "      <th>1</th>\n",
              "      <td>html</td>\n",
              "      <td>HTML, Javascript, Python</td>\n",
              "      <td>63000.0</td>\n",
              "      <td>79000.0</td>\n",
              "      <td>Menos de un sueldo</td>\n",
              "      <td>5.0</td>\n",
              "      <td>Full-Time</td>\n",
              "      <td>[html, javascript, python]</td>\n",
              "      <td>0.797468</td>\n",
              "      <td>True</td>\n",
              "    </tr>\n",
              "    <tr>\n",
              "      <th>1</th>\n",
              "      <td>javascript</td>\n",
              "      <td>HTML, Javascript, Python</td>\n",
              "      <td>63000.0</td>\n",
              "      <td>79000.0</td>\n",
              "      <td>Menos de un sueldo</td>\n",
              "      <td>5.0</td>\n",
              "      <td>Full-Time</td>\n",
              "      <td>[html, javascript, python]</td>\n",
              "      <td>0.797468</td>\n",
              "      <td>True</td>\n",
              "    </tr>\n",
              "    <tr>\n",
              "      <th>1</th>\n",
              "      <td>python</td>\n",
              "      <td>HTML, Javascript, Python</td>\n",
              "      <td>63000.0</td>\n",
              "      <td>79000.0</td>\n",
              "      <td>Menos de un sueldo</td>\n",
              "      <td>5.0</td>\n",
              "      <td>Full-Time</td>\n",
              "      <td>[html, javascript, python]</td>\n",
              "      <td>0.797468</td>\n",
              "      <td>True</td>\n",
              "    </tr>\n",
              "    <tr>\n",
              "      <th>3</th>\n",
              "      <td>bash/shell</td>\n",
              "      <td>Bash/Shell, C, CSS, HTML, Java, Javascript, PH...</td>\n",
              "      <td>102000.0</td>\n",
              "      <td>130000.0</td>\n",
              "      <td>No</td>\n",
              "      <td>15.0</td>\n",
              "      <td>Full-Time</td>\n",
              "      <td>[bash/shell, c, css, html, java, javascript, p...</td>\n",
              "      <td>0.784615</td>\n",
              "      <td>True</td>\n",
              "    </tr>\n",
              "    <tr>\n",
              "      <th>3</th>\n",
              "      <td>c</td>\n",
              "      <td>Bash/Shell, C, CSS, HTML, Java, Javascript, PH...</td>\n",
              "      <td>102000.0</td>\n",
              "      <td>130000.0</td>\n",
              "      <td>No</td>\n",
              "      <td>15.0</td>\n",
              "      <td>Full-Time</td>\n",
              "      <td>[bash/shell, c, css, html, java, javascript, p...</td>\n",
              "      <td>0.784615</td>\n",
              "      <td>True</td>\n",
              "    </tr>\n",
              "    <tr>\n",
              "      <th>3</th>\n",
              "      <td>html</td>\n",
              "      <td>Bash/Shell, C, CSS, HTML, Java, Javascript, PH...</td>\n",
              "      <td>102000.0</td>\n",
              "      <td>130000.0</td>\n",
              "      <td>No</td>\n",
              "      <td>15.0</td>\n",
              "      <td>Full-Time</td>\n",
              "      <td>[bash/shell, c, css, html, java, javascript, p...</td>\n",
              "      <td>0.784615</td>\n",
              "      <td>True</td>\n",
              "    </tr>\n",
              "    <tr>\n",
              "      <th>3</th>\n",
              "      <td>html</td>\n",
              "      <td>Bash/Shell, C, CSS, HTML, Java, Javascript, PH...</td>\n",
              "      <td>102000.0</td>\n",
              "      <td>130000.0</td>\n",
              "      <td>No</td>\n",
              "      <td>15.0</td>\n",
              "      <td>Full-Time</td>\n",
              "      <td>[bash/shell, c, css, html, java, javascript, p...</td>\n",
              "      <td>0.784615</td>\n",
              "      <td>True</td>\n",
              "    </tr>\n",
              "    <tr>\n",
              "      <th>3</th>\n",
              "      <td>java</td>\n",
              "      <td>Bash/Shell, C, CSS, HTML, Java, Javascript, PH...</td>\n",
              "      <td>102000.0</td>\n",
              "      <td>130000.0</td>\n",
              "      <td>No</td>\n",
              "      <td>15.0</td>\n",
              "      <td>Full-Time</td>\n",
              "      <td>[bash/shell, c, css, html, java, javascript, p...</td>\n",
              "      <td>0.784615</td>\n",
              "      <td>True</td>\n",
              "    </tr>\n",
              "    <tr>\n",
              "      <th>3</th>\n",
              "      <td>javascript</td>\n",
              "      <td>Bash/Shell, C, CSS, HTML, Java, Javascript, PH...</td>\n",
              "      <td>102000.0</td>\n",
              "      <td>130000.0</td>\n",
              "      <td>No</td>\n",
              "      <td>15.0</td>\n",
              "      <td>Full-Time</td>\n",
              "      <td>[bash/shell, c, css, html, java, javascript, p...</td>\n",
              "      <td>0.784615</td>\n",
              "      <td>True</td>\n",
              "    </tr>\n",
              "    <tr>\n",
              "      <th>3</th>\n",
              "      <td>php</td>\n",
              "      <td>Bash/Shell, C, CSS, HTML, Java, Javascript, PH...</td>\n",
              "      <td>102000.0</td>\n",
              "      <td>130000.0</td>\n",
              "      <td>No</td>\n",
              "      <td>15.0</td>\n",
              "      <td>Full-Time</td>\n",
              "      <td>[bash/shell, c, css, html, java, javascript, p...</td>\n",
              "      <td>0.784615</td>\n",
              "      <td>True</td>\n",
              "    </tr>\n",
              "  </tbody>\n",
              "</table>\n",
              "</div>"
            ],
            "text/plain": [
              "  programming_language  ... sueldo_en_blanco\n",
              "1                 html  ...             True\n",
              "1           javascript  ...             True\n",
              "1               python  ...             True\n",
              "3           bash/shell  ...             True\n",
              "3                    c  ...             True\n",
              "3                 html  ...             True\n",
              "3                 html  ...             True\n",
              "3                 java  ...             True\n",
              "3           javascript  ...             True\n",
              "3                  php  ...             True\n",
              "\n",
              "[10 rows x 10 columns]"
            ]
          },
          "metadata": {
            "tags": []
          },
          "execution_count": 13
        }
      ]
    },
    {
      "cell_type": "markdown",
      "metadata": {
        "id": "qyaZP5FT12S_"
      },
      "source": [
        "#### Calculamos el porcentaje de datos que filtramos para conocer la representatividad de la muestra sobre la población total. Estamos trabajando con un 73.85% de la población original."
      ]
    },
    {
      "cell_type": "code",
      "metadata": {
        "id": "mAW-rjTZ-YDF",
        "colab": {
          "base_uri": "https://localhost:8080/"
        },
        "outputId": "ae625f70-e24d-4973-9e1d-124b686ed7b1"
      },
      "source": [
        "len(df_lang), len(df_filter), len(df_filter)/len(df_lang)"
      ],
      "execution_count": 14,
      "outputs": [
        {
          "output_type": "execute_result",
          "data": {
            "text/plain": [
              "(18000, 13293, 0.7385)"
            ]
          },
          "metadata": {
            "tags": []
          },
          "execution_count": 14
        }
      ]
    },
    {
      "cell_type": "markdown",
      "metadata": {
        "id": "2eyBSmcprzCv"
      },
      "source": [
        "#### La existencia o no de un bono es una variable que modifica sensiblemente el salario neto real que gana cada encuestado. Como la información disponible es categórica, se hace la mejor estimación posible del sueldo real incluyendo el bono, tomando al promedio del rango como bono esperado:\n",
        "\n",
        " \n",
        "\n",
        "*   \"Menos de un sueldo\" = 0.5 sueldos\n",
        "*   \"Un sueldo\" = 1 sueldo\n",
        "*   \"De uno a tres sueldos\" = 2 sueldos\n",
        "*   \"3+ sueldos\" = 3 sueldos\n",
        "*   \"No\" = 0 sueldos\n",
        "\n"
      ]
    },
    {
      "cell_type": "code",
      "metadata": {
        "id": "8mCM81a_Bs1i"
      },
      "source": [
        "\n",
        "def bono_a_sueldo(row):\n",
        "  if row.salary_has_bonus == \"No\":\n",
        "    return row.salary_monthly_NETO\n",
        "  elif row.salary_has_bonus == \"Menos de un sueldo\":\n",
        "    return row.salary_monthly_NETO * ( 1 + 0.5 / 12)\n",
        "  elif row.salary_has_bonus == \"Un sueldo\":\n",
        "    return row.salary_monthly_NETO * ( 1 + 1 / 12)\n",
        "  elif row.salary_has_bonus == \"De uno a tres sueldos\":\n",
        "    return row.salary_monthly_NETO * ( 1 + 2 / 12)\n",
        "  elif row.salary_has_bonus == \"3+ sueldos\":\n",
        "    return row.salary_monthly_NETO * ( 1 + 3 / 12)\n",
        "  else:\n",
        "    return row.salary_monthly_NETO\n",
        "\n",
        "\n",
        "df_filter[\"sueldo_neto_con_bono\"] = df_filter.apply(bono_a_sueldo, axis=1)"
      ],
      "execution_count": 15,
      "outputs": []
    },
    {
      "cell_type": "code",
      "metadata": {
        "id": "WhWUAtqZI9Xe"
      },
      "source": [
        "lenguajes_ordenados_mediana = df_filter.groupby('programming_language').sueldo_neto_con_bono.median().sort_values(ascending=True).index\n",
        "lenguajes_ordenados_cantidad = df_filter.programming_language.value_counts().index"
      ],
      "execution_count": 16,
      "outputs": []
    },
    {
      "cell_type": "markdown",
      "metadata": {
        "id": "6UUrDuwkG8NI"
      },
      "source": [
        "#### Realizamos un gráfico de barras para visualizar los lenguajes de programación más utilizados."
      ]
    },
    {
      "cell_type": "code",
      "metadata": {
        "colab": {
          "base_uri": "https://localhost:8080/",
          "height": 440
        },
        "id": "LD_VTeFngb35",
        "outputId": "0571c68e-f565-4a56-e787-afabaac57290"
      },
      "source": [
        "# Poner colores a cada lenguaje\n",
        "color_labels = list(set(lenguajes_ordenados_mediana[-15:].tolist() + lenguajes_ordenados_cantidad[:15].tolist()))\n",
        "rgb_values = seaborn.color_palette(\"gist_rainbow\", len(color_labels))\n",
        "color_map = dict(zip(color_labels, rgb_values))\n",
        "\n",
        "#Gráfico de barras\n",
        "fig = plt.figure(figsize=(20, 6))\n",
        "chart = seaborn.countplot(\n",
        "    x=df_filter.programming_language,\n",
        "    order = lenguajes_ordenados_cantidad[:15],\n",
        "    palette = [color_map[clr] for clr in lenguajes_ordenados_cantidad[:15]])\n",
        "labels = chart.set_xticklabels(chart.get_xticklabels(), rotation=90)"
      ],
      "execution_count": 17,
      "outputs": [
        {
          "output_type": "display_data",
          "data": {
            "image/png": "[encoded data removed]",
            "text/plain": [
              "<Figure size 1440x432 with 1 Axes>"
            ]
          },
          "metadata": {
            "tags": [],
            "needs_background": "light"
          }
        }
      ]
    },
    {
      "cell_type": "markdown",
      "metadata": {
        "id": "HWwsWGEktaQl"
      },
      "source": [
        "#### Realizada la limpieza y el filtrado de los datos, se procede a graficar la distribución de salarios netos en blanco, incluyendo el bono, para los 15 lenguajes de mayor mediana, ordenados por mediana de menor a mayor"
      ]
    },
    {
      "cell_type": "code",
      "metadata": {
        "colab": {
          "base_uri": "https://localhost:8080/",
          "height": 518
        },
        "id": "zqvC8oLNjP3_",
        "outputId": "9d59cfb6-f77d-4840-d8d0-ad2d41b7e7cc"
      },
      "source": [
        "langs_to_plot = 15\n",
        "plt.figure(figsize=(19, 7))\n",
        "seaborn.boxenplot(\n",
        "    data=df_filter,\n",
        "    y=\"sueldo_neto_con_bono\",\n",
        "    x=\"programming_language\",\n",
        "    color='orangered',\n",
        "    #order=lenguajes_ordenados_cantidad[:50],\n",
        "    order=lenguajes_ordenados_mediana[-langs_to_plot:],\n",
        "    palette = [color_map[clr] for clr in lenguajes_ordenados_mediana[-langs_to_plot:]]\n",
        "  )\n",
        "plt.ticklabel_format(style='plain', axis='y')\n",
        "plt.xticks(rotation=90)\n",
        "plt.ylim(0,600000)"
      ],
      "execution_count": 18,
      "outputs": [
        {
          "output_type": "execute_result",
          "data": {
            "text/plain": [
              "(0.0, 600000.0)"
            ]
          },
          "metadata": {
            "tags": []
          },
          "execution_count": 18
        },
        {
          "output_type": "display_data",
          "data": {
            "image/png": "[encoded data removed]",
            "text/plain": [
              "<Figure size 1368x504 with 1 Axes>"
            ]
          },
          "metadata": {
            "tags": [],
            "needs_background": "light"
          }
        }
      ]
    },
    {
      "cell_type": "markdown",
      "metadata": {
        "id": "dcKuBDrmC_CD"
      },
      "source": [
        "#### Otra forma de analizar estas distribuciones es a través de las funciones de densidad de probabilidad estimadas (kde plots). Este tipo de gráficos reducen la cantidad de información en comparación a un boxenplot, pero aumenta la legibilidad de los mismos.  "
      ]
    },
    {
      "cell_type": "code",
      "metadata": {
        "colab": {
          "base_uri": "https://localhost:8080/",
          "height": 727
        },
        "id": "UIImBRJD3GXY",
        "outputId": "dcaa0adc-c8b5-4b75-e196-a2eef711a641"
      },
      "source": [
        "from matplotlib import cm\n",
        "%matplotlib inline\n",
        "labels=lenguajes_ordenados_mediana[-langs_to_plot:]\n",
        "hacky_replace = {'programming_language': {labels[i]:i for i in range(len(labels))}}\n",
        "fig, axes = joypy.joyplot(df_filter[df_filter.programming_language.isin(labels)].replace(hacky_replace), by=\"programming_language\", \n",
        "                          column=\"sueldo_neto_con_bono\",  labels=labels,\n",
        "                          x_range=[-45000, 500000],\n",
        "                          kind=\"kde\",\n",
        "                          grid=\"both\", linewidth=1, legend=False, figsize=(8,10),\n",
        "                          title=\"Distribuciones de densidad de lenguajes\", fade=True, color = [color_map[clr] for clr in labels]\n",
        "                          )\n"
      ],
      "execution_count": 26,
      "outputs": [
        {
          "output_type": "display_data",
          "data": {
            "image/png": "[encoded data removed]",
            "text/plain": [
              "<Figure size 576x720 with 16 Axes>"
            ]
          },
          "metadata": {
            "tags": [],
            "needs_background": "light"
          }
        }
      ]
    },
    {
      "cell_type": "markdown",
      "metadata": {
        "id": "8YJFz54luN4x"
      },
      "source": [
        "#### Se puede observar que rust, elixir, scala y objective-c son los lenguajes de mejor distribución de ingresos.\n",
        "\n",
        "####Sin embargo, como el nivel de salario incrementa con la cantidad de años de experiencia, es relevante rehacer el análisis de distribución de mejores salarios por lenguaje, subdividiendo a la población en rangos de cantidad de años de experiencia. \n",
        "\n",
        "####De este modo, se puede encontrar los lenguajes con mejores salarios según el nivel de antiguedad de cada interesado."
      ]
    },
    {
      "cell_type": "code",
      "metadata": {
        "id": "MmIZ4wRU5b55"
      },
      "source": [
        "bins = [0,3,6,9,12,15,18,21]\n",
        "labels = [0, 3, 6, 9, 12, 15, 18]\n",
        "df_filter['years_experience_numerical'] = pd.cut(df_filter['profile_years_experience'], bins=bins, labels=labels)\n"
      ],
      "execution_count": null,
      "outputs": []
    },
    {
      "cell_type": "markdown",
      "metadata": {
        "id": "daladPCsSoO3"
      },
      "source": [
        "#### Elaboramos un grafico de linea con las medianas de los salarios de los 10 lenguajes mas utilizados (fig. 1) y de los 10 con mayor mediana (fig. 2) segun la cantidad de años de experiencia (rangos de 3 años). "
      ]
    },
    {
      "cell_type": "code",
      "metadata": {
        "id": "uqjzXDWn3j2U"
      },
      "source": [
        "fig, ax = plt.subplots(2, figsize=(20,20))\n",
        "seaborn.lineplot(data=df_filter[df_filter.programming_language.isin(lenguajes_ordenados_cantidad[:10])], \n",
        "                 x='years_experience_numerical', y='sueldo_neto_con_bono', estimator=numpy.median, \n",
        "                 hue='programming_language', hue_order=lenguajes_ordenados_cantidad[:10],\n",
        "                 linewidth=6, ax=ax[0], ci=None, palette = [color_map[clr] for clr in lenguajes_ordenados_cantidad[:10]])\n",
        "seaborn.lineplot(data=df_filter[df_filter.programming_language.isin(lenguajes_ordenados_mediana[-10:])], \n",
        "                 x='years_experience_numerical', y='sueldo_neto_con_bono', estimator=numpy.median, \n",
        "                 hue='programming_language', hue_order=list(reversed(lenguajes_ordenados_mediana[-10:])),\n",
        "                 linewidth=6, ax=ax[1], ci=None, palette = [color_map[clr] for clr in list(reversed(lenguajes_ordenados_mediana[-10:]))])\n",
        "\n",
        "ax[0].set_title('Sueldo por años de experiencia por lenguaje (10 + frecuentes)')\n",
        "ax[1].set_title('Sueldo por años de experiencia por lenguaje (10 de mayor mediana)')\n",
        "\n",
        "#Leyendas al inicio y al final de las líneas\n",
        "legends_locs = [0, 18]\n",
        "for loc in legends_locs:\n",
        "  medians_per_loc = df_filter[(df_filter.programming_language.isin(lenguajes_ordenados_cantidad[:10])) & (df_filter.years_experience_numerical == loc)].groupby('programming_language').sueldo_neto_con_bono.median().sort_values(ascending=False)\n",
        "  for legend in medians_per_loc.index:\n",
        "    move = 1 if loc == 0 else 0\n",
        "    ax[0].text(loc-move, medians_per_loc[legend], legend)\n",
        "\n",
        "for loc in legends_locs:\n",
        "  medians_per_loc = df_filter[(df_filter.programming_language.isin(lenguajes_ordenados_mediana[-10:])) & (df_filter.years_experience_numerical == loc)].groupby('programming_language').sueldo_neto_con_bono.median().sort_values(ascending=False)\n",
        "  for legend in medians_per_loc.index:\n",
        "    move = 1 if loc == 0 else 0\n",
        "    ax[1].text(loc-move, medians_per_loc[legend], legend)\n",
        "\n",
        "#linewidth del legend\n",
        "for i in [0,1]:\n",
        "  leg = ax[i].legend()\n",
        "  for line in leg.get_lines():\n",
        "    line.set_linewidth(6.0)\n",
        "\n",
        "fig.suptitle(' Crecimiento de las medianas de sueldo según experiencia ', fontsize=30)\n"
      ],
      "execution_count": null,
      "outputs": []
    },
    {
      "cell_type": "markdown",
      "metadata": {
        "id": "GHGDDUA5b3Za"
      },
      "source": [
        "#### Resulta relevante analizar, para estos 10 lenguajes de mayor mediana, la población existente de cada uno, para poder inferir la dificultad de ingresar al \"mercado\" de ese lenguaje:"
      ]
    },
    {
      "cell_type": "code",
      "metadata": {
        "id": "rcTu2EnzcLxM"
      },
      "source": [
        "fig, axes = plt.subplots(2,5,sharey=True,sharex=True, figsize=(20,10))\n",
        "i = 0\n",
        "j = 0\n",
        "for lang in lenguajes_ordenados_mediana[-10:]:\n",
        "  seaborn.histplot(data=df_filter[df_filter.programming_language == lang], x='profile_years_experience', \n",
        "                   ax=axes[i][j], color = color_map[lang])\n",
        "  axes[i][j].set_title(lang, fontsize=15)\n",
        "  axes[i][j].set_xlim([0, 35])\n",
        "  i += 1\n",
        "  i = i % 2\n",
        "  j += 1\n",
        "  j = j % 5\n",
        "fig.suptitle(' Distribución de programadores según experiencia ', fontsize=20)"
      ],
      "execution_count": null,
      "outputs": []
    },
    {
      "cell_type": "code",
      "metadata": {
        "id": "48xbF38NbUSE"
      },
      "source": [
        "fig = plt.figure(figsize=(20, 6))\n",
        "chart = seaborn.countplot(\n",
        "    x=df_filter[df_filter.programming_language.isin(lenguajes_ordenados_mediana[-10:])]['programming_language'],\n",
        "    color='steelblue',\n",
        "    order = df_filter[df_filter.programming_language.isin(lenguajes_ordenados_mediana[-10:])]['programming_language'].value_counts().index,\n",
        "    palette = [color_map[clr] for clr in df_filter[df_filter.programming_language.isin(lenguajes_ordenados_mediana[-10:])]['programming_language'].value_counts().index]\n",
        ")\n",
        "labels = chart.set_xticklabels(chart.get_xticklabels(), rotation=90)\n",
        "fig.suptitle(' Conteo total de programadores por lenguaje ', fontsize=20)"
      ],
      "execution_count": null,
      "outputs": []
    },
    {
      "cell_type": "markdown",
      "metadata": {
        "id": "Lub2q0TjV5F9"
      },
      "source": [
        "###Conclusiones:\n",
        "----------------------\n",
        "#### Se observa una clara tendencia creciente en los sueldos con los años, lo que podría resultar esperable. Pero además, se pueden observar dos puntos de quiebre en esta evolución: a los 3 y a los 12 años de experiencia. \n",
        "####De 0 a 3 años, el crecimiento de la mediana de salarios es acelerado. Entre los 3 y los 12 años se ve un crecimiento menor, pero creciente para todos los lenguajes. A partir de los 12 años, existen lenguajes cuya mediana de salarios decrece. \n",
        "####Esto último puede estar relacionado con una tendencia a perder la actualización en las tecnologías más relevantes al alcanzar los 12 años de carrera, y a la preponderancia de otras habilidades además de las de programación en la balanza del salario cuando se alcanza estos grados de seniority: habilidades de gerenciamiento y negociación.   \n",
        "----------------------\n",
        "####Dentro de los lenguajes más populares (de mayor frecuencia), se puede observar que Bash/Shell comienza como uno de los mejores pagos para personas sin experiencia, pero conforme mayor es la cantidad de años de experiencia, va decreciendo su relevancia con respecto a otros lenguajes. Esto se relaciona con un lenguaje que muchos programadores utilizan conforme aumenta su seniority, pero que es difícil de conseguir en programadores con nula experiencia.\n",
        "#### Los lenguajes Java, Typescript y Python son los de mayor mediana en la mayor parte del rango de años de experiencia. En particular, Java comienza como un lenguaje mal remunerado, lo que indica que probablemente se trata de un lenguaje de mucha demanda y mucho crecimiento: con muchos programadores de nula o poca experiencia, pero  pocos experimentados y por ende que consiguen mejores salarios. \n",
        "#### Por otro lado, Typescript y Python mantienen la mejor mediana de salarios a través de todo el rango de antiguedad. Pero esto es comparándolos únicamente dentro de los lenguajes más utilizados. Ambos pierden si se comparan con algunos de los lenguajes menos populares.\n",
        "---------------------\n",
        "#### Dentro de los lenguajes de mayor mediana, para los programadores de poca experiencia, los más interesantes teniendo en cuenta el salario resultan scala, kotlin, objective-c, go y swift. Scala, por ejemplo, tiene una mediana de salario mejor con 0 años de experiencia que programadores de Java con 3 años de experiencia. Estos lenguajes mantienen su podio en comparación a los otros 10 en casi todas las subpoblaciones por años de antiguedad, con lo que son favoritos en este análisis.\n",
        "#### Al margen de esto, podemos agregar que claramente se trata de lenguajes con menor población de casos, lo que se nota en la poca suavidad de curvas como la de Rust y la de Smalltalk. En ambos casos no existen programadores de pocos años de experiencia. En el caso Rust, tenemos una población muy acotada, pero de grandes salarios. Lo que podemos considerar como un nicho de mercado.\n",
        "#### Normalmente, los nichos de mercado tienen barreras altas de entrada. Por esto, si también ponemos en valor la facilidad de acceder a un lenguaje, y lo estimamos a través de la población existente para dicho lenguaje, podemos observar que, de estos 10 lenguajes de mayor mediana, Go, Kotlin, Groovy, Ruby, Swift y Scala son los que mayor frecuencia tienen. Esto probablemente indica un mercado mayor, con menores barreras de entrada, con alto nieveles de salario, para todos los rangos de antiguedad.\n",
        "\n"
      ]
    },
    {
      "cell_type": "code",
      "metadata": {
        "id": "1FJ47sLPDD_V"
      },
      "source": [
        "# import time\n",
        "# for pal in ['Accent', 'Accent_r', 'Blues', 'Blues_r', 'BrBG', 'BrBG_r', 'BuGn', 'BuGn_r', 'BuPu', 'BuPu_r', \n",
        "#  'CMRmap', 'CMRmap_r', 'Dark2', 'Dark2_r', 'GnBu', 'GnBu_r', 'Greens', 'Greens_r', 'Greys', 'Greys_r', 'OrRd', \n",
        "#  'OrRd_r', 'Oranges', 'Oranges_r', 'PRGn', 'PRGn_r', 'Paired', 'Paired_r', 'Pastel1', \n",
        "#  'Pastel1_r', 'Pastel2', 'Pastel2_r', 'PiYG', 'PiYG_r', 'PuBu', 'PuBuGn', 'PuBuGn_r', \n",
        "#  'PuBu_r', 'PuOr', 'PuOr_r', 'PuRd', 'PuRd_r', 'Purples', 'Purples_r', 'RdBu', 'RdBu_r', \n",
        "#  'RdGy', 'RdGy_r', 'RdPu', 'RdPu_r', 'RdYlBu', 'RdYlBu_r', 'RdYlGn', 'RdYlGn_r', 'Reds', \n",
        "#  'Reds_r', 'Set1', 'Set1_r', 'Set2', 'Set2_r', 'Set3', 'Set3_r', 'Spectral', 'Spectral_r', \n",
        "#  'Wistia', 'Wistia_r', 'YlGn', 'YlGnBu', 'YlGnBu_r', 'YlGn_r', 'YlOrBr', 'YlOrBr_r', 'YlOrRd', \n",
        "#  'YlOrRd_r', 'afmhot', 'afmhot_r', 'autumn', 'autumn_r', 'binary', 'binary_r', 'bone', \n",
        "#  'bone_r', 'brg', 'brg_r', 'bwr', 'bwr_r', 'cividis', 'cividis_r', 'cool', 'cool_r', 'coolwarm', 'coolwarm_r', 'copper', 'copper_r',\n",
        "#  'cubehelix', 'cubehelix_r', 'flag', 'flag_r', 'gist_earth', 'gist_earth_r', 'gist_gray', 'gist_gray_r', 'gist_heat', 'gist_heat_r', 'gist_ncar', 'gist_ncar_r',\n",
        "#  'gist_rainbow', 'gist_rainbow_r', 'gist_stern', 'gist_stern_r', 'gist_yarg', \n",
        "#  'gist_yarg_r', 'gnuplot', 'gnuplot2', 'gnuplot2_r', 'gnuplot_r', 'gray', 'gray_r',\n",
        "#  'hot', 'hot_r', 'hsv', 'hsv_r', 'icefire', 'icefire_r', 'inferno', \n",
        "#  'inferno_r', 'magma', 'magma_r', 'mako', 'mako_r', \n",
        "#  'nipy_spectral', 'nipy_spectral_r', 'ocean', 'ocean_r', 'pink', 'pink_r',\n",
        "#  'plasma', 'plasma_r', 'prism', 'prism_r', 'rainbow', 'rainbow_r',\n",
        "#  'rocket', 'rocket_r', 'seismic', 'seismic_r', 'spring', 'spring_r',\n",
        "#  'summer', 'summer_r', 'tab10', 'tab10_r', 'tab20', 'tab20_r', 'tab20b',\n",
        "#  'tab20b_r', 'tab20c', 'tab20c_r', 'terrain', 'terrain_r', 'twilight',\n",
        "#  'twilight_r', 'twilight_shifted', 'twilight_shifted_r', 'viridis', 'viridis_r', 'vlag', 'vlag_r', 'winter', 'winter_r']:\n",
        "seaborn.color_palette('gnuplot2_r',40)\n",
        "  "
      ],
      "execution_count": null,
      "outputs": []
    }
  ]
}