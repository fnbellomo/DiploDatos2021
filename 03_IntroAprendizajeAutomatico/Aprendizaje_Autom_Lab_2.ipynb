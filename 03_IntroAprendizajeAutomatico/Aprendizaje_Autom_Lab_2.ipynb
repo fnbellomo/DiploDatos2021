{
  "nbformat": 4,
  "nbformat_minor": 0,
  "metadata": {
    "kernelspec": {
      "display_name": "Python 3",
      "language": "python",
      "name": "python3"
    },
    "language_info": {
      "codemirror_mode": {
        "name": "ipython",
        "version": 3
      },
      "file_extension": ".py",
      "mimetype": "text/x-python",
      "name": "python",
      "nbconvert_exporter": "python",
      "pygments_lexer": "ipython3",
      "version": "3.8.10"
    },
    "colab": {
      "name": "Aprendizaje Autom - Lab 2.ipynb",
      "provenance": [],
      "collapsed_sections": [],
      "include_colab_link": true
    }
  },
  "cells": [
    {
      "cell_type": "markdown",
      "metadata": {
        "id": "view-in-github",
        "colab_type": "text"
      },
      "source": [
        "<a href=\"https://colab.research.google.com/github/fnbellomo/DiploDatos2021/blob/main/03_IntroAprendizajeAutomatico/Aprendizaje_Autom_Lab_2.ipynb\" target=\"_parent\"><img src=\"https://colab.research.google.com/assets/colab-badge.svg\" alt=\"Open In Colab\"/></a>"
      ]
    },
    {
      "cell_type": "markdown",
      "metadata": {
        "id": "h9s-96lFvvWS"
      },
      "source": [
        "# Laboratorio 2: Armado de un esquema de aprendizaje automático\n",
        "\n",
        "En el laboratorio final se espera que puedan poner en práctica los conocimientos adquiridos en el curso, trabajando con un conjunto de datos de clasificación.\n",
        "\n",
        "El objetivo es que se introduzcan en el desarrollo de un esquema para hacer tareas de aprendizaje automático: selección de un modelo, ajuste de hiperparámetros y evaluación.\n",
        "\n",
        "El conjunto de datos a utilizar está en `./data/loan_data.csv`. Si abren el archivo verán que al principio (las líneas que empiezan con `#`) describen el conjunto de datos y sus atributos (incluyendo el atributo de etiqueta o clase).\n",
        "\n",
        "Se espera que hagan uso de las herramientas vistas en el curso. Se espera que hagan uso especialmente de las herramientas brindadas por `scikit-learn`."
      ]
    },
    {
      "cell_type": "code",
      "metadata": {
        "id": "2PcrPxtBvvWU"
      },
      "source": [
        "import numpy as np\n",
        "import pandas as pd\n",
        "import matplotlib.pyplot as plt\n",
        "\n",
        "# TODO: Agregar las librerías que hagan falta\n",
        "from sklearn.model_selection import train_test_split"
      ],
      "execution_count": 2,
      "outputs": []
    },
    {
      "cell_type": "markdown",
      "metadata": {
        "id": "ABvU6iPOvvWW"
      },
      "source": [
        "## Carga de datos y división en entrenamiento y evaluación\n",
        "\n",
        "La celda siguiente se encarga de la carga de datos (haciendo uso de pandas). Estos serán los que se trabajarán en el resto del laboratorio."
      ]
    },
    {
      "cell_type": "code",
      "metadata": {
        "id": "ScgMYv_tvvWX"
      },
      "source": [
        "dataset = pd.read_csv(\"https://raw.githubusercontent.com/DiploDatos/IntroduccionAprendizajeAutomatico/master/data/loan_data.csv\", comment=\"#\")\n",
        "\n",
        "# División entre instancias y etiquetas\n",
        "X, y = dataset.iloc[:, 1:], dataset.TARGET\n",
        "\n",
        "# división entre entrenamiento y evaluación\n",
        "X_train, X_test, y_train, y_test = train_test_split(X, y, stratify=y, test_size=0.2, random_state=0)  #SE AGREGA BALANCEO/ESTRATIFICACIÓN PARA TENER 20% DE Y=1 EN AMBOS DATASET"
      ],
      "execution_count": 3,
      "outputs": []
    },
    {
      "cell_type": "markdown",
      "metadata": {
        "id": "lsii1zVvyRgm"
      },
      "source": [
        "Utilizamos el código provisto en el Lab2, pero modificamos la función para que la división entre X_Train y X_Test contenga etiquetas Y balanceadas con el conjunto original (16% de y=1):"
      ]
    },
    {
      "cell_type": "code",
      "metadata": {
        "colab": {
          "base_uri": "https://localhost:8080/"
        },
        "id": "OepVHVBaygV2",
        "outputId": "8e677a5d-4831-4bba-8bcb-d2746ba96a44"
      },
      "source": [
        "print('% y=1 en dataset:', \"{0:.2%}\".format(sum(dataset.TARGET==1) / len(dataset)))\n",
        "print('% y=1 en train:', \"{0:.2%}\".format(sum(y_train == 1) / len(y_train)))\n",
        "print('% y=1 en test:', \"{0:.2%}\".format(sum(y_test == 1) / len(y_test)))"
      ],
      "execution_count": 4,
      "outputs": [
        {
          "output_type": "stream",
          "text": [
            "% y=1 en dataset: 16.67%\n",
            "% y=1 en train: 16.66%\n",
            "% y=1 en test: 16.71%\n"
          ],
          "name": "stdout"
        }
      ]
    },
    {
      "cell_type": "markdown",
      "metadata": {
        "id": "pJf6PvpIvvWY"
      },
      "source": [
        "\n",
        "Documentación:\n",
        "\n",
        "- https://scikit-learn.org/stable/modules/generated/sklearn.model_selection.train_test_split.html"
      ]
    },
    {
      "cell_type": "markdown",
      "metadata": {
        "id": "T0rRmLUmvvWY"
      },
      "source": [
        "## Ejercicio 1: Descripción de los Datos y la Tarea\n",
        "\n",
        "Responder las siguientes preguntas:\n",
        "\n",
        "1. ¿De qué se trata el conjunto de datos?\n",
        "2. ¿Cuál es la variable objetivo que hay que predecir? ¿Qué significado tiene?\n",
        "3. ¿Qué información (atributos) hay disponible para hacer la predicción?\n",
        "4. ¿Qué atributos imagina ud. que son los más determinantes para la predicción?\n",
        "\n",
        "**No hace falta escribir código para responder estas preguntas.**"
      ]
    },
    {
      "cell_type": "markdown",
      "metadata": {
        "id": "a_nz9iUeMo5H"
      },
      "source": [
        "1. El conjunto de datos pertenece al departamento de credito de un banco que desea automatizar la decision de aprobar o no lineas de creditos a futuros clientes. Contiene 5960 casos de personas que recibieron lineas de creditos para adquisicion de viviendas (las filas) y 11 columnas descriptivas de cada uno de dichos casos, incluida la performance de la devolucion del credito otorgado.\n",
        "2. La variable a entrenar y predecir es el TARGET, que indica si la persona efectivamente devolvio el credito (indicado con valor == 0) o no (indicado con valor == 1). Esta ultima situacion incluye tanto casos en los que la persona no logro pagar como en los que cometio un acto delictivo.\n",
        "3. Los atributo para realizar la prediccion incluyen:\n",
        "- LOAN: la cantiad de dinero solicitado\n",
        "- MORTDUE: la cantidad de dinero que la persona debe, o monto adeudado, de la hipoteca existente\n",
        "- VALUE: el valor de la propiedad hipotecada\n",
        "- YOG: cantidad de años en los que la persona se encuentra en su actual trabajo\n",
        "- DEROG: cantidad de reportes o informes despectivos de relevancia\n",
        "- DELINQ: cantidad de lineas de credito morosas\n",
        "- CLAGE: antiguedad o cantidad de años de la linea comercial mas antigua en meses\n",
        "- NINQ: cantidad de lineas de credito recientes\n",
        "- CLNO: cantidad de lineas de credito totales\n",
        "- DEBTINC: proporcion entre la deuda y el ingreso de la persona\n",
        "4. Probablemente, las variables que más capacidad de prediccion sobre la posibilidad de pago de la dueda esten relacionadas al historial de pago de la persona. En este caso, esperaría que DEROG y DELINQ me den mucha informacion. "
      ]
    },
    {
      "cell_type": "markdown",
      "metadata": {
        "id": "OCxmn67nvvWZ"
      },
      "source": [
        "## Ejercicio 2: Predicción con Modelos Lineales\n",
        "\n",
        "En este ejercicio se entrenarán modelos lineales de clasificación para predecir la variable objetivo.\n",
        "\n",
        "Para ello, deberán utilizar la clase SGDClassifier de scikit-learn.\n",
        "\n",
        "Documentación:\n",
        "- https://scikit-learn.org/stable/modules/sgd.html\n",
        "- https://scikit-learn.org/stable/modules/generated/sklearn.linear_model.SGDClassifier.html\n"
      ]
    },
    {
      "cell_type": "markdown",
      "metadata": {
        "id": "0OiHFYS1vvWZ"
      },
      "source": [
        "### Ejercicio 2.1: SGDClassifier con hiperparámetros por defecto\n",
        "\n",
        "Entrenar y evaluar el clasificador SGDClassifier usando los valores por omisión de scikit-learn para todos los parámetros. Únicamente **fijar la semilla aleatoria** para hacer repetible el experimento.\n",
        "\n",
        "Evaluar sobre el conjunto de **entrenamiento** y sobre el conjunto de **evaluación**, reportando:\n",
        "- Accuracy\n",
        "- Precision\n",
        "- Recall\n",
        "- F1\n",
        "- matriz de confusión"
      ]
    },
    {
      "cell_type": "code",
      "metadata": {
        "colab": {
          "base_uri": "https://localhost:8080/"
        },
        "id": "ipqR8vZFz8bI",
        "outputId": "623bbaf5-ee51-4e7d-f5b1-30d10c8bde0a"
      },
      "source": [
        "from sklearn.linear_model import SGDClassifier\n",
        "from sklearn.preprocessing import StandardScaler\n",
        "from sklearn.pipeline import make_pipeline\n",
        "\n",
        "# Always scale the input. The most convenient way is to use a pipeline.\n",
        "clf = make_pipeline(StandardScaler(), \n",
        "                    SGDClassifier(random_state = 42))\n",
        "clf.fit(X_train, y_train)"
      ],
      "execution_count": 5,
      "outputs": [
        {
          "output_type": "execute_result",
          "data": {
            "text/plain": [
              "Pipeline(memory=None,\n",
              "         steps=[('standardscaler',\n",
              "                 StandardScaler(copy=True, with_mean=True, with_std=True)),\n",
              "                ('sgdclassifier',\n",
              "                 SGDClassifier(alpha=0.0001, average=False, class_weight=None,\n",
              "                               early_stopping=False, epsilon=0.1, eta0=0.0,\n",
              "                               fit_intercept=True, l1_ratio=0.15,\n",
              "                               learning_rate='optimal', loss='hinge',\n",
              "                               max_iter=1000, n_iter_no_change=5, n_jobs=None,\n",
              "                               penalty='l2', power_t=0.5, random_state=42,\n",
              "                               shuffle=True, tol=0.001, validation_fraction=0.1,\n",
              "                               verbose=0, warm_start=False))],\n",
              "         verbose=False)"
            ]
          },
          "metadata": {
            "tags": []
          },
          "execution_count": 5
        }
      ]
    },
    {
      "cell_type": "code",
      "metadata": {
        "id": "x3rVgtCe3XdO"
      },
      "source": [
        "#Predecimos\n",
        "y_train_pred = clf.predict(X_train)\n",
        "y_test_pred = clf.predict(X_test)"
      ],
      "execution_count": 6,
      "outputs": []
    },
    {
      "cell_type": "code",
      "metadata": {
        "colab": {
          "base_uri": "https://localhost:8080/",
          "height": 816
        },
        "id": "q9x6Shs64S91",
        "outputId": "d2fb1cae-2047-4bda-dde3-8dada413241d"
      },
      "source": [
        "#Calculamos la performance:\n",
        "from sklearn.metrics import classification_report\n",
        "from sklearn.metrics import confusion_matrix\n",
        "import seaborn as sns\n",
        "print('Métricas en conjunto de entrenamiento:')\n",
        "print(classification_report(y_train, y_train_pred))\n",
        "cm = confusion_matrix(y_train, y_train_pred)\n",
        "\n",
        "df_cm_train = pd.DataFrame(cm, index = ['y=0','y=1'],\n",
        "                  columns = ['y=0','y=1'])\n",
        "\n",
        "\n",
        "print('Métricas en conjunto de test:')\n",
        "print(classification_report(y_test, y_test_pred))\n",
        "cm2 = confusion_matrix(y_test, y_test_pred)\n",
        "\n",
        "df_cm_test = pd.DataFrame(cm2, index = ['y=0','y=1'],\n",
        "                  columns = ['y=0','y=1'])\n",
        "fig, axes = plt.subplots(1,2,figsize = (18,7))\n",
        "sns.heatmap(df_cm_train, annot=True, fmt='g', ax=axes[0])\n",
        "sns.heatmap(df_cm_test, annot=True, fmt='g', ax=axes[1])\n",
        "axes[0].set_title('Matriz de confusión \\n Datos ENTRENAMIENTO')\n",
        "axes[1].set_title('Matriz de confusión \\n Datos TEST')"
      ],
      "execution_count": 7,
      "outputs": [
        {
          "output_type": "stream",
          "text": [
            "Métricas en conjunto de entrenamiento:\n",
            "              precision    recall  f1-score   support\n",
            "\n",
            "           0       0.87      0.97      0.92      1236\n",
            "           1       0.68      0.30      0.42       247\n",
            "\n",
            "    accuracy                           0.86      1483\n",
            "   macro avg       0.78      0.64      0.67      1483\n",
            "weighted avg       0.84      0.86      0.84      1483\n",
            "\n",
            "Métricas en conjunto de test:\n",
            "              precision    recall  f1-score   support\n",
            "\n",
            "           0       0.87      0.99      0.93       309\n",
            "           1       0.89      0.27      0.42        62\n",
            "\n",
            "    accuracy                           0.87       371\n",
            "   macro avg       0.88      0.63      0.67       371\n",
            "weighted avg       0.88      0.87      0.84       371\n",
            "\n"
          ],
          "name": "stdout"
        },
        {
          "output_type": "execute_result",
          "data": {
            "text/plain": [
              "Text(0.5, 1.0, 'Matriz de confusión \\n Datos TEST')"
            ]
          },
          "metadata": {
            "tags": []
          },
          "execution_count": 7
        },
        {
          "output_type": "display_data",
          "data": {
            "image/png": "[encoded data removed]",
            "text/plain": [
              "<Figure size 1296x504 with 4 Axes>"
            ]
          },
          "metadata": {
            "tags": [],
            "needs_background": "light"
          }
        }
      ]
    },
    {
      "cell_type": "markdown",
      "metadata": {
        "id": "l9dQj7IPvvWa"
      },
      "source": [
        "### Ejercicio 2.2: Ajuste de Hiperparámetros\n",
        "\n",
        "Seleccionar valores para los hiperparámetros principales del SGDClassifier. Como mínimo, probar diferentes funciones de loss, tasas de entrenamiento y tasas de regularización.\n",
        "\n",
        "Para ello, usar grid-search y 5-fold cross-validation sobre el conjunto de entrenamiento para explorar muchas combinaciones posibles de valores.\n",
        "\n",
        "Reportar accuracy promedio y varianza para todas las configuraciones.\n",
        "\n",
        "Para la mejor configuración encontrada, evaluar sobre el conjunto de **entrenamiento** y sobre el conjunto de **evaluación**, reportando:\n",
        "- Accuracy\n",
        "- Precision\n",
        "- Recall\n",
        "- F1\n",
        "- matriz de confusión\n",
        "\n",
        "Documentación:\n",
        "- https://scikit-learn.org/stable/modules/grid_search.html\n",
        "- https://scikit-learn.org/stable/modules/generated/sklearn.model_selection.GridSearchCV.html"
      ]
    },
    {
      "cell_type": "code",
      "metadata": {
        "colab": {
          "base_uri": "https://localhost:8080/"
        },
        "id": "OVYKurr7DrH7",
        "outputId": "cef6ee48-af7e-4510-846d-ea91f4156073"
      },
      "source": [
        "from sklearn.model_selection import GridSearchCV\n",
        "clf = make_pipeline(StandardScaler(), \n",
        "                    SGDClassifier(eta0=0.00001, random_state = 42))\n",
        "clf.fit(X_train, y_train)\n",
        "param_grid = {\n",
        "    'sgdclassifier__loss': ['hinge', 'log', 'perceptron'],\n",
        "    'sgdclassifier__learning_rate': ['constant', 'optimal','invscaling'],\n",
        "    'sgdclassifier__alpha': [0.00001, 0.0001, 0.001],\n",
        "}\n",
        "cv = GridSearchCV(clf, param_grid, scoring='accuracy', cv=5)\n",
        "cv.fit(X_train, y_train)\n"
      ],
      "execution_count": 8,
      "outputs": [
        {
          "output_type": "execute_result",
          "data": {
            "text/plain": [
              "GridSearchCV(cv=5, error_score=nan,\n",
              "             estimator=Pipeline(memory=None,\n",
              "                                steps=[('standardscaler',\n",
              "                                        StandardScaler(copy=True,\n",
              "                                                       with_mean=True,\n",
              "                                                       with_std=True)),\n",
              "                                       ('sgdclassifier',\n",
              "                                        SGDClassifier(alpha=0.0001,\n",
              "                                                      average=False,\n",
              "                                                      class_weight=None,\n",
              "                                                      early_stopping=False,\n",
              "                                                      epsilon=0.1, eta0=1e-05,\n",
              "                                                      fit_intercept=True,\n",
              "                                                      l1_ratio=0.15,\n",
              "                                                      learning_rate='optimal',\n",
              "                                                      loss='hinge',\n",
              "                                                      max_iter=1000,...\n",
              "                                                      validation_fraction=0.1,\n",
              "                                                      verbose=0,\n",
              "                                                      warm_start=False))],\n",
              "                                verbose=False),\n",
              "             iid='deprecated', n_jobs=None,\n",
              "             param_grid={'sgdclassifier__alpha': [1e-05, 0.0001, 0.001],\n",
              "                         'sgdclassifier__learning_rate': ['constant', 'optimal',\n",
              "                                                          'invscaling'],\n",
              "                         'sgdclassifier__loss': ['hinge', 'log', 'perceptron']},\n",
              "             pre_dispatch='2*n_jobs', refit=True, return_train_score=False,\n",
              "             scoring='accuracy', verbose=0)"
            ]
          },
          "metadata": {
            "tags": []
          },
          "execution_count": 8
        }
      ]
    },
    {
      "cell_type": "code",
      "metadata": {
        "colab": {
          "base_uri": "https://localhost:8080/",
          "height": 906
        },
        "id": "TqNaL-bqIfMi",
        "outputId": "f9de348c-965c-4cb1-ec86-2cc2de968d16"
      },
      "source": [
        "results = cv.cv_results_\n",
        "params = results['params']\n",
        "mean = results['mean_test_score']\n",
        "std = results['std_test_score']\n",
        "rank = results['rank_test_score']\n",
        "df = pd.DataFrame(results)\n",
        "df[['param_sgdclassifier__loss', 'param_sgdclassifier__alpha', 'param_sgdclassifier__learning_rate',  'mean_test_score', 'std_test_score', 'rank_test_score']].sort_values(['param_sgdclassifier__loss','param_sgdclassifier__alpha','param_sgdclassifier__learning_rate'])\n",
        "# print(\"crit.\\tdepth\\t| mean\\tstd\\trank\")\n",
        "# for p, m, s, r in zip(params, mean, std, rank):\n",
        "#     print(f\"{p['criterion']}\\t{p['max_depth']}\\t| {m:0.2f}\\t{s:0.2f}\\t{r}\")\n"
      ],
      "execution_count": 9,
      "outputs": [
        {
          "output_type": "execute_result",
          "data": {
            "text/html": [
              "<div>\n",
              "<style scoped>\n",
              "    .dataframe tbody tr th:only-of-type {\n",
              "        vertical-align: middle;\n",
              "    }\n",
              "\n",
              "    .dataframe tbody tr th {\n",
              "        vertical-align: top;\n",
              "    }\n",
              "\n",
              "    .dataframe thead th {\n",
              "        text-align: right;\n",
              "    }\n",
              "</style>\n",
              "<table border=\"1\" class=\"dataframe\">\n",
              "  <thead>\n",
              "    <tr style=\"text-align: right;\">\n",
              "      <th></th>\n",
              "      <th>param_sgdclassifier__loss</th>\n",
              "      <th>param_sgdclassifier__alpha</th>\n",
              "      <th>param_sgdclassifier__learning_rate</th>\n",
              "      <th>mean_test_score</th>\n",
              "      <th>std_test_score</th>\n",
              "      <th>rank_test_score</th>\n",
              "    </tr>\n",
              "  </thead>\n",
              "  <tbody>\n",
              "    <tr>\n",
              "      <th>0</th>\n",
              "      <td>hinge</td>\n",
              "      <td>1e-05</td>\n",
              "      <td>constant</td>\n",
              "      <td>0.858397</td>\n",
              "      <td>0.007652</td>\n",
              "      <td>12</td>\n",
              "    </tr>\n",
              "    <tr>\n",
              "      <th>6</th>\n",
              "      <td>hinge</td>\n",
              "      <td>1e-05</td>\n",
              "      <td>invscaling</td>\n",
              "      <td>0.863111</td>\n",
              "      <td>0.018850</td>\n",
              "      <td>6</td>\n",
              "    </tr>\n",
              "    <tr>\n",
              "      <th>3</th>\n",
              "      <td>hinge</td>\n",
              "      <td>1e-05</td>\n",
              "      <td>optimal</td>\n",
              "      <td>0.815256</td>\n",
              "      <td>0.032380</td>\n",
              "      <td>22</td>\n",
              "    </tr>\n",
              "    <tr>\n",
              "      <th>9</th>\n",
              "      <td>hinge</td>\n",
              "      <td>0.0001</td>\n",
              "      <td>constant</td>\n",
              "      <td>0.858397</td>\n",
              "      <td>0.007652</td>\n",
              "      <td>12</td>\n",
              "    </tr>\n",
              "    <tr>\n",
              "      <th>15</th>\n",
              "      <td>hinge</td>\n",
              "      <td>0.0001</td>\n",
              "      <td>invscaling</td>\n",
              "      <td>0.863111</td>\n",
              "      <td>0.018850</td>\n",
              "      <td>6</td>\n",
              "    </tr>\n",
              "    <tr>\n",
              "      <th>12</th>\n",
              "      <td>hinge</td>\n",
              "      <td>0.0001</td>\n",
              "      <td>optimal</td>\n",
              "      <td>0.853019</td>\n",
              "      <td>0.018260</td>\n",
              "      <td>15</td>\n",
              "    </tr>\n",
              "    <tr>\n",
              "      <th>18</th>\n",
              "      <td>hinge</td>\n",
              "      <td>0.001</td>\n",
              "      <td>constant</td>\n",
              "      <td>0.858397</td>\n",
              "      <td>0.007652</td>\n",
              "      <td>12</td>\n",
              "    </tr>\n",
              "    <tr>\n",
              "      <th>24</th>\n",
              "      <td>hinge</td>\n",
              "      <td>0.001</td>\n",
              "      <td>invscaling</td>\n",
              "      <td>0.863111</td>\n",
              "      <td>0.018850</td>\n",
              "      <td>6</td>\n",
              "    </tr>\n",
              "    <tr>\n",
              "      <th>21</th>\n",
              "      <td>hinge</td>\n",
              "      <td>0.001</td>\n",
              "      <td>optimal</td>\n",
              "      <td>0.869870</td>\n",
              "      <td>0.009532</td>\n",
              "      <td>2</td>\n",
              "    </tr>\n",
              "    <tr>\n",
              "      <th>1</th>\n",
              "      <td>log</td>\n",
              "      <td>1e-05</td>\n",
              "      <td>constant</td>\n",
              "      <td>0.865131</td>\n",
              "      <td>0.017144</td>\n",
              "      <td>3</td>\n",
              "    </tr>\n",
              "    <tr>\n",
              "      <th>7</th>\n",
              "      <td>log</td>\n",
              "      <td>1e-05</td>\n",
              "      <td>invscaling</td>\n",
              "      <td>0.863111</td>\n",
              "      <td>0.018850</td>\n",
              "      <td>6</td>\n",
              "    </tr>\n",
              "    <tr>\n",
              "      <th>4</th>\n",
              "      <td>log</td>\n",
              "      <td>1e-05</td>\n",
              "      <td>optimal</td>\n",
              "      <td>0.812581</td>\n",
              "      <td>0.046709</td>\n",
              "      <td>23</td>\n",
              "    </tr>\n",
              "    <tr>\n",
              "      <th>10</th>\n",
              "      <td>log</td>\n",
              "      <td>0.0001</td>\n",
              "      <td>constant</td>\n",
              "      <td>0.865131</td>\n",
              "      <td>0.017144</td>\n",
              "      <td>3</td>\n",
              "    </tr>\n",
              "    <tr>\n",
              "      <th>16</th>\n",
              "      <td>log</td>\n",
              "      <td>0.0001</td>\n",
              "      <td>invscaling</td>\n",
              "      <td>0.863111</td>\n",
              "      <td>0.018850</td>\n",
              "      <td>6</td>\n",
              "    </tr>\n",
              "    <tr>\n",
              "      <th>13</th>\n",
              "      <td>log</td>\n",
              "      <td>0.0001</td>\n",
              "      <td>optimal</td>\n",
              "      <td>0.850309</td>\n",
              "      <td>0.016962</td>\n",
              "      <td>16</td>\n",
              "    </tr>\n",
              "    <tr>\n",
              "      <th>19</th>\n",
              "      <td>log</td>\n",
              "      <td>0.001</td>\n",
              "      <td>constant</td>\n",
              "      <td>0.865131</td>\n",
              "      <td>0.017144</td>\n",
              "      <td>3</td>\n",
              "    </tr>\n",
              "    <tr>\n",
              "      <th>25</th>\n",
              "      <td>log</td>\n",
              "      <td>0.001</td>\n",
              "      <td>invscaling</td>\n",
              "      <td>0.863111</td>\n",
              "      <td>0.018850</td>\n",
              "      <td>6</td>\n",
              "    </tr>\n",
              "    <tr>\n",
              "      <th>22</th>\n",
              "      <td>log</td>\n",
              "      <td>0.001</td>\n",
              "      <td>optimal</td>\n",
              "      <td>0.873908</td>\n",
              "      <td>0.012704</td>\n",
              "      <td>1</td>\n",
              "    </tr>\n",
              "    <tr>\n",
              "      <th>2</th>\n",
              "      <td>perceptron</td>\n",
              "      <td>1e-05</td>\n",
              "      <td>constant</td>\n",
              "      <td>0.801062</td>\n",
              "      <td>0.019849</td>\n",
              "      <td>24</td>\n",
              "    </tr>\n",
              "    <tr>\n",
              "      <th>8</th>\n",
              "      <td>perceptron</td>\n",
              "      <td>1e-05</td>\n",
              "      <td>invscaling</td>\n",
              "      <td>0.815925</td>\n",
              "      <td>0.020441</td>\n",
              "      <td>18</td>\n",
              "    </tr>\n",
              "    <tr>\n",
              "      <th>5</th>\n",
              "      <td>perceptron</td>\n",
              "      <td>1e-05</td>\n",
              "      <td>optimal</td>\n",
              "      <td>0.817879</td>\n",
              "      <td>0.041696</td>\n",
              "      <td>17</td>\n",
              "    </tr>\n",
              "    <tr>\n",
              "      <th>11</th>\n",
              "      <td>perceptron</td>\n",
              "      <td>0.0001</td>\n",
              "      <td>constant</td>\n",
              "      <td>0.801062</td>\n",
              "      <td>0.019849</td>\n",
              "      <td>24</td>\n",
              "    </tr>\n",
              "    <tr>\n",
              "      <th>17</th>\n",
              "      <td>perceptron</td>\n",
              "      <td>0.0001</td>\n",
              "      <td>invscaling</td>\n",
              "      <td>0.815925</td>\n",
              "      <td>0.020441</td>\n",
              "      <td>18</td>\n",
              "    </tr>\n",
              "    <tr>\n",
              "      <th>14</th>\n",
              "      <td>perceptron</td>\n",
              "      <td>0.0001</td>\n",
              "      <td>optimal</td>\n",
              "      <td>0.784903</td>\n",
              "      <td>0.028807</td>\n",
              "      <td>27</td>\n",
              "    </tr>\n",
              "    <tr>\n",
              "      <th>20</th>\n",
              "      <td>perceptron</td>\n",
              "      <td>0.001</td>\n",
              "      <td>constant</td>\n",
              "      <td>0.801062</td>\n",
              "      <td>0.019849</td>\n",
              "      <td>24</td>\n",
              "    </tr>\n",
              "    <tr>\n",
              "      <th>26</th>\n",
              "      <td>perceptron</td>\n",
              "      <td>0.001</td>\n",
              "      <td>invscaling</td>\n",
              "      <td>0.815925</td>\n",
              "      <td>0.020441</td>\n",
              "      <td>18</td>\n",
              "    </tr>\n",
              "    <tr>\n",
              "      <th>23</th>\n",
              "      <td>perceptron</td>\n",
              "      <td>0.001</td>\n",
              "      <td>optimal</td>\n",
              "      <td>0.815889</td>\n",
              "      <td>0.030126</td>\n",
              "      <td>21</td>\n",
              "    </tr>\n",
              "  </tbody>\n",
              "</table>\n",
              "</div>"
            ],
            "text/plain": [
              "   param_sgdclassifier__loss  ... rank_test_score\n",
              "0                      hinge  ...              12\n",
              "6                      hinge  ...               6\n",
              "3                      hinge  ...              22\n",
              "9                      hinge  ...              12\n",
              "15                     hinge  ...               6\n",
              "12                     hinge  ...              15\n",
              "18                     hinge  ...              12\n",
              "24                     hinge  ...               6\n",
              "21                     hinge  ...               2\n",
              "1                        log  ...               3\n",
              "7                        log  ...               6\n",
              "4                        log  ...              23\n",
              "10                       log  ...               3\n",
              "16                       log  ...               6\n",
              "13                       log  ...              16\n",
              "19                       log  ...               3\n",
              "25                       log  ...               6\n",
              "22                       log  ...               1\n",
              "2                 perceptron  ...              24\n",
              "8                 perceptron  ...              18\n",
              "5                 perceptron  ...              17\n",
              "11                perceptron  ...              24\n",
              "17                perceptron  ...              18\n",
              "14                perceptron  ...              27\n",
              "20                perceptron  ...              24\n",
              "26                perceptron  ...              18\n",
              "23                perceptron  ...              21\n",
              "\n",
              "[27 rows x 6 columns]"
            ]
          },
          "metadata": {
            "tags": []
          },
          "execution_count": 9
        }
      ]
    },
    {
      "cell_type": "markdown",
      "metadata": {
        "id": "m4GWHB5iJ5J6"
      },
      "source": [
        "El mejor modelo tiene función de loss=log, un alpha de 0.001, y una tasa de aprendizaje tipo \"optimal\": (eta = 1.0 / (alpha * (t + t0)))"
      ]
    },
    {
      "cell_type": "code",
      "metadata": {
        "colab": {
          "base_uri": "https://localhost:8080/",
          "height": 816
        },
        "id": "W5RfjGmkJ4G1",
        "outputId": "e15e177e-972b-4c28-f434-a947f73d8d06"
      },
      "source": [
        "best_model = cv.best_estimator_\n",
        "y_train_pred = best_model.predict(X_train)\n",
        "y_test_pred = best_model.predict(X_test)\n",
        "print('Métricas en conjunto de entrenamiento (mejor modelo):')\n",
        "print(classification_report(y_train, y_train_pred))\n",
        "cm = confusion_matrix(y_train, y_train_pred)\n",
        "\n",
        "df_cm_train = pd.DataFrame(cm, index = ['y=0','y=1'],\n",
        "                  columns = ['y=0','y=1'])\n",
        "\n",
        "\n",
        "print('Métricas en conjunto de test (mejor modelo):')\n",
        "print(classification_report(y_test, y_test_pred))\n",
        "cm2 = confusion_matrix(y_test, y_test_pred)\n",
        "\n",
        "df_cm_test = pd.DataFrame(cm2, index = ['y=0','y=1'],\n",
        "                  columns = ['y=0','y=1'])\n",
        "fig, axes = plt.subplots(1,2,figsize = (18,7))\n",
        "sns.heatmap(df_cm_train, annot=True, fmt='g', ax=axes[0])\n",
        "sns.heatmap(df_cm_test, annot=True, fmt='g', ax=axes[1])\n",
        "axes[0].set_title('Matriz de confusión \\n Datos ENTRENAMIENTO (mejor modelo)')\n",
        "axes[1].set_title('Matriz de confusión \\n Datos TEST (mejor modelo)')"
      ],
      "execution_count": 10,
      "outputs": [
        {
          "output_type": "stream",
          "text": [
            "Métricas en conjunto de entrenamiento (mejor modelo):\n",
            "              precision    recall  f1-score   support\n",
            "\n",
            "           0       0.88      0.99      0.93      1236\n",
            "           1       0.80      0.30      0.44       247\n",
            "\n",
            "    accuracy                           0.87      1483\n",
            "   macro avg       0.84      0.64      0.68      1483\n",
            "weighted avg       0.86      0.87      0.85      1483\n",
            "\n",
            "Métricas en conjunto de test (mejor modelo):\n",
            "              precision    recall  f1-score   support\n",
            "\n",
            "           0       0.88      0.99      0.93       309\n",
            "           1       0.88      0.34      0.49        62\n",
            "\n",
            "    accuracy                           0.88       371\n",
            "   macro avg       0.88      0.66      0.71       371\n",
            "weighted avg       0.88      0.88      0.86       371\n",
            "\n"
          ],
          "name": "stdout"
        },
        {
          "output_type": "execute_result",
          "data": {
            "text/plain": [
              "Text(0.5, 1.0, 'Matriz de confusión \\n Datos TEST (mejor modelo)')"
            ]
          },
          "metadata": {
            "tags": []
          },
          "execution_count": 10
        },
        {
          "output_type": "display_data",
          "data": {
            "image/png": "[encoded data removed]",
            "text/plain": [
              "<Figure size 1296x504 with 4 Axes>"
            ]
          },
          "metadata": {
            "tags": [],
            "needs_background": "light"
          }
        }
      ]
    },
    {
      "cell_type": "markdown",
      "metadata": {
        "id": "QXx3uLLrvvWb"
      },
      "source": [
        "## Ejercicio 3: Árboles de Decisión\n",
        "\n",
        "En este ejercicio se entrenarán árboles de decisión para predecir la variable objetivo.\n",
        "\n",
        "Para ello, deberán utilizar la clase DecisionTreeClassifier de scikit-learn.\n",
        "\n",
        "Documentación:\n",
        "- https://scikit-learn.org/stable/modules/tree.html\n",
        "  - https://scikit-learn.org/stable/modules/tree.html#tips-on-practical-use\n",
        "- https://scikit-learn.org/stable/modules/generated/sklearn.tree.DecisionTreeClassifier.html\n",
        "- https://scikit-learn.org/stable/auto_examples/tree/plot_unveil_tree_structure.html"
      ]
    },
    {
      "cell_type": "markdown",
      "metadata": {
        "id": "D7BJHhcgvvWb"
      },
      "source": [
        "### Ejercicio 3.1: DecisionTreeClassifier con hiperparámetros por defecto\n",
        "\n",
        "Entrenar y evaluar el clasificador DecisionTreeClassifier usando los valores por omisión de scikit-learn para todos los parámetros. Únicamente **fijar la semilla aleatoria** para hacer repetible el experimento.\n",
        "\n",
        "Evaluar sobre el conjunto de **entrenamiento** y sobre el conjunto de **evaluación**, reportando:\n",
        "- Accuracy\n",
        "- Precision\n",
        "- Recall\n",
        "- F1\n",
        "- matriz de confusión\n"
      ]
    },
    {
      "cell_type": "code",
      "metadata": {
        "colab": {
          "base_uri": "https://localhost:8080/"
        },
        "id": "YbECzHslTY7O",
        "outputId": "aabd3adf-c6ba-4cb8-c2a5-0400b8565bb4"
      },
      "source": [
        "#Importamos la libreria y entrenamos\n",
        "\n",
        "from sklearn.tree import DecisionTreeClassifier\n",
        "clf = DecisionTreeClassifier(max_depth=2, criterion='entropy', random_state=0)\n",
        "clf.fit(X_train, y_train)"
      ],
      "execution_count": 11,
      "outputs": [
        {
          "output_type": "execute_result",
          "data": {
            "text/plain": [
              "DecisionTreeClassifier(ccp_alpha=0.0, class_weight=None, criterion='entropy',\n",
              "                       max_depth=2, max_features=None, max_leaf_nodes=None,\n",
              "                       min_impurity_decrease=0.0, min_impurity_split=None,\n",
              "                       min_samples_leaf=1, min_samples_split=2,\n",
              "                       min_weight_fraction_leaf=0.0, presort='deprecated',\n",
              "                       random_state=0, splitter='best')"
            ]
          },
          "metadata": {
            "tags": []
          },
          "execution_count": 11
        }
      ]
    },
    {
      "cell_type": "code",
      "metadata": {
        "id": "ukUANyjOToNF"
      },
      "source": [
        "#Ahora, predecimos!\n",
        "\n",
        "y_train_pred = clf.predict(X_train)\n",
        "y_test_pred = clf.predict(X_test)"
      ],
      "execution_count": 12,
      "outputs": []
    },
    {
      "cell_type": "code",
      "metadata": {
        "colab": {
          "base_uri": "https://localhost:8080/"
        },
        "id": "lelZRWH1TzX0",
        "outputId": "ca866705-0f09-4390-dfa6-c269dc0f4f29"
      },
      "source": [
        "#Y ahora, evaluamos\n",
        "\n",
        "\n",
        "from sklearn.metrics import accuracy_score\n",
        "\n",
        "train_acc = accuracy_score(y_train, y_train_pred)\n",
        "test_acc = accuracy_score(y_test, y_test_pred)\n",
        "print(f'Train accuracy: {train_acc:0.2}')\n",
        "print(f'Test accuracy: {test_acc:0.2}')"
      ],
      "execution_count": 13,
      "outputs": [
        {
          "output_type": "stream",
          "text": [
            "Train accuracy: 0.87\n",
            "Test accuracy: 0.88\n"
          ],
          "name": "stdout"
        }
      ]
    },
    {
      "cell_type": "code",
      "metadata": {
        "colab": {
          "base_uri": "https://localhost:8080/",
          "height": 248
        },
        "id": "_pdMfkL_T-D2",
        "outputId": "b9cbe787-e9ee-4c24-cf07-1040c8621f48"
      },
      "source": [
        "# Dibujamos el arbolito. Para eso primero importamos la libreria:\n",
        "\n",
        "from sklearn.tree import plot_tree\n",
        "\n",
        "plot_tree(clf);\n"
      ],
      "execution_count": 14,
      "outputs": [
        {
          "output_type": "display_data",
          "data": {
            "image/png": "[encoded data removed]",
            "text/plain": [
              "<Figure size 432x288 with 1 Axes>"
            ]
          },
          "metadata": {
            "tags": [],
            "needs_background": "light"
          }
        }
      ]
    },
    {
      "cell_type": "markdown",
      "metadata": {
        "id": "PN8tiY0KvvWb"
      },
      "source": [
        "### Ejercicio 3.2: Ajuste de Hiperparámetros\n",
        "\n",
        "Seleccionar valores para los hiperparámetros principales del DecisionTreeClassifier. Como mínimo, probar diferentes criterios de partición (criterion), profundidad máxima del árbol (max_depth), y cantidad mínima de samples por hoja (min_samples_leaf).\n",
        "\n",
        "Para ello, usar grid-search y 5-fold cross-validation sobre el conjunto de entrenamiento para explorar muchas combinaciones posibles de valores.\n",
        "\n",
        "Reportar accuracy promedio y varianza para todas las configuraciones.\n",
        "\n",
        "Para la mejor configuración encontrada, evaluar sobre el conjunto de **entrenamiento** y sobre el conjunto de **evaluación**, reportando:\n",
        "- Accuracy\n",
        "- Precision\n",
        "- Recall\n",
        "- F1\n",
        "- matriz de confusión\n",
        "\n",
        "\n",
        "Documentación:\n",
        "- https://scikit-learn.org/stable/modules/grid_search.html\n",
        "- https://scikit-learn.org/stable/modules/generated/sklearn.model_selection.GridSearchCV.html"
      ]
    }
  ]
}