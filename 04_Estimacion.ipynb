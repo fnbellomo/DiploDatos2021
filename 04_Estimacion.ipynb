{
  "nbformat": 4,
  "nbformat_minor": 0,
  "metadata": {
    "colab": {
      "name": "04 Estimacion.ipynb",
      "provenance": [],
      "toc_visible": true,
      "include_colab_link": true
    },
    "kernelspec": {
      "display_name": "Python 3",
      "name": "python3"
    },
    "language_info": {
      "name": "python"
    }
  },
  "cells": [
    {
      "cell_type": "markdown",
      "metadata": {
        "id": "view-in-github",
        "colab_type": "text"
      },
      "source": [
        "<a href=\"https://colab.research.google.com/github/fnbellomo/DiploDatos2021/blob/main/04_Estimacion.ipynb\" target=\"_parent\"><img src=\"https://colab.research.google.com/assets/colab-badge.svg\" alt=\"Open In Colab\"/></a>"
      ]
    },
    {
      "cell_type": "code",
      "metadata": {
        "id": "RMExMm55oNLa"
      },
      "source": [
        "import numpy\n",
        "import scipy.stats\n",
        "import seaborn\n",
        "\n",
        "seaborn.set_context('talk')"
      ],
      "execution_count": 2,
      "outputs": []
    },
    {
      "cell_type": "markdown",
      "metadata": {
        "id": "sJSeWq4-oQo_"
      },
      "source": [
        "# TCL, distribución de estadísticos, estimación puntual y por intervalos\n",
        "\n",
        "\n",
        "## Generación de datos\n",
        "\n",
        "1. Generamos 1 realización de una muestra aleatoria $X_1,  ... X_n$ (de tamaño n)\n",
        "\n",
        "$X_1,  ... X_n$ (i.i.d) con cada $X_i$ con distribución conocida (mejor no normal). Por ejemplo: Poisson. Graficar la distribución de la muestra.\n",
        "\n",
        "2. Luego tenemos 1 realización del estadístico $\\overline{X}= \\frac{1}{n} \\sum_{i=1}^{n} X_i$.\n",
        "\n"
      ]
    },
    {
      "cell_type": "code",
      "metadata": {
        "colab": {
          "base_uri": "https://localhost:8080/",
          "height": 296
        },
        "id": "3UO2q_UUwsrl",
        "outputId": "a8f86e15-2ae1-4ea7-9239-1bca756665ea"
      },
      "source": [
        "# Generación de muestras de una distribución poisson\n",
        "\n",
        "n = 500 \n",
        "\n",
        "lambd = 5 \n",
        "\n",
        "sample = scipy.stats.poisson.rvs(lambd, size=n) #realización de una muestra aleatoria X_1,  ... X_n (de tamaño n)\n",
        "\n",
        "seaborn.histplot(sample, bins=12)\n",
        "print ('promedio de la muestra=', sample.mean(), ', una realización del estadístico media muestral')\n"
      ],
      "execution_count": 3,
      "outputs": [
        {
          "output_type": "stream",
          "text": [
            "promedio de la muestra= 4.89 , una realización del estadístico media muestral\n"
          ],
          "name": "stdout"
        },
        {
          "output_type": "display_data",
          "data": {
            "image/png": "[encoded data removed]",
            "text/plain": [
              "<Figure size 432x288 with 1 Axes>"
            ]
          },
          "metadata": {
            "tags": [],
            "needs_background": "light"
          }
        }
      ]
    },
    {
      "cell_type": "markdown",
      "metadata": {
        "id": "1Shfeq87wEkA"
      },
      "source": [
        "1. Generamos N realizaciones de una muestra aleatoria $X_1,  ... X_n$ (de tamaño n)\n",
        "\n",
        "$X_1,  ... X_n$ (i.i.d) con cada $X_i$ con distribución no normal. Por ejemplo: Poisson. Elegir una realización y graficar la distribución de la muestra.\n",
        "\n",
        "2. Luego tendríamos N realizaciones del estadístico $\\overline{X}= \\frac{1}{n} \\sum_{i=1}^{n} X_i$.\n",
        "\n",
        "Graficar la distribución de estas realizaciones (de las medias muestrales). ¿Se parece a una distribución normal?"
      ]
    },
    {
      "cell_type": "code",
      "metadata": {
        "id": "ldyZ2ipIomKf"
      },
      "source": [
        "# Generación de muestras de una distribución poisson\n",
        "\n",
        "N = 400 #N filas, N realizaciones de una muestra aleatoria X_1,  ... X_n (tamaño n)\n",
        "n = 1000 \n",
        "\n",
        "lambd = 5 \n",
        "\n",
        "samples = scipy.stats.poisson.rvs(lambd, size=(N, n))"
      ],
      "execution_count": null,
      "outputs": []
    },
    {
      "cell_type": "code",
      "metadata": {
        "id": "-LUccLEUosjq"
      },
      "source": [
        "#primera realización de la m.a.\n",
        "print(samples[0][:4],'...', samples[0][-5:-1])\n",
        "\n",
        "# Histograma de la i-ésima realización de la muestra\n",
        "i=0\n",
        "seaborn.histplot(samples[i], bins=15)\n",
        "print('media= ', samples[i].mean())"
      ],
      "execution_count": null,
      "outputs": []
    },
    {
      "cell_type": "code",
      "metadata": {
        "colab": {
          "base_uri": "https://localhost:8080/"
        },
        "id": "vTMoYOYcggHG",
        "outputId": "06d63108-3074-4c77-b535-ac5210c7c38a"
      },
      "source": [
        "# Calculamos la media para cada una de las muestras. \n",
        "sample_means = samples.mean(axis=1) #media de cada fila, tendremos N medias\n",
        "sample_means.shape"
      ],
      "execution_count": null,
      "outputs": [
        {
          "output_type": "execute_result",
          "data": {
            "text/plain": [
              "(400,)"
            ]
          },
          "metadata": {
            "tags": []
          },
          "execution_count": 11
        }
      ]
    },
    {
      "cell_type": "markdown",
      "metadata": {
        "id": "pYke1s7RzDip"
      },
      "source": [
        "Veamos la distribución de las N realizaciones del estadístico $\\overline{X}= \\frac{1}{n} \\sum_{i=1}^{n} X_i$ "
      ]
    },
    {
      "cell_type": "code",
      "metadata": {
        "colab": {
          "base_uri": "https://localhost:8080/",
          "height": 313
        },
        "id": "hc9eGpQ9grtr",
        "outputId": "0869216c-9f42-436e-b538-c4b67e539f42"
      },
      "source": [
        "seaborn.histplot(sample_means, bins=30)\n",
        "print('Media de medias =', sample_means. mean())\n",
        "print('Varianza de medias =', sample_means. var())"
      ],
      "execution_count": null,
      "outputs": [
        {
          "output_type": "stream",
          "text": [
            "Media de medias = 5.0020325\n",
            "Varianza de medias = 0.005971736443750001\n"
          ],
          "name": "stdout"
        },
        {
          "output_type": "display_data",
          "data": {
            "image/png": "[encoded data removed]",
            "text/plain": [
              "<Figure size 432x288 with 1 Axes>"
            ]
          },
          "metadata": {
            "tags": [],
            "needs_background": "light"
          }
        }
      ]
    },
    {
      "cell_type": "code",
      "metadata": {
        "colab": {
          "base_uri": "https://localhost:8080/"
        },
        "id": "HKXWKs-m1A-p",
        "outputId": "69f1ff80-d708-4fb7-a6d1-190ba54f06c9"
      },
      "source": [
        "# documentación de la función norm de scipy\n",
        "# https://docs.scipy.org/doc/scipy/reference/generated/scipy.stats.norm.html\n",
        "# Estima la media y el desvío (los parámetros de una normal)  \n",
        "mu, std = scipy.stats.norm.fit(sample_means)\n",
        "mu, std, std**2"
      ],
      "execution_count": null,
      "outputs": [
        {
          "output_type": "execute_result",
          "data": {
            "text/plain": [
              "(5.0014225, 0.07430998582794913, 0.005521973993750001)"
            ]
          },
          "metadata": {
            "tags": []
          },
          "execution_count": 41
        }
      ]
    },
    {
      "cell_type": "markdown",
      "metadata": {
        "id": "BvmZXXqappna"
      },
      "source": [
        "## Ejercicio 1 (para realizar en grupo en clase 3)\n",
        "\n",
        "1. Analizar qué pasa cuando crece $n$ y ver la distribución de $\\overline{X}= \\frac{1}{n} \\sum_{i=1}^{n} X_i$ cuando $n\\rightarrow \\infty$ (el tamaño de la muestra). ¿Qué sucede con la varianza?\n",
        "\n",
        "2. Realizar el mismo análisis con otra distribución no normal, por ejemplo, exponencial."
      ]
    },
    {
      "cell_type": "code",
      "metadata": {
        "id": "93fsFbSt0TbY"
      },
      "source": [
        "# Generación de muestras de una distribución exponencial\n",
        "# https://docs.scipy.org/doc/scipy/reference/generated/scipy.stats.expon.html\n",
        "l = 5\n",
        "s = 2\n",
        "# media=l+s\n",
        "# varianza=s^2\n",
        "N = 100 #N filas, N realizaciones de una muestra aleatoria X_1,  ... X_n (tamaño n)\n",
        "n = 1000 \n",
        "samples = scipy.stats.expon.rvs(loc=l,scale=s,size=(N, n))"
      ],
      "execution_count": null,
      "outputs": []
    },
    {
      "cell_type": "markdown",
      "metadata": {
        "id": "BHgXE4R70mKw"
      },
      "source": [
        "## Ejercicio 2: Estimadores puntuales y por intervalos (para realizar en grupo en clase 3)\n",
        "0. Fijar n=1000\n",
        "1. Dar un estimador puntual de la media de la distribución generada"
      ]
    },
    {
      "cell_type": "markdown",
      "metadata": {
        "id": "skMmesMK2Aud"
      },
      "source": [
        "2. Dar un intervalo de confianza (IC) para la media de nivel asintótico 0.95=(1-alpha), calcular la longitud del intervalo.\n",
        "3. Dar N=1000 realizaciones del intervalo de confianza para la media de nivel 0.95 y contar cuantos contienen a la media verdadera. \n",
        "4. Incrementar n=4000 (por 4) y repetir el paso 2. Qué le pasó a la longitud el IC ?\n"
      ]
    },
    {
      "cell_type": "code",
      "metadata": {
        "id": "C-LInNjd9VJb",
        "outputId": "2c3cd448-3211-4af6-e896-f8c8c476d458",
        "colab": {
          "base_uri": "https://localhost:8080/",
          "height": 371
        }
      },
      "source": [
        "mu = 5 \n",
        "sigma = 2\n",
        "mu_calculados =[]\n",
        "std_calculado =[]\n",
        "for n in range(1000, 1000000, 1000):\n",
        "  sample = scipy.stats.norm.rvs(mu, sigma, size=n) #realización de una muestra aleatoria X_1,  ... X_n (de tamaño n)\n",
        "  mu, std = scipy.stats.norm.fit(sample)\n",
        "  mu_calculados.append(mu)\n",
        "  std_calculado.append(std)\n",
        "\n",
        "seaborn.lineplot([y for y in range(1000, 1000000, 1000)], mu_calculados)"
      ],
      "execution_count": 25,
      "outputs": [
        {
          "output_type": "stream",
          "text": [
            "/usr/local/lib/python3.7/dist-packages/seaborn/_decorators.py:43: FutureWarning: Pass the following variables as keyword args: x, y. From version 0.12, the only valid positional argument will be `data`, and passing other arguments without an explicit keyword will result in an error or misinterpretation.\n",
            "  FutureWarning\n"
          ],
          "name": "stderr"
        },
        {
          "output_type": "execute_result",
          "data": {
            "text/plain": [
              "<matplotlib.axes._subplots.AxesSubplot at 0x7f8caec7f110>"
            ]
          },
          "metadata": {
            "tags": []
          },
          "execution_count": 25
        },
        {
          "output_type": "display_data",
          "data": {
            "image/png": "[encoded data removed]",
            "text/plain": [
              "<Figure size 432x288 with 1 Axes>"
            ]
          },
          "metadata": {
            "tags": [],
            "needs_background": "light"
          }
        }
      ]
    },
    {
      "cell_type": "code",
      "metadata": {
        "id": "gD4KXnuWJNdq",
        "outputId": "a3cfae2a-e432-48ca-b208-f6e259d08664",
        "colab": {
          "base_uri": "https://localhost:8080/",
          "height": 371
        }
      },
      "source": [
        "seaborn.lineplot([y for y in range(1000, 1000000, 1000)], std_calculado)"
      ],
      "execution_count": 24,
      "outputs": [
        {
          "output_type": "stream",
          "text": [
            "/usr/local/lib/python3.7/dist-packages/seaborn/_decorators.py:43: FutureWarning: Pass the following variables as keyword args: x, y. From version 0.12, the only valid positional argument will be `data`, and passing other arguments without an explicit keyword will result in an error or misinterpretation.\n",
            "  FutureWarning\n"
          ],
          "name": "stderr"
        },
        {
          "output_type": "execute_result",
          "data": {
            "text/plain": [
              "<matplotlib.axes._subplots.AxesSubplot at 0x7f8caec9b150>"
            ]
          },
          "metadata": {
            "tags": []
          },
          "execution_count": 24
        },
        {
          "output_type": "display_data",
          "data": {
            "image/png": "[encoded data removed]",
            "text/plain": [
              "<Figure size 432x288 with 1 Axes>"
            ]
          },
          "metadata": {
            "tags": [],
            "needs_background": "light"
          }
        }
      ]
    },
    {
      "cell_type": "code",
      "metadata": {
        "id": "9OkcfUboFClG",
        "outputId": "283bdce8-ab71-4d18-ecbe-258d58206d99",
        "colab": {
          "base_uri": "https://localhost:8080/",
          "height": 296
        }
      },
      "source": [
        "n = 1500 \n",
        " \n",
        "mu = 5 \n",
        "sigma = 2\n",
        "\n",
        "sample = scipy.stats.norm.rvs(mu, sigma, size=n) #realización de una muestra aleatoria X_1,  ... X_n (de tamaño n)\n",
        "\n",
        "seaborn.histplot(sample, bins=12)\n",
        "print ('promedio de la muestra=', sample.mean(), ', una realización del estadístico media muestral')"
      ],
      "execution_count": 15,
      "outputs": [
        {
          "output_type": "stream",
          "text": [
            "promedio de la muestra= 4.948112233117556 , una realización del estadístico media muestral\n"
          ],
          "name": "stdout"
        },
        {
          "output_type": "display_data",
          "data": {
            "image/png": "[encoded data removed]",
            "text/plain": [
              "<Figure size 432x288 with 1 Axes>"
            ]
          },
          "metadata": {
            "tags": [],
            "needs_background": "light"
          }
        }
      ]
    },
    {
      "cell_type": "code",
      "metadata": {
        "id": "hs7oZWw0FovM",
        "outputId": "5fbfa792-266d-4a82-e465-63754c02be36",
        "colab": {
          "base_uri": "https://localhost:8080/",
          "height": 296
        }
      },
      "source": [
        "n = 2000 \n",
        "\n",
        "lambd = 5 \n",
        "\n",
        "sample = scipy.stats.poisson.rvs(lambd, size=n) #realización de una muestra aleatoria X_1,  ... X_n (de tamaño n)\n",
        "\n",
        "seaborn.histplot(sample, bins=12)\n",
        "print ('promedio de la muestra=', sample.mean(), ', una realización del estadístico media muestral')"
      ],
      "execution_count": 9,
      "outputs": [
        {
          "output_type": "stream",
          "text": [
            "promedio de la muestra= 4.9505 , una realización del estadístico media muestral\n"
          ],
          "name": "stdout"
        },
        {
          "output_type": "display_data",
          "data": {
            "image/png": "[encoded data removed]",
            "text/plain": [
              "<Figure size 432x288 with 1 Axes>"
            ]
          },
          "metadata": {
            "tags": [],
            "needs_background": "light"
          }
        }
      ]
    }
  ]
}