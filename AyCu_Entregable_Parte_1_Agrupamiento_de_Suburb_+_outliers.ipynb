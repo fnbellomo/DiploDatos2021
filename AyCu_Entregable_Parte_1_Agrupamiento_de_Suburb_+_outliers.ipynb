{
  "nbformat": 4,
  "nbformat_minor": 0,
  "metadata": {
    "colab": {
      "name": "AyCu - Entregable - Parte 1 - Agrupamiento de Suburb + outliers.ipynb",
      "provenance": [],
      "collapsed_sections": [],
      "include_colab_link": true
    },
    "kernelspec": {
      "display_name": "Python 3",
      "language": "python",
      "name": "python3"
    },
    "language_info": {
      "codemirror_mode": {
        "name": "ipython",
        "version": 3
      },
      "file_extension": ".py",
      "mimetype": "text/x-python",
      "name": "python",
      "nbconvert_exporter": "python",
      "pygments_lexer": "ipython3",
      "version": "3.9.2"
    }
  },
  "cells": [
    {
      "cell_type": "markdown",
      "metadata": {
        "id": "view-in-github",
        "colab_type": "text"
      },
      "source": [
        "<a href=\"https://colab.research.google.com/github/fnbellomo/DiploDatos2021/blob/main/AyCu_Entregable_Parte_1_Agrupamiento_de_Suburb_%2B_outliers.ipynb\" target=\"_parent\"><img src=\"https://colab.research.google.com/assets/colab-badge.svg\" alt=\"Open In Colab\"/></a>"
      ]
    },
    {
      "cell_type": "markdown",
      "metadata": {
        "id": "zO4bRoxr2Apy"
      },
      "source": [
        "**Diplomatura en Ciencia de Datos, Aprendizaje Automático y sus Aplicaciones**\n",
        "\n",
        "**Exploración y Curación de Datos**\n",
        "\n",
        "*Edición 2021*\n",
        "\n",
        "----\n",
        "\n",
        "# Trabajo práctico entregable - parte 1\n",
        "\n",
        "En esta notebook, vamos a cargar el conjunto de datos de [la compentencia Kaggle](https://www.kaggle.com/dansbecker/melbourne-housing-snapshot) sobre estimación de precios de ventas de propiedades en Melbourne, Australia.\n",
        "\n",
        "Utilizaremos el conjunto de datos reducido producido por [DanB](https://www.kaggle.com/dansbecker). Hemos subido una copia a un servidor de la Universidad Nacional de Córdoba para facilitar su acceso remoto."
      ]
    },
    {
      "cell_type": "code",
      "metadata": {
        "id": "4udjxjk1EtVU"
      },
      "source": [
        "import numpy as np\n",
        "import pandas as pd\n",
        "import seaborn as sns\n",
        "import matplotlib.pyplot as plt\n",
        "from sklearn.preprocessing import LabelEncoder\n",
        "\n",
        "sns.set_context('talk')\n",
        "sns.set_style('darkgrid')\n",
        "pd.set_option(\"display.max_columns\", None)"
      ],
      "execution_count": 167,
      "outputs": []
    },
    {
      "cell_type": "code",
      "metadata": {
        "id": "gyBtnITzWQr2"
      },
      "source": [
        "def is_one_to_one(df, col1, col2):\n",
        "    first = df.drop_duplicates([col1, col2]).groupby(col1)[col2].count().max()\n",
        "    second = df.drop_duplicates([col1, col2]).groupby(col2)[col1].count().max()\n",
        "    return first + second == 2"
      ],
      "execution_count": 168,
      "outputs": []
    },
    {
      "cell_type": "code",
      "metadata": {
        "id": "cuor1amTWQr2"
      },
      "source": [
        "def haversine_np(lon1, lat1, lon2, lat2):\n",
        "    \"\"\"\n",
        "    Calculate the great circle distance between two points\n",
        "    on the earth (specified in decimal degrees)\n",
        "    \n",
        "    Thanks https://stackoverflow.com/questions/42877802/pandas-dataframe-join-items-in-range-based-on-their-geo-coordinates-longitude\n",
        "    \"\"\"\n",
        "    lon1, lat1, lon2, lat2 = map(np.radians, [lon1, lat1, lon2, lat2])\n",
        "\n",
        "    dlon = lon2 - lon1\n",
        "    dlat = lat2 - lat1\n",
        "\n",
        "    a = np.sin(dlat/2.0)**2 + np.cos(lat1) * np.cos(lat2) * np.sin(dlon/2.0)**2\n",
        "\n",
        "    c = 2 * np.arcsin(np.sqrt(a))\n",
        "    km = 6367 * c\n",
        "    return km"
      ],
      "execution_count": 169,
      "outputs": []
    },
    {
      "cell_type": "markdown",
      "metadata": {
        "id": "s-mixICN22kA"
      },
      "source": [
        "## Ejercicio 1: \n",
        "\n",
        "1. Eliminar los valores extremos que no sean relevantes para la predicción de valores de las propiedades."
      ]
    },
    {
      "cell_type": "code",
      "metadata": {
        "colab": {
          "base_uri": "https://localhost:8080/",
          "height": 343
        },
        "id": "KzZYlMSdWQr3",
        "outputId": "4e382322-415e-47b6-ce05-3410ed750d6e"
      },
      "source": [
        "melb_df = pd.read_csv(\n",
        "    \"https://cs.famaf.unc.edu.ar/~mteruel/datasets/diplodatos/melb_data.csv\",\n",
        "    parse_dates=[\"Date\"]\n",
        ")\n",
        "\n",
        "# Transformamos las col cat 'type' y 'method' a numericas\n",
        "melb_df[\"seller_cat\"] = LabelEncoder().fit_transform(melb_df.SellerG)\n",
        "melb_df[\"method_cat\"] = LabelEncoder().fit_transform(melb_df.Method)\n",
        "melb_df[\"type_cat\"] = LabelEncoder().fit_transform(melb_df.Type)\n",
        "melb_df[\"suburb_cat\"] = LabelEncoder().fit_transform(melb_df.Suburb)\n",
        "melb_df[\"region_name_cat\"] = LabelEncoder().fit_transform(melb_df.Regionname)\n",
        "melb_df[\"council_area_cat\"] = LabelEncoder().fit_transform(melb_df.CouncilArea.fillna('NaN'))\n",
        "\n",
        "# Ordeno un poco las columnas y unifico los nombres a snake_cases\n",
        "melb_df = melb_df[[\n",
        "    \"Date\",\n",
        "    \"SellerG\",\n",
        "    \"Method\",\n",
        "    \"Type\",\n",
        "    \"Regionname\",\n",
        "    \"Suburb\",\n",
        "    \"CouncilArea\",\n",
        "    \"Address\",\n",
        "    \"seller_cat\",\n",
        "    \"method_cat\",\n",
        "    \"type_cat\",\n",
        "    \"region_name_cat\",\n",
        "    \"council_area_cat\",\n",
        "    \"suburb_cat\",\n",
        "    \"Postcode\",\n",
        "    \"Lattitude\",\n",
        "    \"Longtitude\",\n",
        "    \"Distance\",\n",
        "    \"Propertycount\",\n",
        "    \"Price\",\n",
        "    \"YearBuilt\",\n",
        "    \"Landsize\",\n",
        "    \"BuildingArea\",\n",
        "    \"Rooms\",\n",
        "    \"Bedroom2\",\n",
        "    \"Bathroom\",\n",
        "    \"Car\",\n",
        "]]\n",
        "\n",
        "melb_df.columns = [\n",
        "    \"date\",\n",
        "    \"seller\",\n",
        "    \"method\",\n",
        "    \"type\",\n",
        "    \"region_name\",\n",
        "    \"suburb\",\n",
        "    \"council_area\",\n",
        "    \"address\",\n",
        "    \"seller_cat\",\n",
        "    \"method_cat\",\n",
        "    \"type_cat\",\n",
        "    \"region_name_cat\",\n",
        "    \"council_area_cat\",\n",
        "    \"suburb_cat\",\n",
        "    \"postcode\",\n",
        "    \"lat\",\n",
        "    \"lng\",\n",
        "    \"distance\",\n",
        "    \"property_count\",\n",
        "    \"price\",\n",
        "    \"year_built\",\n",
        "    \"land_size\",\n",
        "    \"building_area\",\n",
        "    \"rooms\",\n",
        "    \"bedroom_2\",\n",
        "    \"bathroom\",\n",
        "    \"car\",\n",
        "]\n",
        "\n",
        "for col in [\"postcode\", \"property_count\", \"bedroom_2\", \"bathroom\"]:\n",
        "    melb_df[col] = melb_df[col].astype(int)\n",
        "\n",
        "melb_df.head()"
      ],
      "execution_count": 170,
      "outputs": [
        {
          "output_type": "execute_result",
          "data": {
            "text/html": [
              "<div>\n",
              "<style scoped>\n",
              "    .dataframe tbody tr th:only-of-type {\n",
              "        vertical-align: middle;\n",
              "    }\n",
              "\n",
              "    .dataframe tbody tr th {\n",
              "        vertical-align: top;\n",
              "    }\n",
              "\n",
              "    .dataframe thead th {\n",
              "        text-align: right;\n",
              "    }\n",
              "</style>\n",
              "<table border=\"1\" class=\"dataframe\">\n",
              "  <thead>\n",
              "    <tr style=\"text-align: right;\">\n",
              "      <th></th>\n",
              "      <th>date</th>\n",
              "      <th>seller</th>\n",
              "      <th>method</th>\n",
              "      <th>type</th>\n",
              "      <th>region_name</th>\n",
              "      <th>suburb</th>\n",
              "      <th>council_area</th>\n",
              "      <th>address</th>\n",
              "      <th>seller_cat</th>\n",
              "      <th>method_cat</th>\n",
              "      <th>type_cat</th>\n",
              "      <th>region_name_cat</th>\n",
              "      <th>council_area_cat</th>\n",
              "      <th>suburb_cat</th>\n",
              "      <th>postcode</th>\n",
              "      <th>lat</th>\n",
              "      <th>lng</th>\n",
              "      <th>distance</th>\n",
              "      <th>property_count</th>\n",
              "      <th>price</th>\n",
              "      <th>year_built</th>\n",
              "      <th>land_size</th>\n",
              "      <th>building_area</th>\n",
              "      <th>rooms</th>\n",
              "      <th>bedroom_2</th>\n",
              "      <th>bathroom</th>\n",
              "      <th>car</th>\n",
              "    </tr>\n",
              "  </thead>\n",
              "  <tbody>\n",
              "    <tr>\n",
              "      <th>0</th>\n",
              "      <td>2016-03-12</td>\n",
              "      <td>Biggin</td>\n",
              "      <td>S</td>\n",
              "      <td>h</td>\n",
              "      <td>Northern Metropolitan</td>\n",
              "      <td>Abbotsford</td>\n",
              "      <td>Yarra</td>\n",
              "      <td>85 Turner St</td>\n",
              "      <td>23</td>\n",
              "      <td>1</td>\n",
              "      <td>0</td>\n",
              "      <td>2</td>\n",
              "      <td>32</td>\n",
              "      <td>0</td>\n",
              "      <td>3067</td>\n",
              "      <td>-37.7996</td>\n",
              "      <td>144.9984</td>\n",
              "      <td>2.5</td>\n",
              "      <td>4019</td>\n",
              "      <td>1480000.0</td>\n",
              "      <td>NaN</td>\n",
              "      <td>202.0</td>\n",
              "      <td>NaN</td>\n",
              "      <td>2</td>\n",
              "      <td>2</td>\n",
              "      <td>1</td>\n",
              "      <td>1.0</td>\n",
              "    </tr>\n",
              "    <tr>\n",
              "      <th>1</th>\n",
              "      <td>2016-04-02</td>\n",
              "      <td>Biggin</td>\n",
              "      <td>S</td>\n",
              "      <td>h</td>\n",
              "      <td>Northern Metropolitan</td>\n",
              "      <td>Abbotsford</td>\n",
              "      <td>Yarra</td>\n",
              "      <td>25 Bloomburg St</td>\n",
              "      <td>23</td>\n",
              "      <td>1</td>\n",
              "      <td>0</td>\n",
              "      <td>2</td>\n",
              "      <td>32</td>\n",
              "      <td>0</td>\n",
              "      <td>3067</td>\n",
              "      <td>-37.8079</td>\n",
              "      <td>144.9934</td>\n",
              "      <td>2.5</td>\n",
              "      <td>4019</td>\n",
              "      <td>1035000.0</td>\n",
              "      <td>1900.0</td>\n",
              "      <td>156.0</td>\n",
              "      <td>79.0</td>\n",
              "      <td>2</td>\n",
              "      <td>2</td>\n",
              "      <td>1</td>\n",
              "      <td>0.0</td>\n",
              "    </tr>\n",
              "    <tr>\n",
              "      <th>2</th>\n",
              "      <td>2017-04-03</td>\n",
              "      <td>Biggin</td>\n",
              "      <td>SP</td>\n",
              "      <td>h</td>\n",
              "      <td>Northern Metropolitan</td>\n",
              "      <td>Abbotsford</td>\n",
              "      <td>Yarra</td>\n",
              "      <td>5 Charles St</td>\n",
              "      <td>23</td>\n",
              "      <td>3</td>\n",
              "      <td>0</td>\n",
              "      <td>2</td>\n",
              "      <td>32</td>\n",
              "      <td>0</td>\n",
              "      <td>3067</td>\n",
              "      <td>-37.8093</td>\n",
              "      <td>144.9944</td>\n",
              "      <td>2.5</td>\n",
              "      <td>4019</td>\n",
              "      <td>1465000.0</td>\n",
              "      <td>1900.0</td>\n",
              "      <td>134.0</td>\n",
              "      <td>150.0</td>\n",
              "      <td>3</td>\n",
              "      <td>3</td>\n",
              "      <td>2</td>\n",
              "      <td>0.0</td>\n",
              "    </tr>\n",
              "    <tr>\n",
              "      <th>3</th>\n",
              "      <td>2017-04-03</td>\n",
              "      <td>Biggin</td>\n",
              "      <td>PI</td>\n",
              "      <td>h</td>\n",
              "      <td>Northern Metropolitan</td>\n",
              "      <td>Abbotsford</td>\n",
              "      <td>Yarra</td>\n",
              "      <td>40 Federation La</td>\n",
              "      <td>23</td>\n",
              "      <td>0</td>\n",
              "      <td>0</td>\n",
              "      <td>2</td>\n",
              "      <td>32</td>\n",
              "      <td>0</td>\n",
              "      <td>3067</td>\n",
              "      <td>-37.7969</td>\n",
              "      <td>144.9969</td>\n",
              "      <td>2.5</td>\n",
              "      <td>4019</td>\n",
              "      <td>850000.0</td>\n",
              "      <td>NaN</td>\n",
              "      <td>94.0</td>\n",
              "      <td>NaN</td>\n",
              "      <td>3</td>\n",
              "      <td>3</td>\n",
              "      <td>2</td>\n",
              "      <td>1.0</td>\n",
              "    </tr>\n",
              "    <tr>\n",
              "      <th>4</th>\n",
              "      <td>2016-04-06</td>\n",
              "      <td>Nelson</td>\n",
              "      <td>VB</td>\n",
              "      <td>h</td>\n",
              "      <td>Northern Metropolitan</td>\n",
              "      <td>Abbotsford</td>\n",
              "      <td>Yarra</td>\n",
              "      <td>55a Park St</td>\n",
              "      <td>155</td>\n",
              "      <td>4</td>\n",
              "      <td>0</td>\n",
              "      <td>2</td>\n",
              "      <td>32</td>\n",
              "      <td>0</td>\n",
              "      <td>3067</td>\n",
              "      <td>-37.8072</td>\n",
              "      <td>144.9941</td>\n",
              "      <td>2.5</td>\n",
              "      <td>4019</td>\n",
              "      <td>1600000.0</td>\n",
              "      <td>2014.0</td>\n",
              "      <td>120.0</td>\n",
              "      <td>142.0</td>\n",
              "      <td>4</td>\n",
              "      <td>3</td>\n",
              "      <td>1</td>\n",
              "      <td>2.0</td>\n",
              "    </tr>\n",
              "  </tbody>\n",
              "</table>\n",
              "</div>"
            ],
            "text/plain": [
              "        date  seller method type            region_name      suburb  \\\n",
              "0 2016-03-12  Biggin      S    h  Northern Metropolitan  Abbotsford   \n",
              "1 2016-04-02  Biggin      S    h  Northern Metropolitan  Abbotsford   \n",
              "2 2017-04-03  Biggin     SP    h  Northern Metropolitan  Abbotsford   \n",
              "3 2017-04-03  Biggin     PI    h  Northern Metropolitan  Abbotsford   \n",
              "4 2016-04-06  Nelson     VB    h  Northern Metropolitan  Abbotsford   \n",
              "\n",
              "  council_area           address  seller_cat  method_cat  type_cat  \\\n",
              "0        Yarra      85 Turner St          23           1         0   \n",
              "1        Yarra   25 Bloomburg St          23           1         0   \n",
              "2        Yarra      5 Charles St          23           3         0   \n",
              "3        Yarra  40 Federation La          23           0         0   \n",
              "4        Yarra       55a Park St         155           4         0   \n",
              "\n",
              "   region_name_cat  council_area_cat  suburb_cat  postcode      lat       lng  \\\n",
              "0                2                32           0      3067 -37.7996  144.9984   \n",
              "1                2                32           0      3067 -37.8079  144.9934   \n",
              "2                2                32           0      3067 -37.8093  144.9944   \n",
              "3                2                32           0      3067 -37.7969  144.9969   \n",
              "4                2                32           0      3067 -37.8072  144.9941   \n",
              "\n",
              "   distance  property_count      price  year_built  land_size  building_area  \\\n",
              "0       2.5            4019  1480000.0         NaN      202.0            NaN   \n",
              "1       2.5            4019  1035000.0      1900.0      156.0           79.0   \n",
              "2       2.5            4019  1465000.0      1900.0      134.0          150.0   \n",
              "3       2.5            4019   850000.0         NaN       94.0            NaN   \n",
              "4       2.5            4019  1600000.0      2014.0      120.0          142.0   \n",
              "\n",
              "   rooms  bedroom_2  bathroom  car  \n",
              "0      2          2         1  1.0  \n",
              "1      2          2         1  0.0  \n",
              "2      3          3         2  0.0  \n",
              "3      3          3         2  1.0  \n",
              "4      4          3         1  2.0  "
            ]
          },
          "metadata": {
            "tags": []
          },
          "execution_count": 170
        }
      ]
    },
    {
      "cell_type": "code",
      "metadata": {
        "colab": {
          "base_uri": "https://localhost:8080/"
        },
        "id": "Kn6JURFQWQr5",
        "outputId": "4a7a1b25-51c8-4e37-e495-9c6dff90809f"
      },
      "source": [
        "melb_df.info()"
      ],
      "execution_count": 171,
      "outputs": [
        {
          "output_type": "stream",
          "text": [
            "<class 'pandas.core.frame.DataFrame'>\n",
            "RangeIndex: 13580 entries, 0 to 13579\n",
            "Data columns (total 27 columns):\n",
            " #   Column            Non-Null Count  Dtype         \n",
            "---  ------            --------------  -----         \n",
            " 0   date              13580 non-null  datetime64[ns]\n",
            " 1   seller            13580 non-null  object        \n",
            " 2   method            13580 non-null  object        \n",
            " 3   type              13580 non-null  object        \n",
            " 4   region_name       13580 non-null  object        \n",
            " 5   suburb            13580 non-null  object        \n",
            " 6   council_area      12211 non-null  object        \n",
            " 7   address           13580 non-null  object        \n",
            " 8   seller_cat        13580 non-null  int64         \n",
            " 9   method_cat        13580 non-null  int64         \n",
            " 10  type_cat          13580 non-null  int64         \n",
            " 11  region_name_cat   13580 non-null  int64         \n",
            " 12  council_area_cat  13580 non-null  int64         \n",
            " 13  suburb_cat        13580 non-null  int64         \n",
            " 14  postcode          13580 non-null  int64         \n",
            " 15  lat               13580 non-null  float64       \n",
            " 16  lng               13580 non-null  float64       \n",
            " 17  distance          13580 non-null  float64       \n",
            " 18  property_count    13580 non-null  int64         \n",
            " 19  price             13580 non-null  float64       \n",
            " 20  year_built        8205 non-null   float64       \n",
            " 21  land_size         13580 non-null  float64       \n",
            " 22  building_area     7130 non-null   float64       \n",
            " 23  rooms             13580 non-null  int64         \n",
            " 24  bedroom_2         13580 non-null  int64         \n",
            " 25  bathroom          13580 non-null  int64         \n",
            " 26  car               13518 non-null  float64       \n",
            "dtypes: datetime64[ns](1), float64(8), int64(11), object(7)\n",
            "memory usage: 2.8+ MB\n"
          ],
          "name": "stdout"
        }
      ]
    },
    {
      "cell_type": "code",
      "metadata": {
        "colab": {
          "base_uri": "https://localhost:8080/",
          "height": 317
        },
        "id": "M-Eg82bxWQr5",
        "outputId": "e171ebe7-1a54-4a2f-abe5-b3c985c74860"
      },
      "source": [
        "melb_df.describe()"
      ],
      "execution_count": 172,
      "outputs": [
        {
          "output_type": "execute_result",
          "data": {
            "text/html": [
              "<div>\n",
              "<style scoped>\n",
              "    .dataframe tbody tr th:only-of-type {\n",
              "        vertical-align: middle;\n",
              "    }\n",
              "\n",
              "    .dataframe tbody tr th {\n",
              "        vertical-align: top;\n",
              "    }\n",
              "\n",
              "    .dataframe thead th {\n",
              "        text-align: right;\n",
              "    }\n",
              "</style>\n",
              "<table border=\"1\" class=\"dataframe\">\n",
              "  <thead>\n",
              "    <tr style=\"text-align: right;\">\n",
              "      <th></th>\n",
              "      <th>seller_cat</th>\n",
              "      <th>method_cat</th>\n",
              "      <th>type_cat</th>\n",
              "      <th>region_name_cat</th>\n",
              "      <th>council_area_cat</th>\n",
              "      <th>suburb_cat</th>\n",
              "      <th>postcode</th>\n",
              "      <th>lat</th>\n",
              "      <th>lng</th>\n",
              "      <th>distance</th>\n",
              "      <th>property_count</th>\n",
              "      <th>price</th>\n",
              "      <th>year_built</th>\n",
              "      <th>land_size</th>\n",
              "      <th>building_area</th>\n",
              "      <th>rooms</th>\n",
              "      <th>bedroom_2</th>\n",
              "      <th>bathroom</th>\n",
              "      <th>car</th>\n",
              "    </tr>\n",
              "  </thead>\n",
              "  <tbody>\n",
              "    <tr>\n",
              "      <th>count</th>\n",
              "      <td>13580.000000</td>\n",
              "      <td>13580.000000</td>\n",
              "      <td>13580.000000</td>\n",
              "      <td>13580.000000</td>\n",
              "      <td>13580.000000</td>\n",
              "      <td>13580.000000</td>\n",
              "      <td>13580.000000</td>\n",
              "      <td>13580.000000</td>\n",
              "      <td>13580.000000</td>\n",
              "      <td>13580.000000</td>\n",
              "      <td>13580.000000</td>\n",
              "      <td>1.358000e+04</td>\n",
              "      <td>8205.000000</td>\n",
              "      <td>13580.000000</td>\n",
              "      <td>7130.000000</td>\n",
              "      <td>13580.000000</td>\n",
              "      <td>13580.000000</td>\n",
              "      <td>13580.000000</td>\n",
              "      <td>13518.000000</td>\n",
              "    </tr>\n",
              "    <tr>\n",
              "      <th>mean</th>\n",
              "      <td>130.810972</td>\n",
              "      <td>1.407290</td>\n",
              "      <td>0.526362</td>\n",
              "      <td>3.766053</td>\n",
              "      <td>15.890280</td>\n",
              "      <td>155.307953</td>\n",
              "      <td>3105.301915</td>\n",
              "      <td>-37.809203</td>\n",
              "      <td>144.995216</td>\n",
              "      <td>10.137776</td>\n",
              "      <td>7454.417378</td>\n",
              "      <td>1.075684e+06</td>\n",
              "      <td>1964.684217</td>\n",
              "      <td>558.416127</td>\n",
              "      <td>151.967650</td>\n",
              "      <td>2.937997</td>\n",
              "      <td>2.914728</td>\n",
              "      <td>1.534242</td>\n",
              "      <td>1.610075</td>\n",
              "    </tr>\n",
              "    <tr>\n",
              "      <th>std</th>\n",
              "      <td>77.735927</td>\n",
              "      <td>1.119105</td>\n",
              "      <td>0.832878</td>\n",
              "      <td>2.024334</td>\n",
              "      <td>9.970486</td>\n",
              "      <td>90.307844</td>\n",
              "      <td>90.676964</td>\n",
              "      <td>0.079260</td>\n",
              "      <td>0.103916</td>\n",
              "      <td>5.868725</td>\n",
              "      <td>4378.581772</td>\n",
              "      <td>6.393107e+05</td>\n",
              "      <td>37.273762</td>\n",
              "      <td>3990.669241</td>\n",
              "      <td>541.014538</td>\n",
              "      <td>0.955748</td>\n",
              "      <td>0.965921</td>\n",
              "      <td>0.691712</td>\n",
              "      <td>0.962634</td>\n",
              "    </tr>\n",
              "    <tr>\n",
              "      <th>min</th>\n",
              "      <td>0.000000</td>\n",
              "      <td>0.000000</td>\n",
              "      <td>0.000000</td>\n",
              "      <td>0.000000</td>\n",
              "      <td>0.000000</td>\n",
              "      <td>0.000000</td>\n",
              "      <td>3000.000000</td>\n",
              "      <td>-38.182550</td>\n",
              "      <td>144.431810</td>\n",
              "      <td>0.000000</td>\n",
              "      <td>249.000000</td>\n",
              "      <td>8.500000e+04</td>\n",
              "      <td>1196.000000</td>\n",
              "      <td>0.000000</td>\n",
              "      <td>0.000000</td>\n",
              "      <td>1.000000</td>\n",
              "      <td>0.000000</td>\n",
              "      <td>0.000000</td>\n",
              "      <td>0.000000</td>\n",
              "    </tr>\n",
              "    <tr>\n",
              "      <th>25%</th>\n",
              "      <td>73.000000</td>\n",
              "      <td>1.000000</td>\n",
              "      <td>0.000000</td>\n",
              "      <td>2.000000</td>\n",
              "      <td>6.000000</td>\n",
              "      <td>70.000000</td>\n",
              "      <td>3044.000000</td>\n",
              "      <td>-37.856822</td>\n",
              "      <td>144.929600</td>\n",
              "      <td>6.100000</td>\n",
              "      <td>4380.000000</td>\n",
              "      <td>6.500000e+05</td>\n",
              "      <td>1940.000000</td>\n",
              "      <td>177.000000</td>\n",
              "      <td>93.000000</td>\n",
              "      <td>2.000000</td>\n",
              "      <td>2.000000</td>\n",
              "      <td>1.000000</td>\n",
              "      <td>1.000000</td>\n",
              "    </tr>\n",
              "    <tr>\n",
              "      <th>50%</th>\n",
              "      <td>135.000000</td>\n",
              "      <td>1.000000</td>\n",
              "      <td>0.000000</td>\n",
              "      <td>5.000000</td>\n",
              "      <td>18.000000</td>\n",
              "      <td>154.000000</td>\n",
              "      <td>3084.000000</td>\n",
              "      <td>-37.802355</td>\n",
              "      <td>145.000100</td>\n",
              "      <td>9.200000</td>\n",
              "      <td>6555.000000</td>\n",
              "      <td>9.030000e+05</td>\n",
              "      <td>1970.000000</td>\n",
              "      <td>440.000000</td>\n",
              "      <td>126.000000</td>\n",
              "      <td>3.000000</td>\n",
              "      <td>3.000000</td>\n",
              "      <td>1.000000</td>\n",
              "      <td>2.000000</td>\n",
              "    </tr>\n",
              "    <tr>\n",
              "      <th>75%</th>\n",
              "      <td>194.000000</td>\n",
              "      <td>1.000000</td>\n",
              "      <td>1.000000</td>\n",
              "      <td>5.000000</td>\n",
              "      <td>24.000000</td>\n",
              "      <td>234.000000</td>\n",
              "      <td>3148.000000</td>\n",
              "      <td>-37.756400</td>\n",
              "      <td>145.058305</td>\n",
              "      <td>13.000000</td>\n",
              "      <td>10331.000000</td>\n",
              "      <td>1.330000e+06</td>\n",
              "      <td>1999.000000</td>\n",
              "      <td>651.000000</td>\n",
              "      <td>174.000000</td>\n",
              "      <td>3.000000</td>\n",
              "      <td>3.000000</td>\n",
              "      <td>2.000000</td>\n",
              "      <td>2.000000</td>\n",
              "    </tr>\n",
              "    <tr>\n",
              "      <th>max</th>\n",
              "      <td>267.000000</td>\n",
              "      <td>4.000000</td>\n",
              "      <td>2.000000</td>\n",
              "      <td>7.000000</td>\n",
              "      <td>33.000000</td>\n",
              "      <td>313.000000</td>\n",
              "      <td>3977.000000</td>\n",
              "      <td>-37.408530</td>\n",
              "      <td>145.526350</td>\n",
              "      <td>48.100000</td>\n",
              "      <td>21650.000000</td>\n",
              "      <td>9.000000e+06</td>\n",
              "      <td>2018.000000</td>\n",
              "      <td>433014.000000</td>\n",
              "      <td>44515.000000</td>\n",
              "      <td>10.000000</td>\n",
              "      <td>20.000000</td>\n",
              "      <td>8.000000</td>\n",
              "      <td>10.000000</td>\n",
              "    </tr>\n",
              "  </tbody>\n",
              "</table>\n",
              "</div>"
            ],
            "text/plain": [
              "         seller_cat    method_cat      type_cat  region_name_cat  \\\n",
              "count  13580.000000  13580.000000  13580.000000     13580.000000   \n",
              "mean     130.810972      1.407290      0.526362         3.766053   \n",
              "std       77.735927      1.119105      0.832878         2.024334   \n",
              "min        0.000000      0.000000      0.000000         0.000000   \n",
              "25%       73.000000      1.000000      0.000000         2.000000   \n",
              "50%      135.000000      1.000000      0.000000         5.000000   \n",
              "75%      194.000000      1.000000      1.000000         5.000000   \n",
              "max      267.000000      4.000000      2.000000         7.000000   \n",
              "\n",
              "       council_area_cat    suburb_cat      postcode           lat  \\\n",
              "count      13580.000000  13580.000000  13580.000000  13580.000000   \n",
              "mean          15.890280    155.307953   3105.301915    -37.809203   \n",
              "std            9.970486     90.307844     90.676964      0.079260   \n",
              "min            0.000000      0.000000   3000.000000    -38.182550   \n",
              "25%            6.000000     70.000000   3044.000000    -37.856822   \n",
              "50%           18.000000    154.000000   3084.000000    -37.802355   \n",
              "75%           24.000000    234.000000   3148.000000    -37.756400   \n",
              "max           33.000000    313.000000   3977.000000    -37.408530   \n",
              "\n",
              "                lng      distance  property_count         price   year_built  \\\n",
              "count  13580.000000  13580.000000    13580.000000  1.358000e+04  8205.000000   \n",
              "mean     144.995216     10.137776     7454.417378  1.075684e+06  1964.684217   \n",
              "std        0.103916      5.868725     4378.581772  6.393107e+05    37.273762   \n",
              "min      144.431810      0.000000      249.000000  8.500000e+04  1196.000000   \n",
              "25%      144.929600      6.100000     4380.000000  6.500000e+05  1940.000000   \n",
              "50%      145.000100      9.200000     6555.000000  9.030000e+05  1970.000000   \n",
              "75%      145.058305     13.000000    10331.000000  1.330000e+06  1999.000000   \n",
              "max      145.526350     48.100000    21650.000000  9.000000e+06  2018.000000   \n",
              "\n",
              "           land_size  building_area         rooms     bedroom_2      bathroom  \\\n",
              "count   13580.000000    7130.000000  13580.000000  13580.000000  13580.000000   \n",
              "mean      558.416127     151.967650      2.937997      2.914728      1.534242   \n",
              "std      3990.669241     541.014538      0.955748      0.965921      0.691712   \n",
              "min         0.000000       0.000000      1.000000      0.000000      0.000000   \n",
              "25%       177.000000      93.000000      2.000000      2.000000      1.000000   \n",
              "50%       440.000000     126.000000      3.000000      3.000000      1.000000   \n",
              "75%       651.000000     174.000000      3.000000      3.000000      2.000000   \n",
              "max    433014.000000   44515.000000     10.000000     20.000000      8.000000   \n",
              "\n",
              "                car  \n",
              "count  13518.000000  \n",
              "mean       1.610075  \n",
              "std        0.962634  \n",
              "min        0.000000  \n",
              "25%        1.000000  \n",
              "50%        2.000000  \n",
              "75%        2.000000  \n",
              "max       10.000000  "
            ]
          },
          "metadata": {
            "tags": []
          },
          "execution_count": 172
        }
      ]
    },
    {
      "cell_type": "code",
      "metadata": {
        "id": "Moi8cjZ0WQr6"
      },
      "source": [
        "# sns.pairplot(melb_df)"
      ],
      "execution_count": 173,
      "outputs": []
    },
    {
      "cell_type": "markdown",
      "metadata": {
        "id": "gfili-eyWQr6"
      },
      "source": [
        "Eliminar valores extremos de:\n",
        "    - year_built\n",
        "    - land_size\n",
        "    - building_area\n",
        "    \n",
        "En el precio tengo mis dudas si tenemos o no que eliminar valores \n",
        "Yo eliminaría muy pocos valores.... en el boxplot hay una línea de unos puntitos que quedan afuera como outliers a partir de aproximadamente los 4 millones, muy pocas casas (unas 30), que no parecen ser mansiones, pero por algún motivo fueron vendidas a precios increíbles.... nosé, tal vez están valuadas porque algo ocurrió ahí o porque algún famoso vivió ahí. Sacaría solamente esas 30 por las dudas que nos tire demasiado para arriba los valores de venta sin ninguna razón aparente más que, de nuevo, \"famoso\", \"hecho fantástico\", o algo así.\n",
        "También podemos sacar los valores desde el 75% para arriba, que sería cerca a partir de los dos millones y pico, y nos sacamos de encima toda la hilera de puntitos. Eso serían cerca de unas 300 casas aprox....\n",
        "Y por ahí también sacaría las casas con precios demasiado bajos, por los casos en que las propiedades hayan sido vendidas por debajo de su precio de venta (lo que quiere decir que estaban hechas percha)"
      ]
    },
    {
      "cell_type": "code",
      "metadata": {
        "colab": {
          "base_uri": "https://localhost:8080/",
          "height": 535
        },
        "id": "cGihsNn-WQr6",
        "outputId": "b5a41db2-0b6a-4e05-970d-9f1c9591a14b"
      },
      "source": [
        "# Estos histogramas me dan algo de info visual, pero no me dicen mucho de los valores extremos...\n",
        "import seaborn\n",
        "fig, axes = plt.subplots(nrows=2, figsize=(16, 8))\n",
        "seaborn.histplot(melb_df[\"price\"], bins=100, ax=axes[0], color='gray')\n",
        "axes[0].axvline(melb_df[\"price\"].mean(), color='orangered',\n",
        "            linestyle='--', label='Media')\n",
        "axes[0].axvline(melb_df[\"price\"].median(), color='indigo',\n",
        "            linestyle='-.', label='Mediana')\n",
        "\n",
        "melb_filtered_df = melb_df[melb_df[\"price\"] < 2.4e6]\n",
        "seaborn.histplot(melb_filtered_df[\"price\"], bins=100, ax=axes[1], color='gray')\n",
        "axes[1].axvline(melb_filtered_df[\"price\"].mean(), color='orangered',\n",
        "            linestyle='--', label='Media')\n",
        "axes[1].axvline(melb_filtered_df[\"price\"].median(), color='indigo',\n",
        "            linestyle='-.', label='Mediana')\n",
        "axes[0].legend()"
      ],
      "execution_count": 174,
      "outputs": [
        {
          "output_type": "execute_result",
          "data": {
            "text/plain": [
              "<matplotlib.legend.Legend at 0x7f511be9cb50>"
            ]
          },
          "metadata": {
            "tags": []
          },
          "execution_count": 174
        },
        {
          "output_type": "display_data",
          "data": {
            "image/png": "[encoded data removed]",
            "text/plain": [
              "<Figure size 1152x576 with 2 Axes>"
            ]
          },
          "metadata": {
            "tags": []
          }
        }
      ]
    },
    {
      "cell_type": "code",
      "metadata": {
        "colab": {
          "base_uri": "https://localhost:8080/",
          "height": 427
        },
        "id": "hMJGw-NJELHv",
        "outputId": "d77c8564-daae-4f8a-99b0-80152b7b042f"
      },
      "source": [
        "plt.figure(figsize=(12,6))\n",
        "seaborn.boxplot(x=melb_df[\"price\"])\n",
        "# Acá se ven un poquito mejor los outliers, en la cola de atrás. Hay que definir dónde cortamos, si es que cortamos"
      ],
      "execution_count": 175,
      "outputs": [
        {
          "output_type": "execute_result",
          "data": {
            "text/plain": [
              "<matplotlib.axes._subplots.AxesSubplot at 0x7f511c6cccd0>"
            ]
          },
          "metadata": {
            "tags": []
          },
          "execution_count": 175
        },
        {
          "output_type": "display_data",
          "data": {
            "image/png": "[encoded data removed]",
            "text/plain": [
              "<Figure size 864x432 with 1 Axes>"
            ]
          },
          "metadata": {
            "tags": []
          }
        }
      ]
    },
    {
      "cell_type": "code",
      "metadata": {
        "colab": {
          "base_uri": "https://localhost:8080/"
        },
        "id": "NeHfRiiXWQr7",
        "outputId": "352696f5-f31a-4e51-b334-2d6096bd7d5c"
      },
      "source": [
        "melb_df[melb_df.price > 4e6].value_counts()\n",
        "#Convengamos que son sólo unas 30 casas de valores super altos"
      ],
      "execution_count": 176,
      "outputs": [
        {
          "output_type": "execute_result",
          "data": {
            "text/plain": [
              "date        seller        method  type  region_name                 suburb        council_area  address           seller_cat  method_cat  type_cat  region_name_cat  council_area_cat  suburb_cat  postcode  lat        lng        distance  property_count  price      year_built  land_size  building_area  rooms  bedroom_2  bathroom  car\n",
              "2017-12-08  Marshall      S       h     Southern Metropolitan       Prahran       Stonnington   8 Linden Ct       135         1           0         5                27                233         3181      -37.85768  145.00254  4.6       7717            4200000.0  1930.0      787.0      275.0          4      4          2         2.0    1\n",
              "            Hodges        S       h     Southern Metropolitan       Malvern       Stonnington   20 Coonil Cr      94          1           0         5                27                184         3144      -37.86044  145.03350  5.9       4675            4050000.0  1915.0      787.0      282.0          4      4          3         2.0    1\n",
              "2016-04-23  Melbourne     S       h     Southern Metropolitan       Toorak        Stonnington   6 Leighton Ct     144         1           0         5                27                283         3142      -37.84480  145.01230  4.6       7217            4200000.0  2005.0      565.0      331.0          3      4          4         2.0    1\n",
              "2016-08-13  Jellis        S       h     Southern Metropolitan       Kew           Boroondara    15 Barry St       106         1           0         5                2                 170         3101      -37.80290  145.02670  5.6       10331           6500000.0  1890.0      1334.0     365.0          6      6          6         3.0    1\n",
              "2016-08-22  Marshall      PI      h     Southern Metropolitan       Malvern       Stonnington   3 Mary St         135         0           0         5                27                184         3144      -37.84690  145.03770  7.4       4675            4525000.0  1925.0      716.0      159.0          4      4          4         2.0    1\n",
              "2016-09-17  Marshall      PI      h     Southern Metropolitan       Hawthorn      Boroondara    2 Fordholm Rd     135         0           0         5                2                 147         3122      -37.82910  145.03080  4.6       11308           4250000.0  1930.0      1275.0     435.0          5      5          4         3.0    1\n",
              "                          S       h     Southern Metropolitan       Armadale      Stonnington   367 Dandenong Rd  135         1           0         5                27                11          3143      -37.86020  145.01300  6.3       4836            5525000.0  1935.0      1491.0     516.0          6      5          3         4.0    1\n",
              "2016-10-12  Abercromby's  S       h     Southern Metropolitan       St Kilda      Port Phillip  18 Crimea St      2           1           0         5                26                266         3182      -37.85890  144.98830  6.1       13240           5046000.0  1884.0      1294.0     378.0          5      5          3         3.0    1\n",
              "            Marshall      S       h     Southern Metropolitan       Malvern East  Stonnington   8 Ash Gr          135         1           0         5                27                185         3145      -37.87560  145.05610  11.2      8801            4802500.0  1919.0      837.0      267.0          5      5          2         4.0    1\n",
              "2016-10-15  Kay           S       h     Southern Metropolitan       Toorak        Stonnington   17 Albany Rd      111         1           0         5                27                283         3142      -37.84860  145.02440  4.6       7217            6250000.0  2000.0      564.0      342.0          3      3          3         2.0    1\n",
              "            RT            PI      h     Southern Metropolitan       Toorak        Stonnington   23 Canberra Rd    192         0           0         5                27                283         3142      -37.83490  145.01000  4.6       7217            4500000.0  1980.0      732.0      367.0          4      4          3         2.0    1\n",
              "2016-11-19  Kay           VB      h     Southern Metropolitan       Hawthorn      Boroondara    50 Kinkora Rd     111         4           0         5                2                 147         3122      -37.81680  145.03210  4.6       11308           5050000.0  1913.0      905.0      373.0          4      4          4         2.0    1\n",
              "            Marshall      S       h     Southern Metropolitan       Malvern       Stonnington   18 Soudan St      135         1           0         5                27                184         3144      -37.86530  145.03040  7.4       4675            4240000.0  1890.0      580.0      320.0          5      5          3         3.0    1\n",
              "                                                                    St Kilda      Port Phillip  10 Charlotte Pl   135         1           0         5                26                266         3182      -37.85820  144.99130  6.1       13240           4400000.0  1900.0      657.0      312.0          5      5          4         4.0    1\n",
              "2016-11-27  Kay           VB      h     Southern Metropolitan       Armadale      Stonnington   44 Hampden Rd     111         4           0         5                27                11          3143      -37.85820  145.01380  6.3       4836            4200000.0  2000.0      563.0      333.0          4      4          3         3.0    1\n",
              "            Nelson        S       h     Northern Metropolitan       Fitzroy       Yarra         17 Bell St        155         1           0         2                32                124         3065      -37.79990  144.97550  1.6       5825            4011000.0  1890.0      286.0      275.0          4      4          3         2.0    1\n",
              "2016-12-11  Caine         S       h     Southern Metropolitan       Kew           Boroondara    23 Grange Rd      37          1           0         5                2                 170         3101      -37.81120  145.05700  5.6       10331           4850000.0  1930.0      957.0      400.0          5      5          4         4.0    1\n",
              "            Castran       S       h     Southern Metropolitan       South Yarra   Stonnington   18 Avoca St       40          1           0         5                27                259         3141      -37.83770  144.98940  3.3       14887           5700000.0  1880.0      292.0      272.0          4      4          2         0.0    1\n",
              "2017-02-25  Marshall      S       h     Southern Metropolitan       Albert Park   Port Phillip  115 Page St       135         1           0         5                26                4           3206      -37.84770  144.95580  3.3       3280            4735000.0  1910.0      330.0      207.0          4      4          2         1.0    1\n",
              "2017-03-06  Marshall      PI      h     Southern Metropolitan       Middle Park   Port Phillip  204 Page St       135         0           0         5                26                195         3206      -37.85231  144.96373  3.0       2019            5600000.0  1915.0      472.0      328.0          6      6          4         2.0    1\n",
              "            RT            S       h     Southern Metropolitan       Hawthorn      Boroondara    17 Fairview St    192         1           0         5                2                 147         3122      -37.83031  145.02973  5.3       11308           5510000.0  1971.0      820.0      300.0          5      5          2         5.0    1\n",
              "2017-04-03  Marshall      S       h     Southern Metropolitan       Toorak        Stonnington   684 Orrong Rd     135         1           0         5                27                283         3142      -37.84470  145.01340  4.6       7217            5500000.0  1923.0      877.0      332.0          4      4          4         5.0    1\n",
              "2017-05-13  Marshall      S       h     Southern Metropolitan       Kew           Boroondara    8 Mawson St       135         1           0         5                2                 170         3101      -37.81470  145.05710  5.6       10331           4515000.0  2012.0      800.0      490.0          5      5          4         2.0    1\n",
              "            Sotheby's     VB      h     Southern Metropolitan       Canterbury    Boroondara    49 Mangarra Rd    219         4           0         5                2                 60          3126      -37.81790  145.06940  9.0       3265            8000000.0  1880.0      2079.0     464.3          5      5          5         4.0    1\n",
              "2017-05-27  Kay           S       h     Southern Metropolitan       Canterbury    Boroondara    42 Parlington St  111         1           0         5                2                 60          3126      -37.81792  145.06244  8.4       3265            4750000.0  1996.0      967.0      470.0          4      4          3         2.0    1\n",
              "2017-06-17  Abercromby's  S       h     Southern Metropolitan       Hawthorn      Boroondara    49 Lisson Gr      2           1           0         5                2                 147         3122      -37.82652  145.03052  5.3       11308           7650000.0  1863.0      1690.0     284.0          4      4          2         4.0    1\n",
              "2017-07-29  Hall          PI      h     South-Eastern Metropolitan  Mulgrave      Monash        35 Bevis St       88          0           0         4                20                208         3170      -37.93168  145.16126  18.8      7113            9000000.0  1960.0      744.0      117.0          3      3          1         1.0    1\n",
              "2017-08-04  Biggin        S       h     Southern Metropolitan       Brighton      Bayside       24 North Rd       23          1           0         5                1                 41          3186      -37.89810  144.99020  11.2      10579           4225000.0  1990.0      920.0      333.0          4      4          2         2.0    1\n",
              "2017-12-08  Buxton        PI      h     Southern Metropolitan       Brighton      Bayside       2A Collins St     32          0           0         5                1                 41          3186      -37.90904  144.99868  10.5      10579           4050000.0  2011.0      508.0      465.0          4      4          4         4.0    1\n",
              "2016-03-12  Marshall      VB      h     Southern Metropolitan       Toorak        Stonnington   10 Myoora Rd      135         4           0         5                27                283         3142      -37.84310  145.02100  4.6       7217            5500000.0  2000.0      691.0      374.0          4      4          3         2.0    1\n",
              "dtype: int64"
            ]
          },
          "metadata": {
            "tags": []
          },
          "execution_count": 176
        }
      ]
    },
    {
      "cell_type": "code",
      "metadata": {
        "colab": {
          "base_uri": "https://localhost:8080/"
        },
        "id": "I_LAvPtLZI_2",
        "outputId": "7be9925f-22cd-4064-af7b-614f4d90546e"
      },
      "source": [
        "melb_df[\"price\"].quantile([.95, .98, .99, .995, .998])"
      ],
      "execution_count": 177,
      "outputs": [
        {
          "output_type": "execute_result",
          "data": {
            "text/plain": [
              "0.950    2290050.0\n",
              "0.980    2865360.0\n",
              "0.990    3338150.0\n",
              "0.995    3900000.0\n",
              "0.998    4747630.0\n",
              "Name: price, dtype: float64"
            ]
          },
          "metadata": {
            "tags": []
          },
          "execution_count": 177
        }
      ]
    },
    {
      "cell_type": "code",
      "metadata": {
        "colab": {
          "base_uri": "https://localhost:8080/"
        },
        "id": "PKZ8LVYS5MbP",
        "outputId": "a11d4d8e-4160-47e0-f105-bc14cab98c5f"
      },
      "source": [
        "melb_df[melb_df.price > 2.29e6].value_counts()"
      ],
      "execution_count": 178,
      "outputs": [
        {
          "output_type": "execute_result",
          "data": {
            "text/plain": [
              "date        seller        method  type  region_name            suburb         council_area   address              seller_cat  method_cat  type_cat  region_name_cat  council_area_cat  suburb_cat  postcode  lat        lng        distance  property_count  price      year_built  land_size  building_area  rooms  bedroom_2  bathroom  car\n",
              "2017-12-08  RT            VB      h     Southern Metropolitan  Malvern East   Stonnington    641 Waverley Rd      192         4           0         5                27                185         3145      -37.87923  145.08955  8.4       8801            2500000.0  1950.0      1128.0     110.0          3      3          1         2.0    1\n",
              "2016-08-22  Marshall      S       h     Southern Metropolitan  Hawthorn East  Boroondara     91 Rathmines Rd      135         1           0         5                2                 148         3123      -37.82040  145.05160  7.5       6482            2350000.0  1900.0      556.0      220.0          4      4          2         2.0    1\n",
              "2016-08-28  Buxton        S       h     Southern Metropolitan  Bentleigh      Glen Eira      11 Wilson St         32          1           0         5                8                 29          3204      -37.91550  145.02430  13.0      6795            2620000.0  2012.0      579.0      361.0          4      4          4         2.0    1\n",
              "            Fletchers     S       h     Southern Metropolitan  Camberwell     Boroondara     20 Kirkwood Dr       73          1           0         5                2                 58          3124      -37.84210  145.07190  7.8       8920            2740000.0  2005.0      643.0      363.0          5      4          2         2.0    1\n",
              "            Kay           VB      h     Southern Metropolitan  Kew            Boroondara     31 Argyle Rd         111         4           0         5                2                 170         3101      -37.80330  145.05260  5.6       10331           2600000.0  1992.0      700.0      700.0          4      4          3         2.0    1\n",
              "                                                                                                                                                                                                                                                                                                                                                ..\n",
              "2017-02-25  Marshall      S       h     Southern Metropolitan  Malvern        Stonnington    3/197 Wattletree Rd  135         1           0         5                27                184         3144      -37.86310  145.03530  7.4       4675            2325000.0  2006.0      501.0      233.0          5      5          3         2.0    1\n",
              "                                                                                             50 Hunter St         135         1           0         5                27                184         3144      -37.86800  145.03800  7.4       4675            3470000.0  1915.0      585.0      248.0          4      4          3         2.0    1\n",
              "            McDonald      S       h     Western Metropolitan   Essendon       Moonee Valley  18 Lorraine St       139         1           0         6                21                118         3040      -37.75820  144.91280  8.0       9264            2355000.0  1920.0      715.0      273.0          4      4          2         3.0    1\n",
              "2017-03-06  Barry         SP      h     Eastern Metropolitan   Doncaster      Manningham     33 Clay Dr           16          3           0         0                15                103         3108      -37.79094  145.12733  12.4      9028            2600000.0  1960.0      1072.0     328.0          4      4          4         2.0    1\n",
              "2016-03-09  Abercromby's  PI      h     Southern Metropolitan  Glen Iris      Stonnington    2 Vincent St         2           0           0         5                27                136         3146      -37.86370  145.04380  9.2       10412           3730000.0  1925.0      919.0      353.0          5      4          3         2.0    1\n",
              "Length: 334, dtype: int64"
            ]
          },
          "metadata": {
            "tags": []
          },
          "execution_count": 178
        }
      ]
    },
    {
      "cell_type": "code",
      "metadata": {
        "colab": {
          "base_uri": "https://localhost:8080/",
          "height": 481
        },
        "id": "OJNipvcJa7K9",
        "outputId": "2525ff99-a3b4-4c09-cb22-6aea39d21a98"
      },
      "source": [
        "#El percentil .995 que me deja afuera los valores de venta de 3.9 millones para arriba\n",
        "plt.figure(figsize=(11,7))\n",
        "max_limit = melb_df[\"price\"].quantile(.995)\n",
        "seaborn.boxplot(x = melb_df[melb_df[\"price\"] < max_limit][\"price\"])\n",
        "#Sigue quedando una colita de valores fuera del quartil 3.... "
      ],
      "execution_count": 179,
      "outputs": [
        {
          "output_type": "execute_result",
          "data": {
            "text/plain": [
              "<matplotlib.axes._subplots.AxesSubplot at 0x7f511bcf42d0>"
            ]
          },
          "metadata": {
            "tags": []
          },
          "execution_count": 179
        },
        {
          "output_type": "display_data",
          "data": {
            "image/png": "[encoded data removed]",
            "text/plain": [
              "<Figure size 792x504 with 1 Axes>"
            ]
          },
          "metadata": {
            "tags": []
          }
        }
      ]
    },
    {
      "cell_type": "code",
      "metadata": {
        "colab": {
          "base_uri": "https://localhost:8080/",
          "height": 481
        },
        "id": "vOkIRXcX5c_o",
        "outputId": "775b69e2-cb14-450d-98fc-1a1050c69c34"
      },
      "source": [
        "plt.figure(figsize=(11,7))\n",
        "max_limit2 = melb_df.price.quantile(.95)\n",
        "seaborn.boxplot(x = melb_df[melb_df[\"price\"] < max_limit2][\"price\"])"
      ],
      "execution_count": 180,
      "outputs": [
        {
          "output_type": "execute_result",
          "data": {
            "text/plain": [
              "<matplotlib.axes._subplots.AxesSubplot at 0x7f511bc94f90>"
            ]
          },
          "metadata": {
            "tags": []
          },
          "execution_count": 180
        },
        {
          "output_type": "display_data",
          "data": {
            "image/png": "[encoded data removed]",
            "text/plain": [
              "<Figure size 792x504 with 1 Axes>"
            ]
          },
          "metadata": {
            "tags": []
          }
        }
      ]
    },
    {
      "cell_type": "code",
      "metadata": {
        "id": "qzEc0x-boCWP"
      },
      "source": [
        "# Esta es la decisión más conservadora, podemos cambiarla\n",
        "\n",
        "melb_df = melb_df[melb_df.price < 3900000]"
      ],
      "execution_count": 181,
      "outputs": []
    },
    {
      "cell_type": "code",
      "metadata": {
        "colab": {
          "base_uri": "https://localhost:8080/"
        },
        "id": "JsLwbbfin24E",
        "outputId": "94c17238-c3a4-44ac-c61e-5dc587bbf08b"
      },
      "source": [
        "melb_df.price.quantile([.005, .01, .025, .05])"
      ],
      "execution_count": 182,
      "outputs": [
        {
          "output_type": "execute_result",
          "data": {
            "text/plain": [
              "0.005    270000.0\n",
              "0.010    300000.0\n",
              "0.025    350000.0\n",
              "0.050    405000.0\n",
              "Name: price, dtype: float64"
            ]
          },
          "metadata": {
            "tags": []
          },
          "execution_count": 182
        }
      ]
    },
    {
      "cell_type": "code",
      "metadata": {
        "colab": {
          "base_uri": "https://localhost:8080/"
        },
        "id": "R4bpiiqug5JW",
        "outputId": "2d16236f-ee78-4fe0-dce3-ab1ea92c900f"
      },
      "source": [
        "#PRECIOS MUY BAJOS\n",
        "\n",
        "melb_df[melb_df.price < 270000].value_counts()\n",
        "# Creo que sacaría todos los casos PI, que significa que no se llegó al precio mínimo que quería el vendedor y se vendió a un precio menor\n",
        "# Aunque no estoy segura... "
      ],
      "execution_count": 183,
      "outputs": [
        {
          "output_type": "execute_result",
          "data": {
            "text/plain": [
              "date        seller         method  type  region_name            suburb          council_area   address               seller_cat  method_cat  type_cat  region_name_cat  council_area_cat  suburb_cat  postcode  lat        lng        distance  property_count  price     year_built  land_size  building_area  rooms  bedroom_2  bathroom  car\n",
              "2017-12-08  Brad           S       u     Northern Metropolitan  Pascoe Vale     Moreland       4/566 Pascoe Vale Rd  28          1           2         2                23                229         3044      -37.72370  144.92232  8.5       7485            257500.0  1970.0      995.0      35.0           1      1          1         1.0    1\n",
              "2016-10-09  hockingstuart  PI      u     Southern Metropolitan  Carnegie        Glen Eira      12/66 Woornack Rd     260         0           2         5                8                 63          3163      -37.89820  145.06250  11.4      7822            250000.0  1960.0      0.0        34.0           1      1          1         1.0    1\n",
              "2016-04-02  Sweeney        S       u     Western Metropolitan   Footscray       Maribyrnong    2/3 Eldridge St       222         1           2         6                16                127         3011      -37.79070  144.89240  6.4       7570            216000.0  1970.0      0.0        50.0           1      1          1         1.0    1\n",
              "2016-04-06  Jellis         PI      h     Northern Metropolitan  Coburg          Moreland       171 Moreland Rd       106         0           0         2                23                80          3058      -37.75550  144.96580  7.8       11204           145000.0  1910.0      536.0      164.0          4      3          1         1.0    1\n",
              "2016-06-18  Gary           S       u     Southern Metropolitan  Murrumbeena     Glen Eira      14/24 Rosella St      82          1           2         5                8                 209         3163      -37.89440  145.07330  12.1      4442            256500.0  1966.0      0.0        37.0           1      1          1         1.0    1\n",
              "2016-06-27  Brad           VB      u     Western Metropolitan   Essendon        Moonee Valley  8/15 Shaftesbury St   28          4           2         6                21                118         3040      -37.75230  144.92210  8.0       9264            250000.0  1970.0      0.0        125.0          1      1          1         1.0    1\n",
              "2016-07-05  Walshe         PI      u     Northern Metropolitan  Brunswick West  Moreland       1/455 Albion St       243         0           2         2                23                48          3055      -37.75860  144.94520  5.9       7082            265000.0  2000.0      0.0        42.0           1      1          1         1.0    1\n",
              "            hockingstuart  PI      h     Northern Metropolitan  Reservoir       Darebin        1/40 Godley St        260         0           0         2                6                 236         3073      -37.70250  144.98870  11.2      21650           260000.0  2000.0      141.0      80.0           1      1          1         1.0    1\n",
              "2016-07-30  Greg           VB      u     Western Metropolitan   Kingsville      Maribyrnong    2/35 Kingsville St    85          4           2         6                16                176         3012      -37.80890  144.87880  7.8       1808            200000.0  1960.0      0.0        38.0           1      1          1         1.0    1\n",
              "            Ray            VB      u     Southern Metropolitan  Moorabbin       Kingston       1/23 Genoa St         196         4           2         5                12                203         3189      -37.94280  145.05840  14.6      2555            240000.0  1970.0      0.0        43.0           1      1          1         1.0    1\n",
              "2016-08-22  hockingstuart  S       u     Western Metropolitan   Albion          Brimbank       10/117 Anderson Rd    260         1           2         6                3                 5           3020      -37.78520  144.82720  13.9      2185            185000.0  1975.0      2347.0     43.0           1      1          1         1.0    1\n",
              "2016-08-28  Brad           S       u     Northern Metropolitan  Pascoe Vale     Moreland       4/305 Cumberland Rd   28          1           2         2                23                229         3044      -37.71520  144.94020  9.9       7485            248500.0  1970.0      49.0       49.0           1      1          1         1.0    1\n",
              "            Nelson         S       u     Northern Metropolitan  Coburg          Moreland       10/23 Baxter St       155         1           2         2                23                80          3058      -37.74630  144.96350  7.8       11204           241000.0  1976.0      0.0        62.0           1      1          1         1.0    1\n",
              "2016-09-24  Brad           S       u     Northern Metropolitan  Reservoir       Darebin        1/164 Leamington St   28          1           2         2                6                 236         3073      -37.71110  144.99190  11.2      21650           216000.0  1970.0      0.0        45.0           1      2          1         1.0    1\n",
              "                                                                                               2/164 Leamington St   28          1           2         2                6                 236         3073      -37.71110  144.99190  11.2      21650           220000.0  1970.0      0.0        45.0           1      1          1         1.0    1\n",
              "2016-11-19  Brad           VB      u     Western Metropolitan   Moonee Ponds    Moonee Valley  16/51 Buckley St      28          4           2         6                21                202         3039      -37.75800  144.92370  6.9       6232            265000.0  1970.0      0.0        41.0           1      1          1         1.0    1\n",
              "2017-12-08  Brad           S       u     Northern Metropolitan  Pascoe Vale     Moreland       2/566 Pascoe Vale Rd  28          1           2         2                23                229         3044      -37.72370  144.92232  8.5       7485            257500.0  1970.0      0.0        35.0           1      1          1         1.0    1\n",
              "2016-12-11  Barry          SP      u     Northern Metropolitan  Glenroy         Moreland       9/11 Currajong St     16          3           2         2                23                138         3046      -37.71100  144.91780  13.0      8870            250000.0  1970.0      0.0        61.0           2      2          1         1.0    1\n",
              "2017-01-07  Burnham        PI      u     Western Metropolitan   Footscray       Maribyrnong    10/30 Pickett St      31          0           2         6                16                127         3011      -37.80141  144.89587  5.1       7570            170000.0  2013.0      30.0       26.0           1      1          1         0.0    1\n",
              "2017-02-25  McDonald       PI      u     Northern Metropolitan  Brunswick West  Moreland       10/446 Albion St      139         0           2         2                23                48          3055      -37.75860  144.94330  5.9       7082            252000.0  1970.0      0.0        45.0           1      1          1         1.0    1\n",
              "            Rodney         PI      h     Southern Metropolitan  Caulfield       Glen Eira      30 Pyne St            207         0           0         5                8                 67          3162      -37.88640  145.02420  8.9       2379            131000.0  1920.0      499.0      155.0          4      4          1         2.0    1\n",
              "2017-03-18  Jas            S       u     Western Metropolitan   Kingsville      Maribyrnong    2/57 Kingsville St    104         1           2         6                16                176         3012      -37.81000  144.87860  7.8       1808            210000.0  1970.0      0.0        36.0           1      1          1         1.0    1\n",
              "2017-04-03  Sweeney        S       u     Western Metropolitan   Footscray       Maribyrnong    1/3 Eldridge St       222         1           2         6                16                127         3011      -37.79070  144.89240  6.4       7570            227000.0  1970.0      0.0        52.0           1      1          1         1.0    1\n",
              "2017-05-13  Woodards       SP      u     Southern Metropolitan  Glen Huntly     Glen Eira      8/131 Grange Rd       255         3           2         5                8                 135         3163      -37.89110  145.04510  10.4      2403            260000.0  1965.0      1162.0     44.0           1      1          1         1.0    1\n",
              "2017-05-20  FN             VB      u     Western Metropolitan   Albion          Brimbank       1/121 Anderson Rd     71          4           2         6                3                 5           3020      -37.78490  144.82720  13.9      2185            200000.0  1970.0      1175.0     35.0           1      1          1         1.0    1\n",
              "            Sweeney        S       u     Western Metropolitan   West Footscray  Maribyrnong    4/38 Hampton Pde      222         1           2         6                16                299         3012      -37.80620  144.86650  8.2       5058            266000.0  1970.0      1059.0     65.0           2      2          1         1.0    1\n",
              "2017-06-17  Barry          S       u     Western Metropolitan   Moonee Ponds    Moonee Valley  7/110 Maribyrnong Rd  16          1           2         6                21                202         3039      -37.77154  144.91597  6.2       6232            222000.0  2012.0      0.0        29.0           1      1          1         0.0    1\n",
              "            Trimson        SA      u     Western Metropolitan   Footscray       Maribyrnong    9/3 Gordon St         230         2           2         6                16                127         3011      -37.78778  144.89037  5.1       7570            240000.0  1970.0      1015.0     46.0           1      1          1         1.0    1\n",
              "2017-07-22  hockingstuart  PI      u     Northern Metropolitan  Preston         Darebin        5/49 Austral Av       260         0           2         2                6                 234         3072      -37.74495  144.99322  8.4       14577           250000.0  1965.0      631.0      34.0           1      1          1         1.0    1\n",
              "2017-08-07  Woodards       PI      u     Southern Metropolitan  Glen Iris       Stonnington    13/11 Belmont Av      255         0           2         5                27                136         3146      -37.85740  145.04795  7.3       10412           260000.0  1950.0      0.0        38.0           1      1          1         1.0    1\n",
              "2016-04-02  Ray            VB      u     Southern Metropolitan  Ormond          Glen Eira      7/30 Walsh St         196         4           2         5                8                 225         3204      -37.90280  145.04750  11.8      3578            250000.0  1960.0      0.0        36.0           1      1          1         1.0    1\n",
              "dtype: int64"
            ]
          },
          "metadata": {
            "tags": []
          },
          "execution_count": 183
        }
      ]
    },
    {
      "cell_type": "code",
      "metadata": {
        "id": "dekPXdBHmF7i"
      },
      "source": [
        "# Mmmmm.... esto nose si está bien.... si me está sacando TODAS las casas por debajo de ese valor y TODAS las PI o combina ambas cosas\n",
        "\n",
        "# melb_df = (melb_df.price > 270000) & (melb_df.method != \"PI\")"
      ],
      "execution_count": 165,
      "outputs": []
    },
    {
      "cell_type": "code",
      "metadata": {
        "colab": {
          "base_uri": "https://localhost:8080/",
          "height": 481
        },
        "id": "A4l8Eq15dTNS",
        "outputId": "298be71a-0164-4afa-ae2e-2b946d3d4db9"
      },
      "source": [
        "# YEAR BUILT\n",
        "# Removí dos casas que hacían ruido en los datos, sobre todo esa del año 1200.... \n",
        "# pinta a que no es real o es algo muy antiguo y valiosos (porque se vendió en 1.2 millones)\n",
        "# la de 1830 estoy en duda, parece algo real. Tiene mucho terreno y podría ser algo así como una estancia. \n",
        "# Si la sacamos el boxplot queda hermoso, pero si la dejamos quedarían dos puntitos a la izquierda.... \n",
        "plt.figure(figsize=(11,7))\n",
        "seaborn.boxplot(x = melb_df.year_built)"
      ],
      "execution_count": 184,
      "outputs": [
        {
          "output_type": "execute_result",
          "data": {
            "text/plain": [
              "<matplotlib.axes._subplots.AxesSubplot at 0x7f511bbec290>"
            ]
          },
          "metadata": {
            "tags": []
          },
          "execution_count": 184
        },
        {
          "output_type": "display_data",
          "data": {
            "image/png": "[encoded data removed]",
            "text/plain": [
              "<Figure size 792x504 with 1 Axes>"
            ]
          },
          "metadata": {
            "tags": []
          }
        }
      ]
    },
    {
      "cell_type": "code",
      "metadata": {
        "colab": {
          "base_uri": "https://localhost:8080/"
        },
        "id": "2i8pLvtAp6Nb",
        "outputId": "4f36042a-984a-47e5-fd49-0019e6028563"
      },
      "source": [
        "melb_df[melb_df.year_built < 1850].value_counts()"
      ],
      "execution_count": 185,
      "outputs": [
        {
          "output_type": "execute_result",
          "data": {
            "text/plain": [
              "date        seller   method  type  region_name            suburb          council_area  address         seller_cat  method_cat  type_cat  region_name_cat  council_area_cat  suburb_cat  postcode  lat        lng        distance  property_count  price      year_built  land_size  building_area  rooms  bedroom_2  bathroom  car\n",
              "2017-06-24  McGrath  VB      h     Eastern Metropolitan   Mount Waverley  Monash        5 Armstrong St  140         4           0         0                20                207         3149      -37.86788  145.12121  14.2      13366           1200000.0  1196.0      807.0      117.0          3      3          1         4.0    1\n",
              "2016-03-09  Nelson   S       u     Northern Metropolitan  Collingwood     Yarra         2/79 Oxford St  155         1           2         2                32                82          3066      -37.80420  144.98450  1.6       4553            855000.0   1830.0      2886.0     122.0          2      2          1         1.0    1\n",
              "dtype: int64"
            ]
          },
          "metadata": {
            "tags": []
          },
          "execution_count": 185
        }
      ]
    },
    {
      "cell_type": "code",
      "metadata": {
        "colab": {
          "base_uri": "https://localhost:8080/",
          "height": 481
        },
        "id": "Dq0dzbqsuRXW",
        "outputId": "8ea72ea2-c771-45af-e28e-c8b01a20f970"
      },
      "source": [
        "plt.figure(figsize=(11,7))\n",
        "seaborn.boxplot(x = melb_df[melb_df[\"year_built\"] > 1850][\"year_built\"])"
      ],
      "execution_count": 186,
      "outputs": [
        {
          "output_type": "execute_result",
          "data": {
            "text/plain": [
              "<matplotlib.axes._subplots.AxesSubplot at 0x7f511bb63890>"
            ]
          },
          "metadata": {
            "tags": []
          },
          "execution_count": 186
        },
        {
          "output_type": "display_data",
          "data": {
            "image/png": "[encoded data removed]",
            "text/plain": [
              "<Figure size 792x504 with 1 Axes>"
            ]
          },
          "metadata": {
            "tags": []
          }
        }
      ]
    },
    {
      "cell_type": "code",
      "metadata": {
        "colab": {
          "base_uri": "https://localhost:8080/",
          "height": 481
        },
        "id": "9iMJr7ym-Fwr",
        "outputId": "b61bf653-3b2b-4bf7-9f03-5a8c8ab00185"
      },
      "source": [
        "plt.figure(figsize=(11,7))\n",
        "seaborn.boxplot(x = melb_df[melb_df[\"year_built\"] > 1820][\"year_built\"])"
      ],
      "execution_count": 187,
      "outputs": [
        {
          "output_type": "execute_result",
          "data": {
            "text/plain": [
              "<matplotlib.axes._subplots.AxesSubplot at 0x7f511bb8ca50>"
            ]
          },
          "metadata": {
            "tags": []
          },
          "execution_count": 187
        },
        {
          "output_type": "display_data",
          "data": {
            "image/png": "[encoded data removed]",
            "text/plain": [
              "<Figure size 792x504 with 1 Axes>"
            ]
          },
          "metadata": {
            "tags": []
          }
        }
      ]
    },
    {
      "cell_type": "code",
      "metadata": {
        "colab": {
          "base_uri": "https://localhost:8080/"
        },
        "id": "6Ss6CJ7QvkFA",
        "outputId": "4b2c1ea2-a9aa-4924-86bc-254d02156181"
      },
      "source": [
        "# LAND SIZE y BUILDING AREA\n",
        "# Yo acá haría una relación entre los dos valores. Me parece que los datos que no nos van a servir van a ser aquellos que:\n",
        "# tengan un land size mucho más chico que el building area.\n",
        "# Removería todos las filas que tengan NAN o NULL en ambas variables, excepto que podamos imputar la building area con cantidad de rooms y bathrooms\n",
        "# El land size es imposible de imputar, por lo que vería de eliminar las filas sin ese valor (el tamaño del terreno es super importante para el precio)\n",
        "\n",
        "melb_df[\"proporcion_ls_ba\"] = melb_df[\"land_size\"] / melb_df[\"building_area\"]\n",
        "melb_df[\"casa_terreno_proporcional\"] = melb_df[\"proporcion_ls_ba\"] >= 0.5 #En caso de que tuviéramos una casa de dos pisos sin nada de patio\n",
        "melb_df.casa_terreno_proporcional.value_counts()\n"
      ],
      "execution_count": 188,
      "outputs": [
        {
          "output_type": "execute_result",
          "data": {
            "text/plain": [
              "False    7508\n",
              "True     6002\n",
              "Name: casa_terreno_proporcional, dtype: int64"
            ]
          },
          "metadata": {
            "tags": []
          },
          "execution_count": 188
        }
      ]
    },
    {
      "cell_type": "code",
      "metadata": {
        "colab": {
          "base_uri": "https://localhost:8080/",
          "height": 481
        },
        "id": "rZ8xt6SnkrqD",
        "outputId": "bcaa04e1-1add-4207-adcb-fcd79683eb12"
      },
      "source": [
        "# LAND SIZE\n",
        "plt.figure(figsize=(11,7))\n",
        "seaborn.boxplot(x = melb_df.land_size)"
      ],
      "execution_count": 189,
      "outputs": [
        {
          "output_type": "execute_result",
          "data": {
            "text/plain": [
              "<matplotlib.axes._subplots.AxesSubplot at 0x7f511baa3650>"
            ]
          },
          "metadata": {
            "tags": []
          },
          "execution_count": 189
        },
        {
          "output_type": "display_data",
          "data": {
            "image/png": "[encoded data removed]",
            "text/plain": [
              "<Figure size 792x504 with 1 Axes>"
            ]
          },
          "metadata": {
            "tags": []
          }
        }
      ]
    },
    {
      "cell_type": "code",
      "metadata": {
        "colab": {
          "base_uri": "https://localhost:8080/"
        },
        "id": "2-Mltyu7lDGY",
        "outputId": "a6af7bce-0412-4d2e-c863-01117a1a03ac"
      },
      "source": [
        "melb_df.land_size.quantile([.95, .98, .995, .998])"
      ],
      "execution_count": 192,
      "outputs": [
        {
          "output_type": "execute_result",
          "data": {
            "text/plain": [
              "0.950     990.000\n",
              "0.980    1773.740\n",
              "0.995    4698.110\n",
              "0.998    9403.794\n",
              "Name: land_size, dtype: float64"
            ]
          },
          "metadata": {
            "tags": []
          },
          "execution_count": 192
        }
      ]
    },
    {
      "cell_type": "code",
      "metadata": {
        "colab": {
          "base_uri": "https://localhost:8080/",
          "height": 481
        },
        "id": "gicwk3hEtF6O",
        "outputId": "e97512f3-ad50-4819-a610-777ce07c427f"
      },
      "source": [
        "plt.figure(figsize=(11,7))\n",
        "seaborn.boxplot(x = melb_df[melb_df[\"land_size\"] < 990][\"land_size\"])"
      ],
      "execution_count": 193,
      "outputs": [
        {
          "output_type": "execute_result",
          "data": {
            "text/plain": [
              "<matplotlib.axes._subplots.AxesSubplot at 0x7f511bab2750>"
            ]
          },
          "metadata": {
            "tags": []
          },
          "execution_count": 193
        },
        {
          "output_type": "display_data",
          "data": {
            "image/png": "[encoded data removed]",
            "text/plain": [
              "<Figure size 792x504 with 1 Axes>"
            ]
          },
          "metadata": {
            "tags": []
          }
        }
      ]
    },
    {
      "cell_type": "code",
      "metadata": {
        "colab": {
          "base_uri": "https://localhost:8080/",
          "height": 481
        },
        "id": "M0BxZl-4tuQX",
        "outputId": "db55f760-51a9-488e-fa9c-0e5bf69a79ed"
      },
      "source": [
        "# BUILDING AREA\n",
        "plt.figure(figsize=(11,7))\n",
        "seaborn.boxplot(x = melb_df.building_area)"
      ],
      "execution_count": 194,
      "outputs": [
        {
          "output_type": "execute_result",
          "data": {
            "text/plain": [
              "<matplotlib.axes._subplots.AxesSubplot at 0x7f511b9f56d0>"
            ]
          },
          "metadata": {
            "tags": []
          },
          "execution_count": 194
        },
        {
          "output_type": "display_data",
          "data": {
            "image/png": "[encoded data removed]",
            "text/plain": [
              "<Figure size 792x504 with 1 Axes>"
            ]
          },
          "metadata": {
            "tags": []
          }
        }
      ]
    },
    {
      "cell_type": "code",
      "metadata": {
        "colab": {
          "base_uri": "https://localhost:8080/"
        },
        "id": "GGQ7oBQUt5iG",
        "outputId": "6917aee3-0c2d-441d-cb57-3832a692bcdd"
      },
      "source": [
        "melb_df.building_area.quantile([.95, .98, .995, .998])"
      ],
      "execution_count": 195,
      "outputs": [
        {
          "output_type": "execute_result",
          "data": {
            "text/plain": [
              "0.950    287.00\n",
              "0.980    361.30\n",
              "0.995    580.75\n",
              "0.998    733.28\n",
              "Name: building_area, dtype: float64"
            ]
          },
          "metadata": {
            "tags": []
          },
          "execution_count": 195
        }
      ]
    },
    {
      "cell_type": "code",
      "metadata": {
        "colab": {
          "base_uri": "https://localhost:8080/",
          "height": 481
        },
        "id": "5KKUPRgauFZ4",
        "outputId": "d4985f23-86fc-40fd-fcf3-90331ca37556"
      },
      "source": [
        "plt.figure(figsize=(11,7))\n",
        "seaborn.boxplot(x = melb_df[melb_df[\"building_area\"] < 361][\"building_area\"])"
      ],
      "execution_count": 196,
      "outputs": [
        {
          "output_type": "execute_result",
          "data": {
            "text/plain": [
              "<matplotlib.axes._subplots.AxesSubplot at 0x7f511b95e610>"
            ]
          },
          "metadata": {
            "tags": []
          },
          "execution_count": 196
        },
        {
          "output_type": "display_data",
          "data": {
            "image/png": "[encoded data removed]",
            "text/plain": [
              "<Figure size 792x504 with 1 Axes>"
            ]
          },
          "metadata": {
            "tags": []
          }
        }
      ]
    },
    {
      "cell_type": "markdown",
      "metadata": {
        "id": "_KKHeAa2WQr7"
      },
      "source": [
        "2. Investigar la distribución de las variables del conjunto de datos y seleccionar un subconjunto de columnas que les parezcan relevantes al problema de predicción del valor de la propiedad.\n",
        "    1. Justificar cada columna no seleccionada.\n",
        "    2. Para las variables categóricas seleccionadas, agrupe o combine las categorías poco frecuentes para asegurar que todos los grupos tengan un número mínimo de registros."
      ]
    },
    {
      "cell_type": "code",
      "metadata": {
        "id": "qTpFWdOSWQr8"
      },
      "source": [
        "# Matriz de correlation de las variables numericas\n",
        "corr = melb_df.corr()\n",
        "\n",
        "# Generate a mask for the upper triangle\n",
        "mask = np.triu(np.ones_like(corr, dtype=bool))\n",
        "\n",
        "fig, ax = plt.subplots(figsize=(12, 9))\n",
        "\n",
        "cmap = sns.diverging_palette(230, 20, as_cmap=True)\n",
        "sns.heatmap(corr, mask=mask, cmap=cmap, vmax=.3, center=0,\n",
        "            square=True, linewidths=.5, cbar_kws={\"shrink\": .5})\n",
        "ax.tick_params(labelsize = 14)"
      ],
      "execution_count": null,
      "outputs": []
    },
    {
      "cell_type": "code",
      "metadata": {
        "id": "HcQgqtWtWQr8"
      },
      "source": [
        "# Un postcode puede ser de varios suburbuios. En cambio, cada suburbio tiene uno y solo un postcode.\n",
        "# Nos quedamos con los postcode que son más especificos\n",
        "melb_df.groupby(\"suburb\")[\"postcode\"].nunique().max(), melb_df.groupby(\"postcode\")[\"suburb\"].nunique().max()"
      ],
      "execution_count": null,
      "outputs": []
    },
    {
      "cell_type": "code",
      "metadata": {
        "id": "otN8k3h4tgMz"
      },
      "source": [
        "# Hay 268 vendedores/inmobiliarias en todo el DataSet. De estos 268, el 66% tiene muy pocas ventas, y el 30% sólamente 1 venta\n",
        "vendedores = len(melb_df.seller.unique())\n",
        "vendedores_con_pocas_ventas = sum(melb_df.groupby('seller')['seller'].count() < 2)\n",
        "print('Vendedores:', vendedores, '\\nPorcentaje con n menor a 1:', f'{vendedores_con_pocas_ventas*100/vendedores:.2f}%')\n",
        "vendedores_con_pocas_ventas = sum(melb_df.groupby('seller')['seller'].count() < 10)\n",
        "print('Porcentaje con n menor a 10:', f'{vendedores_con_pocas_ventas*100/vendedores:.2f}%')"
      ],
      "execution_count": null,
      "outputs": []
    },
    {
      "cell_type": "code",
      "metadata": {
        "id": "IIwn53ErWQr9"
      },
      "source": [
        "drop_cols = [\n",
        "    \"date\", # esos años tuvieron solo 2% de inflación por lo que no cambia el precio \n",
        "    #Se debe tener en cuenta que el dataset está concentrado en pocos vendedores con muchas ventas\n",
        "    #, y el 66% de los vendedores tiene muy pocas ventas como para analizar\n",
        "    \"seller\", # Por esto, no nos interesa analizar la influencia de una inmobiliaria en el precio. \n",
        "    \"seller_cat\", #va de la mano con seller\n",
        "    \"method\", #Tampoco analizaremos la influencia (si existe) del método de venta en el precio final del inmueble\n",
        "    \"method_cat\", #va de la mano con method\n",
        "    \n",
        "    #Consideramos que el precio de un inmueble depende mucho de su ubicación \n",
        "    #(existe una frase americana que indica, los 3 factores que más influencian son: Location, Location, Location\n",
        "    #Debido a esto, utilizaremos el indicador más preciso posible respecto a la zona de ubicación del inmueble\n",
        "    #En este dataset, el agrupador por zona más preciso es suburb. Por eso, dropearemos las demás columnas que dan info geográfica: \n",
        "    \"region_name\", \n",
        "    \"region_name_cat\", \n",
        "    \"council_area\", \n",
        "    \"council_area_cat\",\n",
        "    \"postcode\",\n",
        "    \"address\",\n",
        "    \"property_count\", # Esto depende del suburb y la info queda repetida\n",
        "    \"bedroom_2\", # Coincide en más de un 90% con la col \"rooms\" y el segundo viene de un scraper\n",
        "]\n",
        "\n",
        "cols = [c for c in melb_df.columns if c not in drop_cols]\n",
        "melb_df = melb_df[cols]\n",
        "melb_df.head()"
      ],
      "execution_count": null,
      "outputs": []
    },
    {
      "cell_type": "code",
      "metadata": {
        "id": "o-ORFHMLWQr9"
      },
      "source": [
        "melb_df.groupby(\"type\")[\"type\"].count()"
      ],
      "execution_count": null,
      "outputs": []
    },
    {
      "cell_type": "code",
      "metadata": {
        "id": "6z55Z90FWQr-"
      },
      "source": [
        "melb_df.groupby(\"suburb\")[\"suburb\"].count().sort_values()"
      ],
      "execution_count": null,
      "outputs": []
    },
    {
      "cell_type": "markdown",
      "metadata": {
        "id": "rcR_Kd0DWQr-"
      },
      "source": [
        "`type` tiene una \"buena\" cantidad por categoria, pero `suburb` no. Vamos a tener que agrupar"
      ]
    },
    {
      "cell_type": "code",
      "metadata": {
        "id": "FmDZDPi_p7Oa"
      },
      "source": [
        "#Se crea una nueva columna en la que se agruparán los suburbios con bajo \"n\"\n",
        "melb_df['suburb_grouped'] = melb_df.suburb"
      ],
      "execution_count": null,
      "outputs": []
    },
    {
      "cell_type": "code",
      "metadata": {
        "id": "KQ5nk28Qd6gM"
      },
      "source": [
        "min_points_per_suburb = 3 #DEFINE LA MÍNIMA CANTIDAD QUE ACEPTAMOS POR SUBURBIO\n",
        "suburb_to_group = melb_df.groupby(\"suburb_grouped\")[\"suburb\"].count().sort_values().reset_index().suburb_grouped[0] \n",
        "current_count = melb_df.groupby(\"suburb_grouped\")[\"suburb\"].count().sort_values().reset_index().suburb[0]\n",
        "\n",
        "def nearest_suburb(lat_to_group, lng_to_group, original_suburb, df):\n",
        "  df2 = df[df['suburb_grouped'] != original_suburb].copy()\n",
        "  df2['dist'] = df2.apply(lambda row: haversine_np(lat_to_group, lng_to_group, row.lat, row.lng), axis=1)\n",
        "  nearest_suburb = df2.sort_values('dist', ascending=True).suburb_grouped.values[0]\n",
        "  del df2\n",
        "  return nearest_suburb\n",
        "\n",
        "while current_count < min_points_per_suburb:\n",
        "  lat_to_group = melb_df[melb_df.suburb_grouped == suburb_to_group].lat.values[0]\n",
        "  lng_to_group = melb_df[melb_df.suburb_grouped == suburb_to_group].lng.values[0]\n",
        "  destiny_suburb = nearest_suburb(lat_to_group, lng_to_group, suburb_to_group, melb_df)\n",
        "  melb_df['suburb_grouped'].replace({suburb_to_group:destiny_suburb}, inplace=True)\n",
        "  print(suburb_to_group, '-->', destiny_suburb)\n",
        "  suburb_to_group = melb_df.groupby(\"suburb_grouped\")[\"suburb\"].count().sort_values().reset_index().suburb_grouped[0] \n",
        "  current_count = melb_df.groupby(\"suburb_grouped\")[\"suburb\"].count().sort_values().reset_index().suburb[0]\n",
        "  \n",
        "melb_df.groupby(\"suburb_grouped\")[\"suburb_grouped\"].count().sort_values()\n"
      ],
      "execution_count": null,
      "outputs": []
    },
    {
      "cell_type": "markdown",
      "metadata": {
        "id": "Rvtd1sG7WQr-"
      },
      "source": [
        "3. Agregar información adicional respectiva al entorno de una propiedad a partir del [conjunto de datos de AirBnB](https://www.kaggle.com/tylerx/melbourne-airbnb-open-data?select=cleansed_listings_dec18.csv) utilizado en el práctico. \n",
        "     1. Seleccionar qué variables agregar y qué combinaciones aplicar a cada una. Por ejemplo, pueden utilizar solo la columna `price`, o aplicar múltiples transformaciones como la mediana o el mínimo.\n",
        "     2. Utilizar la variable zipcode para unir los conjuntos de datos. Sólo incluir los zipcodes que tengan una cantidad mínima de registros (a elección) como para que la información agregada sea relevante.\n",
        "     3. Investigar al menos otras 2 variables que puedan servir para combinar los datos, y justificar si serían adecuadas o no. Pueden asumir que cuentan con la ayuda de anotadores expertos para encontrar equivalencias entre barrios o direcciones, o que cuentan con algoritmos para encontrar las n ubicaciones más cercanas a una propiedad a partir de sus coordenadas geográficas. **NO** es necesario que realicen la implementación.\n",
        "\n",
        "Pueden leer otras columnas del conjunto de AirBnB además de las que están en `interesting_cols`, si les parecen relevantes."
      ]
    },
    {
      "cell_type": "code",
      "metadata": {
        "id": "Ou8rx7inWQr-"
      },
      "source": [
        "# data source:\n",
        "# https://www.kaggle.com/tylerx/melbourne-airbnb-open-data?select=cleansed_listings_dec18.csv\n",
        "interesting_cols = [\n",
        "    'description', 'neighborhood_overview', 'transit',\n",
        "    'street', 'neighborhood', 'city', 'suburb',\n",
        "    'state', 'zipcode', 'latitude', 'longitude',\n",
        "    'price', 'weekly_price', 'monthly_price',\n",
        "    'review_scores_location',\n",
        "]\n",
        "airbnb_df = pd.read_csv(\n",
        "#     'https://cs.famaf.unc.edu.ar/~mteruel/datasets/diplodatos/cleansed_listings_dec18.csv',\n",
        "    \"./data/cleansed_listings_dec18.csv\",\n",
        "    usecols=interesting_cols,\n",
        "    low_memory=False,\n",
        ")\n",
        "\n",
        "airbnb_df.zipcode = pd.to_numeric(airbnb_df.zipcode, errors=\"coerce\").fillna(0).astype(int)\n",
        "airbnb_df.head()"
      ],
      "execution_count": null,
      "outputs": []
    },
    {
      "cell_type": "code",
      "metadata": {
        "id": "PwBW3IDUWQr_"
      },
      "source": [
        "airbnb_df = airbnb_df[(airbnb_df.price > 0) & (airbnb_df.price < 300)]\n",
        "airbnb_df.describe()"
      ],
      "execution_count": null,
      "outputs": []
    },
    {
      "cell_type": "code",
      "metadata": {
        "id": "0jU_F6l_WQr_"
      },
      "source": [
        "suburb_melb = set(melb_df.suburb.tolist())\n",
        "suburb_airbnb = set(airbnb_df.suburb.tolist())\n",
        "\n",
        "print(f\"Total de suburb en melb: {len(suburb_melb)}\")\n",
        "print(f\"Total de suburb intersección: {len(suburb_melb.intersection(suburb_airbnb))}\")\n",
        "print(f\"suburb que no están en airbnb: {suburb_melb.difference(suburb_airbnb)}\")"
      ],
      "execution_count": null,
      "outputs": []
    },
    {
      "cell_type": "code",
      "metadata": {
        "id": "yor5iVDCWQsA"
      },
      "source": [
        "# Agrupo los airbnb que están a 1, 2.5 o 5 km de distancia del anuncio\n",
        "# Y calculo algunos valores\n",
        "# Esto toma un tiempo así anda por el mate\n",
        "\n",
        "results = []\n",
        "for i, row in melb_df.iterrows():\n",
        "    if i % 100 == 0:\n",
        "        print(f\"\\rProcesando fila: {i} de {len(melb_df)}\", end=\"\")\n",
        "\n",
        "    airbnb_df[\"dist\"] = haversine_np(airbnb_df.latitude, airbnb_df.longitude, row.lat, row.lng)\n",
        "\n",
        "    result = {\n",
        "        \"lat\": row.lat,\n",
        "        \"lng\": row.lng,\n",
        "    }\n",
        "\n",
        "    for d in [1, 2, 2.5]:\n",
        "        d = airbnb_df[airbnb_df.dist < d] \\\n",
        "            .agg({\"dist\": \"count\", \"price\": \"mean\", \"review_scores_location\": \"mean\"}) \\\n",
        "            .rename({\"dist\": f\"count_{d}km\", \"price\": f\"price_mean_{d}km\", \"review_scores_location\": f\"review_mean_{d}km\"})\n",
        "\n",
        "        result = {**result, **d}\n",
        "    results.append(result)"
      ],
      "execution_count": null,
      "outputs": []
    },
    {
      "cell_type": "code",
      "metadata": {
        "id": "LjmOH8LOWQsA"
      },
      "source": [
        "results = pd.DataFrame(results)\n",
        "results.head()"
      ],
      "execution_count": null,
      "outputs": []
    },
    {
      "cell_type": "code",
      "metadata": {
        "id": "gVCeOGO8WQsA"
      },
      "source": [
        "melb_df = pd.merge(melb_df, results, on=[\"lat\", \"lng\"])\n",
        "melb_df.head()"
      ],
      "execution_count": null,
      "outputs": []
    },
    {
      "cell_type": "code",
      "metadata": {
        "id": "xAuTXMvvWQsB"
      },
      "source": [
        "melb_df.groupby(\"count_1km_x\")[\"count_1km_x\"].count().sort_values()"
      ],
      "execution_count": null,
      "outputs": []
    },
    {
      "cell_type": "markdown",
      "metadata": {
        "id": "GG0I7H3AWQsB"
      },
      "source": [
        ":up: Vamos a tener que imputar algunos valores"
      ]
    },
    {
      "cell_type": "markdown",
      "metadata": {
        "id": "AcOzAkBlWQsB"
      },
      "source": [
        "Teniendo la lat y lng de cada casa, podemos usar la api de open streen map para buscar información relevante en la cercania de las propiedades como:\n",
        "- Escuelas\n",
        "- Plazas\n",
        "- Supermercados"
      ]
    },
    {
      "cell_type": "code",
      "metadata": {
        "id": "BJCPqC-OWQsC"
      },
      "source": [
        ""
      ],
      "execution_count": null,
      "outputs": []
    },
    {
      "cell_type": "markdown",
      "metadata": {
        "id": "ismngxPcfoWb"
      },
      "source": [
        "## Ejercicio 2: Imputación\n",
        "\n",
        "1. Imputar los valores faltantes de la columna CouncilArea en base a la información presente en Suburb. (Si en el punto anterior no seleccionó ninguna de estas variables, agréguelas ahora el conjunto de datos).\n",
        "\n",
        "2. Imputar los valores faltantes de la(s) columna(s) que se agregaron a partir del conjunto de datos de AirBnB.\n",
        "\n"
      ]
    },
    {
      "cell_type": "markdown",
      "metadata": {
        "id": "G4ClSr_JapCw"
      },
      "source": [
        "- Imputar la cantidad de baños considerando la cantidad de habitaciones y el sub\n",
        "- Imputar el tamaño del terreno segun la cantidad de habitaciones, baños y sub"
      ]
    },
    {
      "cell_type": "markdown",
      "metadata": {
        "id": "NBN7-5OIxjJW"
      },
      "source": [
        "## Ejercicio 3\n",
        "\n",
        "Crear y guardar un nuevo conjunto de datos con todas las transformaciones realizadas anteriormente."
      ]
    },
    {
      "cell_type": "markdown",
      "metadata": {
        "id": "Bq7nuPg2HIYx"
      },
      "source": [
        ""
      ]
    }
  ]
}